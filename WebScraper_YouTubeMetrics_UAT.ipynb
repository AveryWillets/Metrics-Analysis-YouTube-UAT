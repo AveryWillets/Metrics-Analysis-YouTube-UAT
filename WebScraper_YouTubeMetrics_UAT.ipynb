{
  "nbformat": 4,
  "nbformat_minor": 0,
  "metadata": {
    "colab": {
      "provenance": []
    },
    "kernelspec": {
      "name": "python3",
      "display_name": "Python 3"
    },
    "language_info": {
      "name": "python"
    }
  },
  "cells": [
    {
      "cell_type": "markdown",
      "source": [
        "**-PREPARING ENVIRONMENT-**"
      ],
      "metadata": {
        "id": "93lat6FVp2iY"
      }
    },
    {
      "cell_type": "code",
      "execution_count": null,
      "metadata": {
        "colab": {
          "base_uri": "https://localhost:8080/"
        },
        "id": "iwbbmClRcgLE",
        "outputId": "12250689-3268-40a3-9ada-29bd66f0ee13"
      },
      "outputs": [
        {
          "output_type": "stream",
          "name": "stdout",
          "text": [
            "Requirement already satisfied: google-api-python-client in /usr/local/lib/python3.11/dist-packages (2.160.0)\n",
            "Collecting google-api-python-client\n",
            "  Downloading google_api_python_client-2.164.0-py2.py3-none-any.whl.metadata (6.7 kB)\n",
            "Requirement already satisfied: httplib2<1.dev0,>=0.19.0 in /usr/local/lib/python3.11/dist-packages (from google-api-python-client) (0.22.0)\n",
            "Requirement already satisfied: google-auth!=2.24.0,!=2.25.0,<3.0.0.dev0,>=1.32.0 in /usr/local/lib/python3.11/dist-packages (from google-api-python-client) (2.38.0)\n",
            "Requirement already satisfied: google-auth-httplib2<1.0.0,>=0.2.0 in /usr/local/lib/python3.11/dist-packages (from google-api-python-client) (0.2.0)\n",
            "Requirement already satisfied: google-api-core!=2.0.*,!=2.1.*,!=2.2.*,!=2.3.0,<3.0.0.dev0,>=1.31.5 in /usr/local/lib/python3.11/dist-packages (from google-api-python-client) (2.24.1)\n",
            "Requirement already satisfied: uritemplate<5,>=3.0.1 in /usr/local/lib/python3.11/dist-packages (from google-api-python-client) (4.1.1)\n",
            "Requirement already satisfied: googleapis-common-protos<2.0.dev0,>=1.56.2 in /usr/local/lib/python3.11/dist-packages (from google-api-core!=2.0.*,!=2.1.*,!=2.2.*,!=2.3.0,<3.0.0.dev0,>=1.31.5->google-api-python-client) (1.69.1)\n",
            "Requirement already satisfied: protobuf!=3.20.0,!=3.20.1,!=4.21.0,!=4.21.1,!=4.21.2,!=4.21.3,!=4.21.4,!=4.21.5,<6.0.0.dev0,>=3.19.5 in /usr/local/lib/python3.11/dist-packages (from google-api-core!=2.0.*,!=2.1.*,!=2.2.*,!=2.3.0,<3.0.0.dev0,>=1.31.5->google-api-python-client) (4.25.6)\n",
            "Requirement already satisfied: proto-plus<2.0.0dev,>=1.22.3 in /usr/local/lib/python3.11/dist-packages (from google-api-core!=2.0.*,!=2.1.*,!=2.2.*,!=2.3.0,<3.0.0.dev0,>=1.31.5->google-api-python-client) (1.26.0)\n",
            "Requirement already satisfied: requests<3.0.0.dev0,>=2.18.0 in /usr/local/lib/python3.11/dist-packages (from google-api-core!=2.0.*,!=2.1.*,!=2.2.*,!=2.3.0,<3.0.0.dev0,>=1.31.5->google-api-python-client) (2.32.3)\n",
            "Requirement already satisfied: cachetools<6.0,>=2.0.0 in /usr/local/lib/python3.11/dist-packages (from google-auth!=2.24.0,!=2.25.0,<3.0.0.dev0,>=1.32.0->google-api-python-client) (5.5.2)\n",
            "Requirement already satisfied: pyasn1-modules>=0.2.1 in /usr/local/lib/python3.11/dist-packages (from google-auth!=2.24.0,!=2.25.0,<3.0.0.dev0,>=1.32.0->google-api-python-client) (0.4.1)\n",
            "Requirement already satisfied: rsa<5,>=3.1.4 in /usr/local/lib/python3.11/dist-packages (from google-auth!=2.24.0,!=2.25.0,<3.0.0.dev0,>=1.32.0->google-api-python-client) (4.9)\n",
            "Requirement already satisfied: pyparsing!=3.0.0,!=3.0.1,!=3.0.2,!=3.0.3,<4,>=2.4.2 in /usr/local/lib/python3.11/dist-packages (from httplib2<1.dev0,>=0.19.0->google-api-python-client) (3.2.1)\n",
            "Requirement already satisfied: pyasn1<0.7.0,>=0.4.6 in /usr/local/lib/python3.11/dist-packages (from pyasn1-modules>=0.2.1->google-auth!=2.24.0,!=2.25.0,<3.0.0.dev0,>=1.32.0->google-api-python-client) (0.6.1)\n",
            "Requirement already satisfied: charset-normalizer<4,>=2 in /usr/local/lib/python3.11/dist-packages (from requests<3.0.0.dev0,>=2.18.0->google-api-core!=2.0.*,!=2.1.*,!=2.2.*,!=2.3.0,<3.0.0.dev0,>=1.31.5->google-api-python-client) (3.4.1)\n",
            "Requirement already satisfied: idna<4,>=2.5 in /usr/local/lib/python3.11/dist-packages (from requests<3.0.0.dev0,>=2.18.0->google-api-core!=2.0.*,!=2.1.*,!=2.2.*,!=2.3.0,<3.0.0.dev0,>=1.31.5->google-api-python-client) (3.10)\n",
            "Requirement already satisfied: urllib3<3,>=1.21.1 in /usr/local/lib/python3.11/dist-packages (from requests<3.0.0.dev0,>=2.18.0->google-api-core!=2.0.*,!=2.1.*,!=2.2.*,!=2.3.0,<3.0.0.dev0,>=1.31.5->google-api-python-client) (2.3.0)\n",
            "Requirement already satisfied: certifi>=2017.4.17 in /usr/local/lib/python3.11/dist-packages (from requests<3.0.0.dev0,>=2.18.0->google-api-core!=2.0.*,!=2.1.*,!=2.2.*,!=2.3.0,<3.0.0.dev0,>=1.31.5->google-api-python-client) (2025.1.31)\n",
            "Downloading google_api_python_client-2.164.0-py2.py3-none-any.whl (13.1 MB)\n",
            "\u001b[2K   \u001b[90m━━━━━━━━━━━━━━━━━━━━━━━━━━━━━━━━━━━━━━━━\u001b[0m \u001b[32m13.1/13.1 MB\u001b[0m \u001b[31m21.1 MB/s\u001b[0m eta \u001b[36m0:00:00\u001b[0m\n",
            "\u001b[?25hInstalling collected packages: google-api-python-client\n",
            "  Attempting uninstall: google-api-python-client\n",
            "    Found existing installation: google-api-python-client 2.160.0\n",
            "    Uninstalling google-api-python-client-2.160.0:\n",
            "      Successfully uninstalled google-api-python-client-2.160.0\n",
            "Successfully installed google-api-python-client-2.164.0\n"
          ]
        }
      ],
      "source": [
        "pip install --upgrade google-api-python-client"
      ]
    },
    {
      "cell_type": "code",
      "source": [
        "# Importing necessary libraries\n",
        "import os\n",
        "from googleapiclient.discovery import build\n",
        "import pandas as pd\n",
        "import seaborn as sns\n",
        "import matplotlib.pyplot as plt"
      ],
      "metadata": {
        "id": "0cYgEkdTcxna"
      },
      "execution_count": null,
      "outputs": []
    },
    {
      "cell_type": "markdown",
      "source": [
        "**-BUILDING SCRAPER-**"
      ],
      "metadata": {
        "id": "G9XYFrVxp9Rw"
      }
    },
    {
      "cell_type": "code",
      "source": [
        "API_KEY = 'YOUR_API_KEY' # Please replace with your own API key for analysis\n",
        "youtube = build('youtube', 'v3', developerKey=API_KEY)"
      ],
      "metadata": {
        "id": "2ufN9dsZc7-D"
      },
      "execution_count": null,
      "outputs": []
    },
    {
      "cell_type": "code",
      "source": [
        "# Function: Get video data by video ID\n",
        "def get_video_data(video_id):\n",
        "  request = youtube.videos().list(\n",
        "      part='snippet,statistics,contentDetails',\n",
        "      id=video_id\n",
        "  )\n",
        "  response = request.execute()\n",
        "\n",
        "  if 'items' in response:\n",
        "    video_data = response['items'][0]\n",
        "    title = video_data['snippet']['title']\n",
        "    release_date = video_data['snippet']['publishedAt']\n",
        "    view_count = video_data['statistics']['viewCount']\n",
        "    like_count = video_data['statistics']['likeCount']\n",
        "    comment_count = video_data['statistics']['commentCount']\n",
        "    tags = video_data['snippet'].get('tags', [])\n",
        "    vid_length = video_data['contentDetails']['duration']\n",
        "\n",
        "    data = {\n",
        "      'title': title,\n",
        "      'release_date': release_date,\n",
        "      'view_count': view_count,\n",
        "      'like_count': like_count,\n",
        "      'comment_count': comment_count,\n",
        "      'tags': tags,\n",
        "      'vid_length': vid_length\n",
        "    }\n",
        "    return data\n",
        "  else:\n",
        "    return None"
      ],
      "metadata": {
        "id": "24YjxWWKc_ma"
      },
      "execution_count": null,
      "outputs": []
    },
    {
      "cell_type": "code",
      "source": [
        "# Testing connection\n",
        "video_id = 'tTVODRiVDCg'\n",
        "video_data = get_video_data(video_id)\n",
        "\n",
        "# Check if video_data is not None and has data\n",
        "if video_data and any(video_data.values()):\n",
        "    df = pd.DataFrame([video_data]) # Create a list of dict for single entry\n",
        "    print(df)\n",
        "else:\n",
        "    print(\"No data found for the video or video not found.\")"
      ],
      "metadata": {
        "colab": {
          "base_uri": "https://localhost:8080/"
        },
        "id": "vnkve86Ae3Sk",
        "outputId": "e1b0e64f-eca1-4313-9f14-6795811f5ef6"
      },
      "execution_count": null,
      "outputs": [
        {
          "output_type": "stream",
          "name": "stdout",
          "text": [
            "              title          release_date view_count like_count comment_count  \\\n",
            "0  UAT Cyber Ninjas  2025-03-06T22:04:28Z         60          3             0   \n",
            "\n",
            "  tags vid_length  \n",
            "0   []    PT1M30S  \n"
          ]
        }
      ]
    },
    {
      "cell_type": "markdown",
      "source": [
        "Collecting all uploads from one channel"
      ],
      "metadata": {
        "id": "eoSA8EbVd-p7"
      }
    },
    {
      "cell_type": "code",
      "source": [
        "import time"
      ],
      "metadata": {
        "id": "NuHgf1R0d8wk"
      },
      "execution_count": null,
      "outputs": []
    },
    {
      "cell_type": "code",
      "source": [
        "# Function: get video data (view count, like count, comments, release date)\n",
        "def get_video_data(video_id):\n",
        "    request = youtube.videos().list(\n",
        "        part=\"snippet,statistics,contentDetails\",\n",
        "        id=video_id\n",
        "    )\n",
        "    response = request.execute()\n",
        "\n",
        "    if 'items' in response:\n",
        "        video = response['items'][0]\n",
        "        title = video['snippet']['title']\n",
        "        release_date = video['snippet']['publishedAt']\n",
        "        views = video['statistics'].get('viewCount', 'Not available')\n",
        "        likes = video['statistics'].get('likeCount', 'Not available')\n",
        "        comments = video['statistics'].get('commentCount', 'Not available')\n",
        "        tags = video['snippet'].get('tags', 'Not available')\n",
        "        vid_length = video['contentDetails']['duration']\n",
        "\n",
        "        # Returning the data in a dictionary\n",
        "        return {\n",
        "            'video_id': video_id,\n",
        "            'title': title,\n",
        "            'release_date': release_date,\n",
        "            'views': views,\n",
        "            'likes': likes,\n",
        "            'comments': comments,\n",
        "            'tags': tags,\n",
        "            'vid_length': vid_length\n",
        "        }\n",
        "    else:\n",
        "        print(f\"Video {video_id} not found\")\n",
        "        return None"
      ],
      "metadata": {
        "id": "QmksWbOXeGKU"
      },
      "execution_count": null,
      "outputs": []
    },
    {
      "cell_type": "code",
      "source": [
        "# Function: get all video IDs from a channel's uploads playlist\n",
        "def get_video_ids_from_channel(channel_id):\n",
        "    # First, fetch the uploads playlist ID\n",
        "    request = youtube.channels().list(\n",
        "        part=\"contentDetails\",\n",
        "        id=channel_id\n",
        "    )\n",
        "    response = request.execute()\n",
        "\n",
        "    # Getting the playlist ID from the response\n",
        "    uploads_playlist_id = response['items'][0]['contentDetails']['relatedPlaylists']['uploads']\n",
        "\n",
        "    # Fetching all video IDs in the uploads playlist\n",
        "    video_ids = []\n",
        "    next_page_token = None\n",
        "\n",
        "    while True:\n",
        "        playlist_request = youtube.playlistItems().list(\n",
        "            part=\"snippet\",\n",
        "            playlistId=uploads_playlist_id,\n",
        "            maxResults=50,  # Max allowed by YouTube\n",
        "            pageToken=next_page_token\n",
        "        )\n",
        "        playlist_response = playlist_request.execute()\n",
        "\n",
        "        # Collecting video IDs for this page of results\n",
        "        for item in playlist_response['items']:\n",
        "            video_ids.append(item['snippet']['resourceId']['videoId'])\n",
        "\n",
        "        # Checking if there is another page of results\n",
        "        next_page_token = playlist_response.get('nextPageToken')\n",
        "        if not next_page_token:\n",
        "            break\n",
        "\n",
        "        # Delay to avoid rate limits (originally an issue)\n",
        "        time.sleep(3)\n",
        "\n",
        "    return video_ids"
      ],
      "metadata": {
        "id": "4eQQp-PyeakE"
      },
      "execution_count": null,
      "outputs": []
    },
    {
      "cell_type": "code",
      "source": [
        "# Function: Gather data for all videos in channel and store to csv file\n",
        "def collect_video_data(channel_id):\n",
        "    video_ids = get_video_ids_from_channel(channel_id)\n",
        "    all_video_data = []\n",
        "\n",
        "    for video_id in video_ids:\n",
        "        video_data = get_video_data(video_id)\n",
        "        if video_data:\n",
        "            all_video_data.append(video_data)\n",
        "\n",
        "    # assigning appended data to dataframe\n",
        "    df = pd.DataFrame(all_video_data)\n",
        "\n",
        "    # Convert the list of video data into a DataFrame, update to csv every 50 vids\n",
        "    if len(all_video_data) % 50 == 0:\n",
        "      df.to_csv('youtube_video_data.csv', index=False, mode='a')\n",
        "    return df"
      ],
      "metadata": {
        "id": "k0Z842offNJl"
      },
      "execution_count": null,
      "outputs": []
    },
    {
      "cell_type": "markdown",
      "source": [
        "**-COLLECTING DATA-**"
      ],
      "metadata": {
        "id": "ABJD1madqH9Q"
      }
    },
    {
      "cell_type": "code",
      "source": [
        "# Implementing the scraper\n",
        "# UAT's channel ID\n",
        "channel_id = 'Channel_ID' # Replace with channel ID\n",
        "channel_df = collect_video_data(channel_id)\n",
        "\n",
        "# Ensure the DataFrame is saved to the CSV file\n",
        "channel_df.to_csv('youtube_data_UAT.csv', index=False, mode='w')  # mode='w' to overwrite"
      ],
      "metadata": {
        "id": "yzyHAn8nfQP1"
      },
      "execution_count": null,
      "outputs": []
    },
    {
      "cell_type": "code",
      "source": [
        "df = pd.read_csv('/content/youtube_data_UAT.csv')\n",
        "df.head()"
      ],
      "metadata": {
        "colab": {
          "base_uri": "https://localhost:8080/",
          "height": 206
        },
        "id": "qFNxxud8fnZO",
        "outputId": "153a6760-b257-4a60-d8a7-2bb7558df6b7"
      },
      "execution_count": null,
      "outputs": [
        {
          "output_type": "execute_result",
          "data": {
            "text/plain": [
              "      video_id                                         title  \\\n",
              "0  tTVODRiVDCg                              UAT Cyber Ninjas   \n",
              "1  W5SA-6wphWA              2024 Valedictorian Tyler Widener   \n",
              "2  4FXI2GgEus8                      Your Idea of Fun is tech   \n",
              "3  IfrdgzxlgFE               Looking for future UAT Students   \n",
              "4  a6lS9iEcr70  Check out University of Advancing Technology   \n",
              "\n",
              "           release_date views  likes  comments           tags vid_length  \n",
              "0  2025-03-06T22:04:28Z    60      3         0  Not available    PT1M30S  \n",
              "1  2025-02-26T18:01:39Z    32      1         0  Not available      PT16S  \n",
              "2  2025-02-26T17:59:15Z   452      8         0  Not available       PT4S  \n",
              "3  2025-02-26T17:51:14Z   725     33         0  Not available       PT6S  \n",
              "4  2025-02-26T17:49:12Z   455     10         0  Not available       PT6S  "
            ],
            "text/html": [
              "\n",
              "  <div id=\"df-8ad4aa33-fff4-4ad8-8a9b-00a9d596896b\" class=\"colab-df-container\">\n",
              "    <div>\n",
              "<style scoped>\n",
              "    .dataframe tbody tr th:only-of-type {\n",
              "        vertical-align: middle;\n",
              "    }\n",
              "\n",
              "    .dataframe tbody tr th {\n",
              "        vertical-align: top;\n",
              "    }\n",
              "\n",
              "    .dataframe thead th {\n",
              "        text-align: right;\n",
              "    }\n",
              "</style>\n",
              "<table border=\"1\" class=\"dataframe\">\n",
              "  <thead>\n",
              "    <tr style=\"text-align: right;\">\n",
              "      <th></th>\n",
              "      <th>video_id</th>\n",
              "      <th>title</th>\n",
              "      <th>release_date</th>\n",
              "      <th>views</th>\n",
              "      <th>likes</th>\n",
              "      <th>comments</th>\n",
              "      <th>tags</th>\n",
              "      <th>vid_length</th>\n",
              "    </tr>\n",
              "  </thead>\n",
              "  <tbody>\n",
              "    <tr>\n",
              "      <th>0</th>\n",
              "      <td>tTVODRiVDCg</td>\n",
              "      <td>UAT Cyber Ninjas</td>\n",
              "      <td>2025-03-06T22:04:28Z</td>\n",
              "      <td>60</td>\n",
              "      <td>3</td>\n",
              "      <td>0</td>\n",
              "      <td>Not available</td>\n",
              "      <td>PT1M30S</td>\n",
              "    </tr>\n",
              "    <tr>\n",
              "      <th>1</th>\n",
              "      <td>W5SA-6wphWA</td>\n",
              "      <td>2024 Valedictorian Tyler Widener</td>\n",
              "      <td>2025-02-26T18:01:39Z</td>\n",
              "      <td>32</td>\n",
              "      <td>1</td>\n",
              "      <td>0</td>\n",
              "      <td>Not available</td>\n",
              "      <td>PT16S</td>\n",
              "    </tr>\n",
              "    <tr>\n",
              "      <th>2</th>\n",
              "      <td>4FXI2GgEus8</td>\n",
              "      <td>Your Idea of Fun is tech</td>\n",
              "      <td>2025-02-26T17:59:15Z</td>\n",
              "      <td>452</td>\n",
              "      <td>8</td>\n",
              "      <td>0</td>\n",
              "      <td>Not available</td>\n",
              "      <td>PT4S</td>\n",
              "    </tr>\n",
              "    <tr>\n",
              "      <th>3</th>\n",
              "      <td>IfrdgzxlgFE</td>\n",
              "      <td>Looking for future UAT Students</td>\n",
              "      <td>2025-02-26T17:51:14Z</td>\n",
              "      <td>725</td>\n",
              "      <td>33</td>\n",
              "      <td>0</td>\n",
              "      <td>Not available</td>\n",
              "      <td>PT6S</td>\n",
              "    </tr>\n",
              "    <tr>\n",
              "      <th>4</th>\n",
              "      <td>a6lS9iEcr70</td>\n",
              "      <td>Check out University of Advancing Technology</td>\n",
              "      <td>2025-02-26T17:49:12Z</td>\n",
              "      <td>455</td>\n",
              "      <td>10</td>\n",
              "      <td>0</td>\n",
              "      <td>Not available</td>\n",
              "      <td>PT6S</td>\n",
              "    </tr>\n",
              "  </tbody>\n",
              "</table>\n",
              "</div>\n",
              "    <div class=\"colab-df-buttons\">\n",
              "\n",
              "  <div class=\"colab-df-container\">\n",
              "    <button class=\"colab-df-convert\" onclick=\"convertToInteractive('df-8ad4aa33-fff4-4ad8-8a9b-00a9d596896b')\"\n",
              "            title=\"Convert this dataframe to an interactive table.\"\n",
              "            style=\"display:none;\">\n",
              "\n",
              "  <svg xmlns=\"http://www.w3.org/2000/svg\" height=\"24px\" viewBox=\"0 -960 960 960\">\n",
              "    <path d=\"M120-120v-720h720v720H120Zm60-500h600v-160H180v160Zm220 220h160v-160H400v160Zm0 220h160v-160H400v160ZM180-400h160v-160H180v160Zm440 0h160v-160H620v160ZM180-180h160v-160H180v160Zm440 0h160v-160H620v160Z\"/>\n",
              "  </svg>\n",
              "    </button>\n",
              "\n",
              "  <style>\n",
              "    .colab-df-container {\n",
              "      display:flex;\n",
              "      gap: 12px;\n",
              "    }\n",
              "\n",
              "    .colab-df-convert {\n",
              "      background-color: #E8F0FE;\n",
              "      border: none;\n",
              "      border-radius: 50%;\n",
              "      cursor: pointer;\n",
              "      display: none;\n",
              "      fill: #1967D2;\n",
              "      height: 32px;\n",
              "      padding: 0 0 0 0;\n",
              "      width: 32px;\n",
              "    }\n",
              "\n",
              "    .colab-df-convert:hover {\n",
              "      background-color: #E2EBFA;\n",
              "      box-shadow: 0px 1px 2px rgba(60, 64, 67, 0.3), 0px 1px 3px 1px rgba(60, 64, 67, 0.15);\n",
              "      fill: #174EA6;\n",
              "    }\n",
              "\n",
              "    .colab-df-buttons div {\n",
              "      margin-bottom: 4px;\n",
              "    }\n",
              "\n",
              "    [theme=dark] .colab-df-convert {\n",
              "      background-color: #3B4455;\n",
              "      fill: #D2E3FC;\n",
              "    }\n",
              "\n",
              "    [theme=dark] .colab-df-convert:hover {\n",
              "      background-color: #434B5C;\n",
              "      box-shadow: 0px 1px 3px 1px rgba(0, 0, 0, 0.15);\n",
              "      filter: drop-shadow(0px 1px 2px rgba(0, 0, 0, 0.3));\n",
              "      fill: #FFFFFF;\n",
              "    }\n",
              "  </style>\n",
              "\n",
              "    <script>\n",
              "      const buttonEl =\n",
              "        document.querySelector('#df-8ad4aa33-fff4-4ad8-8a9b-00a9d596896b button.colab-df-convert');\n",
              "      buttonEl.style.display =\n",
              "        google.colab.kernel.accessAllowed ? 'block' : 'none';\n",
              "\n",
              "      async function convertToInteractive(key) {\n",
              "        const element = document.querySelector('#df-8ad4aa33-fff4-4ad8-8a9b-00a9d596896b');\n",
              "        const dataTable =\n",
              "          await google.colab.kernel.invokeFunction('convertToInteractive',\n",
              "                                                    [key], {});\n",
              "        if (!dataTable) return;\n",
              "\n",
              "        const docLinkHtml = 'Like what you see? Visit the ' +\n",
              "          '<a target=\"_blank\" href=https://colab.research.google.com/notebooks/data_table.ipynb>data table notebook</a>'\n",
              "          + ' to learn more about interactive tables.';\n",
              "        element.innerHTML = '';\n",
              "        dataTable['output_type'] = 'display_data';\n",
              "        await google.colab.output.renderOutput(dataTable, element);\n",
              "        const docLink = document.createElement('div');\n",
              "        docLink.innerHTML = docLinkHtml;\n",
              "        element.appendChild(docLink);\n",
              "      }\n",
              "    </script>\n",
              "  </div>\n",
              "\n",
              "\n",
              "<div id=\"df-ea06b795-302d-4007-836b-d5a1c1525f8a\">\n",
              "  <button class=\"colab-df-quickchart\" onclick=\"quickchart('df-ea06b795-302d-4007-836b-d5a1c1525f8a')\"\n",
              "            title=\"Suggest charts\"\n",
              "            style=\"display:none;\">\n",
              "\n",
              "<svg xmlns=\"http://www.w3.org/2000/svg\" height=\"24px\"viewBox=\"0 0 24 24\"\n",
              "     width=\"24px\">\n",
              "    <g>\n",
              "        <path d=\"M19 3H5c-1.1 0-2 .9-2 2v14c0 1.1.9 2 2 2h14c1.1 0 2-.9 2-2V5c0-1.1-.9-2-2-2zM9 17H7v-7h2v7zm4 0h-2V7h2v10zm4 0h-2v-4h2v4z\"/>\n",
              "    </g>\n",
              "</svg>\n",
              "  </button>\n",
              "\n",
              "<style>\n",
              "  .colab-df-quickchart {\n",
              "      --bg-color: #E8F0FE;\n",
              "      --fill-color: #1967D2;\n",
              "      --hover-bg-color: #E2EBFA;\n",
              "      --hover-fill-color: #174EA6;\n",
              "      --disabled-fill-color: #AAA;\n",
              "      --disabled-bg-color: #DDD;\n",
              "  }\n",
              "\n",
              "  [theme=dark] .colab-df-quickchart {\n",
              "      --bg-color: #3B4455;\n",
              "      --fill-color: #D2E3FC;\n",
              "      --hover-bg-color: #434B5C;\n",
              "      --hover-fill-color: #FFFFFF;\n",
              "      --disabled-bg-color: #3B4455;\n",
              "      --disabled-fill-color: #666;\n",
              "  }\n",
              "\n",
              "  .colab-df-quickchart {\n",
              "    background-color: var(--bg-color);\n",
              "    border: none;\n",
              "    border-radius: 50%;\n",
              "    cursor: pointer;\n",
              "    display: none;\n",
              "    fill: var(--fill-color);\n",
              "    height: 32px;\n",
              "    padding: 0;\n",
              "    width: 32px;\n",
              "  }\n",
              "\n",
              "  .colab-df-quickchart:hover {\n",
              "    background-color: var(--hover-bg-color);\n",
              "    box-shadow: 0 1px 2px rgba(60, 64, 67, 0.3), 0 1px 3px 1px rgba(60, 64, 67, 0.15);\n",
              "    fill: var(--button-hover-fill-color);\n",
              "  }\n",
              "\n",
              "  .colab-df-quickchart-complete:disabled,\n",
              "  .colab-df-quickchart-complete:disabled:hover {\n",
              "    background-color: var(--disabled-bg-color);\n",
              "    fill: var(--disabled-fill-color);\n",
              "    box-shadow: none;\n",
              "  }\n",
              "\n",
              "  .colab-df-spinner {\n",
              "    border: 2px solid var(--fill-color);\n",
              "    border-color: transparent;\n",
              "    border-bottom-color: var(--fill-color);\n",
              "    animation:\n",
              "      spin 1s steps(1) infinite;\n",
              "  }\n",
              "\n",
              "  @keyframes spin {\n",
              "    0% {\n",
              "      border-color: transparent;\n",
              "      border-bottom-color: var(--fill-color);\n",
              "      border-left-color: var(--fill-color);\n",
              "    }\n",
              "    20% {\n",
              "      border-color: transparent;\n",
              "      border-left-color: var(--fill-color);\n",
              "      border-top-color: var(--fill-color);\n",
              "    }\n",
              "    30% {\n",
              "      border-color: transparent;\n",
              "      border-left-color: var(--fill-color);\n",
              "      border-top-color: var(--fill-color);\n",
              "      border-right-color: var(--fill-color);\n",
              "    }\n",
              "    40% {\n",
              "      border-color: transparent;\n",
              "      border-right-color: var(--fill-color);\n",
              "      border-top-color: var(--fill-color);\n",
              "    }\n",
              "    60% {\n",
              "      border-color: transparent;\n",
              "      border-right-color: var(--fill-color);\n",
              "    }\n",
              "    80% {\n",
              "      border-color: transparent;\n",
              "      border-right-color: var(--fill-color);\n",
              "      border-bottom-color: var(--fill-color);\n",
              "    }\n",
              "    90% {\n",
              "      border-color: transparent;\n",
              "      border-bottom-color: var(--fill-color);\n",
              "    }\n",
              "  }\n",
              "</style>\n",
              "\n",
              "  <script>\n",
              "    async function quickchart(key) {\n",
              "      const quickchartButtonEl =\n",
              "        document.querySelector('#' + key + ' button');\n",
              "      quickchartButtonEl.disabled = true;  // To prevent multiple clicks.\n",
              "      quickchartButtonEl.classList.add('colab-df-spinner');\n",
              "      try {\n",
              "        const charts = await google.colab.kernel.invokeFunction(\n",
              "            'suggestCharts', [key], {});\n",
              "      } catch (error) {\n",
              "        console.error('Error during call to suggestCharts:', error);\n",
              "      }\n",
              "      quickchartButtonEl.classList.remove('colab-df-spinner');\n",
              "      quickchartButtonEl.classList.add('colab-df-quickchart-complete');\n",
              "    }\n",
              "    (() => {\n",
              "      let quickchartButtonEl =\n",
              "        document.querySelector('#df-ea06b795-302d-4007-836b-d5a1c1525f8a button');\n",
              "      quickchartButtonEl.style.display =\n",
              "        google.colab.kernel.accessAllowed ? 'block' : 'none';\n",
              "    })();\n",
              "  </script>\n",
              "</div>\n",
              "\n",
              "    </div>\n",
              "  </div>\n"
            ],
            "application/vnd.google.colaboratory.intrinsic+json": {
              "type": "dataframe",
              "variable_name": "df",
              "summary": "{\n  \"name\": \"df\",\n  \"rows\": 289,\n  \"fields\": [\n    {\n      \"column\": \"video_id\",\n      \"properties\": {\n        \"dtype\": \"string\",\n        \"num_unique_values\": 289,\n        \"samples\": [\n          \"FcIZT2vul7A\",\n          \"lD3WCIcRsos\",\n          \"n5O0Lv-5x4c\"\n        ],\n        \"semantic_type\": \"\",\n        \"description\": \"\"\n      }\n    },\n    {\n      \"column\": \"title\",\n      \"properties\": {\n        \"dtype\": \"string\",\n        \"num_unique_values\": 277,\n        \"samples\": [\n          \"Tutor Spotlight - Preston Chapman\",\n          \"Student Innovation Project Showcase Fall 2020\",\n          \"Lightmapping (Unity)\"\n        ],\n        \"semantic_type\": \"\",\n        \"description\": \"\"\n      }\n    },\n    {\n      \"column\": \"release_date\",\n      \"properties\": {\n        \"dtype\": \"object\",\n        \"num_unique_values\": 287,\n        \"samples\": [\n          \"2025-02-20T17:14:48Z\",\n          \"2013-04-10T02:06:51Z\",\n          \"2020-03-23T16:36:45Z\"\n        ],\n        \"semantic_type\": \"\",\n        \"description\": \"\"\n      }\n    },\n    {\n      \"column\": \"views\",\n      \"properties\": {\n        \"dtype\": \"string\",\n        \"num_unique_values\": 241,\n        \"samples\": [\n          \"67\",\n          \"446\",\n          \"846\"\n        ],\n        \"semantic_type\": \"\",\n        \"description\": \"\"\n      }\n    },\n    {\n      \"column\": \"likes\",\n      \"properties\": {\n        \"dtype\": \"number\",\n        \"std\": 124,\n        \"min\": 0,\n        \"max\": 1817,\n        \"num_unique_values\": 59,\n        \"samples\": [\n          3,\n          26,\n          67\n        ],\n        \"semantic_type\": \"\",\n        \"description\": \"\"\n      }\n    },\n    {\n      \"column\": \"comments\",\n      \"properties\": {\n        \"dtype\": \"number\",\n        \"std\": 4,\n        \"min\": 0,\n        \"max\": 40,\n        \"num_unique_values\": 20,\n        \"samples\": [\n          0,\n          27,\n          33\n        ],\n        \"semantic_type\": \"\",\n        \"description\": \"\"\n      }\n    },\n    {\n      \"column\": \"tags\",\n      \"properties\": {\n        \"dtype\": \"category\",\n        \"num_unique_values\": 122,\n        \"samples\": [\n          \"['new technology', 'innovation', 'new tech', 'CES', 'shorts']\",\n          \"['University of Advancing Technology', 'UAT', 'University of Advancing Technology graduation', 'UAT ceremony', 'UAT commencement ceremony', 'tech grads', 'tech respect', 'technology leaders', 'leaders in technology', 'design degree', 'programming degree', 'video degree', 'artificial intelligence degree', 'game art and animation', 'advancing computer science', 'innovate', 'create']\",\n          \"['university of advancing technology', 'stem jobs', 'Technology degrees', 'programming bachelor degree', 'programming universitites']\"\n        ],\n        \"semantic_type\": \"\",\n        \"description\": \"\"\n      }\n    },\n    {\n      \"column\": \"vid_length\",\n      \"properties\": {\n        \"dtype\": \"string\",\n        \"num_unique_values\": 226,\n        \"samples\": [\n          \"PT42S\",\n          \"PT26M4S\",\n          \"PT1H8M43S\"\n        ],\n        \"semantic_type\": \"\",\n        \"description\": \"\"\n      }\n    }\n  ]\n}"
            }
          },
          "metadata": {},
          "execution_count": 3
        }
      ]
    },
    {
      "cell_type": "code",
      "source": [
        "# Checking size of dataset\n",
        "df.shape"
      ],
      "metadata": {
        "colab": {
          "base_uri": "https://localhost:8080/"
        },
        "id": "Ks1ujcvohYDn",
        "outputId": "bb89731c-2cab-4494-8190-131814c4b8a7"
      },
      "execution_count": null,
      "outputs": [
        {
          "output_type": "execute_result",
          "data": {
            "text/plain": [
              "(289, 8)"
            ]
          },
          "metadata": {},
          "execution_count": 4
        }
      ]
    },
    {
      "cell_type": "markdown",
      "source": [
        "There are 289 videos within the dataset, with 8 unique features present."
      ],
      "metadata": {
        "id": "QhGyQJEnhrDX"
      }
    },
    {
      "cell_type": "code",
      "source": [
        "print(df.info())\n",
        "print(df.describe())"
      ],
      "metadata": {
        "colab": {
          "base_uri": "https://localhost:8080/"
        },
        "id": "pxHjFPIEhy13",
        "outputId": "2fda4092-584a-4e14-fe43-27c12db6ad2d"
      },
      "execution_count": null,
      "outputs": [
        {
          "output_type": "stream",
          "name": "stdout",
          "text": [
            "<class 'pandas.core.frame.DataFrame'>\n",
            "RangeIndex: 289 entries, 0 to 288\n",
            "Data columns (total 8 columns):\n",
            " #   Column        Non-Null Count  Dtype \n",
            "---  ------        --------------  ----- \n",
            " 0   video_id      289 non-null    object\n",
            " 1   title         289 non-null    object\n",
            " 2   release_date  289 non-null    object\n",
            " 3   views         289 non-null    object\n",
            " 4   likes         289 non-null    int64 \n",
            " 5   comments      289 non-null    int64 \n",
            " 6   tags          289 non-null    object\n",
            " 7   vid_length    289 non-null    object\n",
            "dtypes: int64(2), object(6)\n",
            "memory usage: 18.2+ KB\n",
            "None\n",
            "             likes    comments\n",
            "count   289.000000  289.000000\n",
            "mean     28.868512    1.519031\n",
            "std     124.481327    4.859179\n",
            "min       0.000000    0.000000\n",
            "25%       2.000000    0.000000\n",
            "50%       5.000000    0.000000\n",
            "75%      13.000000    1.000000\n",
            "max    1817.000000   40.000000\n"
          ]
        }
      ]
    },
    {
      "cell_type": "markdown",
      "source": [
        "EDA shows that there are no null values in the data. However, there are three numeric columns which must be typecasted as such, as they are currently objects:\n",
        "\n",
        "release_date (to datetime)\n",
        "\n",
        "views (to int64)\n",
        "\n",
        "vid_length (to viewable object)"
      ],
      "metadata": {
        "id": "t2ozEOzRiCII"
      }
    },
    {
      "cell_type": "markdown",
      "source": [
        "**-PREPARING DATA-**"
      ],
      "metadata": {
        "id": "FCqyIyFhqSqR"
      }
    },
    {
      "cell_type": "code",
      "source": [
        "# Typecasting to proper dtypes\n",
        "df['title'] = df['title'].astype(str)\n",
        "df['release_date'] = pd.to_datetime(df['release_date'])\n",
        "df['views'] = pd.to_numeric(df['views'], errors='coerce')"
      ],
      "metadata": {
        "id": "URzeq2MDi9Yp"
      },
      "execution_count": null,
      "outputs": []
    },
    {
      "cell_type": "code",
      "source": [
        "# Typecasting to proper dtypes\n",
        "df['title'] = df['title'].astype(str)\n",
        "df['release_date'] = pd.to_datetime(df['release_date'])\n",
        "df['views'] = pd.to_numeric(df['views'], errors='coerce')\n",
        "# Fill NaN values with 0 before converting to int64\n",
        "df['views'] = df['views'].fillna(0).astype('int64') # Fill NaN with 0 and then convert"
      ],
      "metadata": {
        "id": "rEqb-rWkk_fz"
      },
      "execution_count": null,
      "outputs": []
    },
    {
      "cell_type": "code",
      "source": [
        "# Converting video length to readable format\n",
        "import re\n",
        "\n",
        "def convert_duration(duration):\n",
        "    # Match hours, minutes, and seconds in the format PT#H#M#S\n",
        "    pattern = re.compile(r\"PT(?:(\\d+)H)?(?:(\\d+)M)?(?:(\\d+)S)?\")\n",
        "    match = pattern.match(duration)\n",
        "\n",
        "    if not match:\n",
        "        return None  # If the format is incorrect or doesn't match\n",
        "\n",
        "    # Extract hours, minutes, and seconds from the match (or 0 if not present)\n",
        "    hours = int(match.group(1) or 0)\n",
        "    minutes = int(match.group(2) or 0)\n",
        "    seconds = int(match.group(3) or 0)\n",
        "\n",
        "    # Return the time in hh:mm:ss format\n",
        "    return f\"{hours:02}:{minutes:02}:{seconds:02}\""
      ],
      "metadata": {
        "id": "7KyRaIKRjTZB"
      },
      "execution_count": null,
      "outputs": []
    },
    {
      "cell_type": "code",
      "source": [
        "df['vid_length'] = df['vid_length'].apply(convert_duration)"
      ],
      "metadata": {
        "id": "Q19xNTKyjtQ6"
      },
      "execution_count": null,
      "outputs": []
    },
    {
      "cell_type": "code",
      "source": [
        "print(df.info())\n",
        "print(df.describe())"
      ],
      "metadata": {
        "colab": {
          "base_uri": "https://localhost:8080/"
        },
        "id": "7Jxag9oKkDJq",
        "outputId": "b9d22d68-f4eb-4d57-ea73-c1bad33fd765"
      },
      "execution_count": null,
      "outputs": [
        {
          "output_type": "stream",
          "name": "stdout",
          "text": [
            "<class 'pandas.core.frame.DataFrame'>\n",
            "RangeIndex: 289 entries, 0 to 288\n",
            "Data columns (total 8 columns):\n",
            " #   Column        Non-Null Count  Dtype              \n",
            "---  ------        --------------  -----              \n",
            " 0   video_id      289 non-null    object             \n",
            " 1   title         289 non-null    object             \n",
            " 2   release_date  289 non-null    datetime64[ns, UTC]\n",
            " 3   views         289 non-null    int64              \n",
            " 4   likes         289 non-null    int64              \n",
            " 5   comments      289 non-null    int64              \n",
            " 6   tags          289 non-null    object             \n",
            " 7   vid_length    288 non-null    object             \n",
            "dtypes: datetime64[ns, UTC](1), int64(3), object(4)\n",
            "memory usage: 18.2+ KB\n",
            "None\n",
            "              views        likes    comments\n",
            "count  2.890000e+02   289.000000  289.000000\n",
            "mean   1.543899e+04    28.868512    1.519031\n",
            "std    1.487355e+05   124.481327    4.859179\n",
            "min    0.000000e+00     0.000000    0.000000\n",
            "25%    8.800000e+01     2.000000    0.000000\n",
            "50%    2.510000e+02     5.000000    0.000000\n",
            "75%    1.534000e+03    13.000000    1.000000\n",
            "max    2.496244e+06  1817.000000   40.000000\n"
          ]
        }
      ]
    },
    {
      "cell_type": "markdown",
      "source": [
        "There are now nulls within the dataset. I will fill them with the mean per best practicess."
      ],
      "metadata": {
        "id": "Y8m4_eoOkr-j"
      }
    },
    {
      "cell_type": "code",
      "source": [
        "# Filling nulls in numeric columns\n",
        "for col in ['views', 'likes', 'comments']:\n",
        "    df[col] = pd.to_numeric(df[col], errors='coerce')  # Ensuring numeric\n",
        "df.fillna(df[['views', 'likes', 'comments']].mean(), inplace=True)  # Filling NaNs with the mean of numeric cols"
      ],
      "metadata": {
        "id": "BHXJe5khk0ay"
      },
      "execution_count": null,
      "outputs": []
    },
    {
      "cell_type": "code",
      "source": [
        "# Filling nulls in categorical columns\n",
        "df['vid_length'] = df['vid_length'].fillna('Unknown')"
      ],
      "metadata": {
        "id": "Yo0uCUESmdY8"
      },
      "execution_count": null,
      "outputs": []
    },
    {
      "cell_type": "code",
      "source": [
        "df.head()"
      ],
      "metadata": {
        "colab": {
          "base_uri": "https://localhost:8080/",
          "height": 206
        },
        "id": "TR9k-eoXj1q5",
        "outputId": "706c51a3-add9-443d-af40-0834a2826428"
      },
      "execution_count": null,
      "outputs": [
        {
          "output_type": "execute_result",
          "data": {
            "text/plain": [
              "      video_id                                         title  \\\n",
              "0  tTVODRiVDCg                              UAT Cyber Ninjas   \n",
              "1  W5SA-6wphWA              2024 Valedictorian Tyler Widener   \n",
              "2  4FXI2GgEus8                      Your Idea of Fun is tech   \n",
              "3  IfrdgzxlgFE               Looking for future UAT Students   \n",
              "4  a6lS9iEcr70  Check out University of Advancing Technology   \n",
              "\n",
              "               release_date  views  likes  comments           tags vid_length  \n",
              "0 2025-03-06 22:04:28+00:00     60      3         0  Not available   00:01:30  \n",
              "1 2025-02-26 18:01:39+00:00     32      1         0  Not available   00:00:16  \n",
              "2 2025-02-26 17:59:15+00:00    452      8         0  Not available   00:00:04  \n",
              "3 2025-02-26 17:51:14+00:00    725     33         0  Not available   00:00:06  \n",
              "4 2025-02-26 17:49:12+00:00    455     10         0  Not available   00:00:06  "
            ],
            "text/html": [
              "\n",
              "  <div id=\"df-542059aa-1b33-481b-acd8-0dd97e9fdc7b\" class=\"colab-df-container\">\n",
              "    <div>\n",
              "<style scoped>\n",
              "    .dataframe tbody tr th:only-of-type {\n",
              "        vertical-align: middle;\n",
              "    }\n",
              "\n",
              "    .dataframe tbody tr th {\n",
              "        vertical-align: top;\n",
              "    }\n",
              "\n",
              "    .dataframe thead th {\n",
              "        text-align: right;\n",
              "    }\n",
              "</style>\n",
              "<table border=\"1\" class=\"dataframe\">\n",
              "  <thead>\n",
              "    <tr style=\"text-align: right;\">\n",
              "      <th></th>\n",
              "      <th>video_id</th>\n",
              "      <th>title</th>\n",
              "      <th>release_date</th>\n",
              "      <th>views</th>\n",
              "      <th>likes</th>\n",
              "      <th>comments</th>\n",
              "      <th>tags</th>\n",
              "      <th>vid_length</th>\n",
              "    </tr>\n",
              "  </thead>\n",
              "  <tbody>\n",
              "    <tr>\n",
              "      <th>0</th>\n",
              "      <td>tTVODRiVDCg</td>\n",
              "      <td>UAT Cyber Ninjas</td>\n",
              "      <td>2025-03-06 22:04:28+00:00</td>\n",
              "      <td>60</td>\n",
              "      <td>3</td>\n",
              "      <td>0</td>\n",
              "      <td>Not available</td>\n",
              "      <td>00:01:30</td>\n",
              "    </tr>\n",
              "    <tr>\n",
              "      <th>1</th>\n",
              "      <td>W5SA-6wphWA</td>\n",
              "      <td>2024 Valedictorian Tyler Widener</td>\n",
              "      <td>2025-02-26 18:01:39+00:00</td>\n",
              "      <td>32</td>\n",
              "      <td>1</td>\n",
              "      <td>0</td>\n",
              "      <td>Not available</td>\n",
              "      <td>00:00:16</td>\n",
              "    </tr>\n",
              "    <tr>\n",
              "      <th>2</th>\n",
              "      <td>4FXI2GgEus8</td>\n",
              "      <td>Your Idea of Fun is tech</td>\n",
              "      <td>2025-02-26 17:59:15+00:00</td>\n",
              "      <td>452</td>\n",
              "      <td>8</td>\n",
              "      <td>0</td>\n",
              "      <td>Not available</td>\n",
              "      <td>00:00:04</td>\n",
              "    </tr>\n",
              "    <tr>\n",
              "      <th>3</th>\n",
              "      <td>IfrdgzxlgFE</td>\n",
              "      <td>Looking for future UAT Students</td>\n",
              "      <td>2025-02-26 17:51:14+00:00</td>\n",
              "      <td>725</td>\n",
              "      <td>33</td>\n",
              "      <td>0</td>\n",
              "      <td>Not available</td>\n",
              "      <td>00:00:06</td>\n",
              "    </tr>\n",
              "    <tr>\n",
              "      <th>4</th>\n",
              "      <td>a6lS9iEcr70</td>\n",
              "      <td>Check out University of Advancing Technology</td>\n",
              "      <td>2025-02-26 17:49:12+00:00</td>\n",
              "      <td>455</td>\n",
              "      <td>10</td>\n",
              "      <td>0</td>\n",
              "      <td>Not available</td>\n",
              "      <td>00:00:06</td>\n",
              "    </tr>\n",
              "  </tbody>\n",
              "</table>\n",
              "</div>\n",
              "    <div class=\"colab-df-buttons\">\n",
              "\n",
              "  <div class=\"colab-df-container\">\n",
              "    <button class=\"colab-df-convert\" onclick=\"convertToInteractive('df-542059aa-1b33-481b-acd8-0dd97e9fdc7b')\"\n",
              "            title=\"Convert this dataframe to an interactive table.\"\n",
              "            style=\"display:none;\">\n",
              "\n",
              "  <svg xmlns=\"http://www.w3.org/2000/svg\" height=\"24px\" viewBox=\"0 -960 960 960\">\n",
              "    <path d=\"M120-120v-720h720v720H120Zm60-500h600v-160H180v160Zm220 220h160v-160H400v160Zm0 220h160v-160H400v160ZM180-400h160v-160H180v160Zm440 0h160v-160H620v160ZM180-180h160v-160H180v160Zm440 0h160v-160H620v160Z\"/>\n",
              "  </svg>\n",
              "    </button>\n",
              "\n",
              "  <style>\n",
              "    .colab-df-container {\n",
              "      display:flex;\n",
              "      gap: 12px;\n",
              "    }\n",
              "\n",
              "    .colab-df-convert {\n",
              "      background-color: #E8F0FE;\n",
              "      border: none;\n",
              "      border-radius: 50%;\n",
              "      cursor: pointer;\n",
              "      display: none;\n",
              "      fill: #1967D2;\n",
              "      height: 32px;\n",
              "      padding: 0 0 0 0;\n",
              "      width: 32px;\n",
              "    }\n",
              "\n",
              "    .colab-df-convert:hover {\n",
              "      background-color: #E2EBFA;\n",
              "      box-shadow: 0px 1px 2px rgba(60, 64, 67, 0.3), 0px 1px 3px 1px rgba(60, 64, 67, 0.15);\n",
              "      fill: #174EA6;\n",
              "    }\n",
              "\n",
              "    .colab-df-buttons div {\n",
              "      margin-bottom: 4px;\n",
              "    }\n",
              "\n",
              "    [theme=dark] .colab-df-convert {\n",
              "      background-color: #3B4455;\n",
              "      fill: #D2E3FC;\n",
              "    }\n",
              "\n",
              "    [theme=dark] .colab-df-convert:hover {\n",
              "      background-color: #434B5C;\n",
              "      box-shadow: 0px 1px 3px 1px rgba(0, 0, 0, 0.15);\n",
              "      filter: drop-shadow(0px 1px 2px rgba(0, 0, 0, 0.3));\n",
              "      fill: #FFFFFF;\n",
              "    }\n",
              "  </style>\n",
              "\n",
              "    <script>\n",
              "      const buttonEl =\n",
              "        document.querySelector('#df-542059aa-1b33-481b-acd8-0dd97e9fdc7b button.colab-df-convert');\n",
              "      buttonEl.style.display =\n",
              "        google.colab.kernel.accessAllowed ? 'block' : 'none';\n",
              "\n",
              "      async function convertToInteractive(key) {\n",
              "        const element = document.querySelector('#df-542059aa-1b33-481b-acd8-0dd97e9fdc7b');\n",
              "        const dataTable =\n",
              "          await google.colab.kernel.invokeFunction('convertToInteractive',\n",
              "                                                    [key], {});\n",
              "        if (!dataTable) return;\n",
              "\n",
              "        const docLinkHtml = 'Like what you see? Visit the ' +\n",
              "          '<a target=\"_blank\" href=https://colab.research.google.com/notebooks/data_table.ipynb>data table notebook</a>'\n",
              "          + ' to learn more about interactive tables.';\n",
              "        element.innerHTML = '';\n",
              "        dataTable['output_type'] = 'display_data';\n",
              "        await google.colab.output.renderOutput(dataTable, element);\n",
              "        const docLink = document.createElement('div');\n",
              "        docLink.innerHTML = docLinkHtml;\n",
              "        element.appendChild(docLink);\n",
              "      }\n",
              "    </script>\n",
              "  </div>\n",
              "\n",
              "\n",
              "<div id=\"df-99c6a959-81a7-4cc5-805e-d51d3ed87a9a\">\n",
              "  <button class=\"colab-df-quickchart\" onclick=\"quickchart('df-99c6a959-81a7-4cc5-805e-d51d3ed87a9a')\"\n",
              "            title=\"Suggest charts\"\n",
              "            style=\"display:none;\">\n",
              "\n",
              "<svg xmlns=\"http://www.w3.org/2000/svg\" height=\"24px\"viewBox=\"0 0 24 24\"\n",
              "     width=\"24px\">\n",
              "    <g>\n",
              "        <path d=\"M19 3H5c-1.1 0-2 .9-2 2v14c0 1.1.9 2 2 2h14c1.1 0 2-.9 2-2V5c0-1.1-.9-2-2-2zM9 17H7v-7h2v7zm4 0h-2V7h2v10zm4 0h-2v-4h2v4z\"/>\n",
              "    </g>\n",
              "</svg>\n",
              "  </button>\n",
              "\n",
              "<style>\n",
              "  .colab-df-quickchart {\n",
              "      --bg-color: #E8F0FE;\n",
              "      --fill-color: #1967D2;\n",
              "      --hover-bg-color: #E2EBFA;\n",
              "      --hover-fill-color: #174EA6;\n",
              "      --disabled-fill-color: #AAA;\n",
              "      --disabled-bg-color: #DDD;\n",
              "  }\n",
              "\n",
              "  [theme=dark] .colab-df-quickchart {\n",
              "      --bg-color: #3B4455;\n",
              "      --fill-color: #D2E3FC;\n",
              "      --hover-bg-color: #434B5C;\n",
              "      --hover-fill-color: #FFFFFF;\n",
              "      --disabled-bg-color: #3B4455;\n",
              "      --disabled-fill-color: #666;\n",
              "  }\n",
              "\n",
              "  .colab-df-quickchart {\n",
              "    background-color: var(--bg-color);\n",
              "    border: none;\n",
              "    border-radius: 50%;\n",
              "    cursor: pointer;\n",
              "    display: none;\n",
              "    fill: var(--fill-color);\n",
              "    height: 32px;\n",
              "    padding: 0;\n",
              "    width: 32px;\n",
              "  }\n",
              "\n",
              "  .colab-df-quickchart:hover {\n",
              "    background-color: var(--hover-bg-color);\n",
              "    box-shadow: 0 1px 2px rgba(60, 64, 67, 0.3), 0 1px 3px 1px rgba(60, 64, 67, 0.15);\n",
              "    fill: var(--button-hover-fill-color);\n",
              "  }\n",
              "\n",
              "  .colab-df-quickchart-complete:disabled,\n",
              "  .colab-df-quickchart-complete:disabled:hover {\n",
              "    background-color: var(--disabled-bg-color);\n",
              "    fill: var(--disabled-fill-color);\n",
              "    box-shadow: none;\n",
              "  }\n",
              "\n",
              "  .colab-df-spinner {\n",
              "    border: 2px solid var(--fill-color);\n",
              "    border-color: transparent;\n",
              "    border-bottom-color: var(--fill-color);\n",
              "    animation:\n",
              "      spin 1s steps(1) infinite;\n",
              "  }\n",
              "\n",
              "  @keyframes spin {\n",
              "    0% {\n",
              "      border-color: transparent;\n",
              "      border-bottom-color: var(--fill-color);\n",
              "      border-left-color: var(--fill-color);\n",
              "    }\n",
              "    20% {\n",
              "      border-color: transparent;\n",
              "      border-left-color: var(--fill-color);\n",
              "      border-top-color: var(--fill-color);\n",
              "    }\n",
              "    30% {\n",
              "      border-color: transparent;\n",
              "      border-left-color: var(--fill-color);\n",
              "      border-top-color: var(--fill-color);\n",
              "      border-right-color: var(--fill-color);\n",
              "    }\n",
              "    40% {\n",
              "      border-color: transparent;\n",
              "      border-right-color: var(--fill-color);\n",
              "      border-top-color: var(--fill-color);\n",
              "    }\n",
              "    60% {\n",
              "      border-color: transparent;\n",
              "      border-right-color: var(--fill-color);\n",
              "    }\n",
              "    80% {\n",
              "      border-color: transparent;\n",
              "      border-right-color: var(--fill-color);\n",
              "      border-bottom-color: var(--fill-color);\n",
              "    }\n",
              "    90% {\n",
              "      border-color: transparent;\n",
              "      border-bottom-color: var(--fill-color);\n",
              "    }\n",
              "  }\n",
              "</style>\n",
              "\n",
              "  <script>\n",
              "    async function quickchart(key) {\n",
              "      const quickchartButtonEl =\n",
              "        document.querySelector('#' + key + ' button');\n",
              "      quickchartButtonEl.disabled = true;  // To prevent multiple clicks.\n",
              "      quickchartButtonEl.classList.add('colab-df-spinner');\n",
              "      try {\n",
              "        const charts = await google.colab.kernel.invokeFunction(\n",
              "            'suggestCharts', [key], {});\n",
              "      } catch (error) {\n",
              "        console.error('Error during call to suggestCharts:', error);\n",
              "      }\n",
              "      quickchartButtonEl.classList.remove('colab-df-spinner');\n",
              "      quickchartButtonEl.classList.add('colab-df-quickchart-complete');\n",
              "    }\n",
              "    (() => {\n",
              "      let quickchartButtonEl =\n",
              "        document.querySelector('#df-99c6a959-81a7-4cc5-805e-d51d3ed87a9a button');\n",
              "      quickchartButtonEl.style.display =\n",
              "        google.colab.kernel.accessAllowed ? 'block' : 'none';\n",
              "    })();\n",
              "  </script>\n",
              "</div>\n",
              "\n",
              "    </div>\n",
              "  </div>\n"
            ],
            "application/vnd.google.colaboratory.intrinsic+json": {
              "type": "dataframe",
              "variable_name": "df",
              "summary": "{\n  \"name\": \"df\",\n  \"rows\": 289,\n  \"fields\": [\n    {\n      \"column\": \"video_id\",\n      \"properties\": {\n        \"dtype\": \"string\",\n        \"num_unique_values\": 289,\n        \"samples\": [\n          \"FcIZT2vul7A\",\n          \"lD3WCIcRsos\",\n          \"n5O0Lv-5x4c\"\n        ],\n        \"semantic_type\": \"\",\n        \"description\": \"\"\n      }\n    },\n    {\n      \"column\": \"title\",\n      \"properties\": {\n        \"dtype\": \"string\",\n        \"num_unique_values\": 277,\n        \"samples\": [\n          \"Tutor Spotlight - Preston Chapman\",\n          \"Student Innovation Project Showcase Fall 2020\",\n          \"Lightmapping (Unity)\"\n        ],\n        \"semantic_type\": \"\",\n        \"description\": \"\"\n      }\n    },\n    {\n      \"column\": \"release_date\",\n      \"properties\": {\n        \"dtype\": \"date\",\n        \"min\": \"2008-07-11 15:21:28+00:00\",\n        \"max\": \"2025-03-06 22:04:28+00:00\",\n        \"num_unique_values\": 287,\n        \"samples\": [\n          \"2025-02-20 17:14:48+00:00\",\n          \"2013-04-10 02:06:51+00:00\",\n          \"2020-03-23 16:36:45+00:00\"\n        ],\n        \"semantic_type\": \"\",\n        \"description\": \"\"\n      }\n    },\n    {\n      \"column\": \"views\",\n      \"properties\": {\n        \"dtype\": \"number\",\n        \"std\": 148735,\n        \"min\": 0,\n        \"max\": 2496244,\n        \"num_unique_values\": 240,\n        \"samples\": [\n          67,\n          446,\n          551\n        ],\n        \"semantic_type\": \"\",\n        \"description\": \"\"\n      }\n    },\n    {\n      \"column\": \"likes\",\n      \"properties\": {\n        \"dtype\": \"number\",\n        \"std\": 124,\n        \"min\": 0,\n        \"max\": 1817,\n        \"num_unique_values\": 59,\n        \"samples\": [\n          3,\n          26,\n          67\n        ],\n        \"semantic_type\": \"\",\n        \"description\": \"\"\n      }\n    },\n    {\n      \"column\": \"comments\",\n      \"properties\": {\n        \"dtype\": \"number\",\n        \"std\": 4,\n        \"min\": 0,\n        \"max\": 40,\n        \"num_unique_values\": 20,\n        \"samples\": [\n          0,\n          27,\n          33\n        ],\n        \"semantic_type\": \"\",\n        \"description\": \"\"\n      }\n    },\n    {\n      \"column\": \"tags\",\n      \"properties\": {\n        \"dtype\": \"category\",\n        \"num_unique_values\": 122,\n        \"samples\": [\n          \"['new technology', 'innovation', 'new tech', 'CES', 'shorts']\",\n          \"['University of Advancing Technology', 'UAT', 'University of Advancing Technology graduation', 'UAT ceremony', 'UAT commencement ceremony', 'tech grads', 'tech respect', 'technology leaders', 'leaders in technology', 'design degree', 'programming degree', 'video degree', 'artificial intelligence degree', 'game art and animation', 'advancing computer science', 'innovate', 'create']\",\n          \"['university of advancing technology', 'stem jobs', 'Technology degrees', 'programming bachelor degree', 'programming universitites']\"\n        ],\n        \"semantic_type\": \"\",\n        \"description\": \"\"\n      }\n    },\n    {\n      \"column\": \"vid_length\",\n      \"properties\": {\n        \"dtype\": \"string\",\n        \"num_unique_values\": 226,\n        \"samples\": [\n          \"00:00:42\",\n          \"00:26:04\",\n          \"01:08:43\"\n        ],\n        \"semantic_type\": \"\",\n        \"description\": \"\"\n      }\n    }\n  ]\n}"
            }
          },
          "metadata": {},
          "execution_count": 13
        }
      ]
    },
    {
      "cell_type": "code",
      "source": [
        "print(df.info())\n",
        "print(df.describe())"
      ],
      "metadata": {
        "colab": {
          "base_uri": "https://localhost:8080/"
        },
        "id": "JVQRZ9x_mt7F",
        "outputId": "99ff05b7-9849-4b20-8625-8ec679cacd78"
      },
      "execution_count": null,
      "outputs": [
        {
          "output_type": "stream",
          "name": "stdout",
          "text": [
            "<class 'pandas.core.frame.DataFrame'>\n",
            "RangeIndex: 289 entries, 0 to 288\n",
            "Data columns (total 8 columns):\n",
            " #   Column        Non-Null Count  Dtype              \n",
            "---  ------        --------------  -----              \n",
            " 0   video_id      289 non-null    object             \n",
            " 1   title         289 non-null    object             \n",
            " 2   release_date  289 non-null    datetime64[ns, UTC]\n",
            " 3   views         289 non-null    int64              \n",
            " 4   likes         289 non-null    int64              \n",
            " 5   comments      289 non-null    int64              \n",
            " 6   tags          289 non-null    object             \n",
            " 7   vid_length    289 non-null    object             \n",
            "dtypes: datetime64[ns, UTC](1), int64(3), object(4)\n",
            "memory usage: 18.2+ KB\n",
            "None\n",
            "              views        likes    comments\n",
            "count  2.890000e+02   289.000000  289.000000\n",
            "mean   1.543899e+04    28.868512    1.519031\n",
            "std    1.487355e+05   124.481327    4.859179\n",
            "min    0.000000e+00     0.000000    0.000000\n",
            "25%    8.800000e+01     2.000000    0.000000\n",
            "50%    2.510000e+02     5.000000    0.000000\n",
            "75%    1.534000e+03    13.000000    1.000000\n",
            "max    2.496244e+06  1817.000000   40.000000\n"
          ]
        }
      ]
    },
    {
      "cell_type": "code",
      "source": [
        "# Writing cleaned data to new file\n",
        "df.to_csv('youtube_data_UAT_clean.csv', index=False)"
      ],
      "metadata": {
        "id": "RfFyxRXURMzg"
      },
      "execution_count": null,
      "outputs": []
    },
    {
      "cell_type": "markdown",
      "source": [
        "**-EXPLORING DATA-**"
      ],
      "metadata": {
        "id": "H_LD9HZRKrfR"
      }
    },
    {
      "cell_type": "markdown",
      "source": [
        "Visualizing numerical data using Seaborn"
      ],
      "metadata": {
        "id": "nFqzo5b1qvt5"
      }
    },
    {
      "cell_type": "code",
      "source": [
        "numeric_df = df[['views', 'likes', 'comments']]\n",
        "numeric_df.describe()"
      ],
      "metadata": {
        "colab": {
          "base_uri": "https://localhost:8080/",
          "height": 300
        },
        "id": "u3kxMBzkqzmR",
        "outputId": "d6febcda-7ac5-4dd6-fd79-6cd13498d090"
      },
      "execution_count": null,
      "outputs": [
        {
          "output_type": "execute_result",
          "data": {
            "text/plain": [
              "              views        likes    comments\n",
              "count  2.890000e+02   289.000000  289.000000\n",
              "mean   1.543899e+04    28.868512    1.519031\n",
              "std    1.487355e+05   124.481327    4.859179\n",
              "min    0.000000e+00     0.000000    0.000000\n",
              "25%    8.800000e+01     2.000000    0.000000\n",
              "50%    2.510000e+02     5.000000    0.000000\n",
              "75%    1.534000e+03    13.000000    1.000000\n",
              "max    2.496244e+06  1817.000000   40.000000"
            ],
            "text/html": [
              "\n",
              "  <div id=\"df-ceef913b-876b-42f5-b598-f85fc182a983\" class=\"colab-df-container\">\n",
              "    <div>\n",
              "<style scoped>\n",
              "    .dataframe tbody tr th:only-of-type {\n",
              "        vertical-align: middle;\n",
              "    }\n",
              "\n",
              "    .dataframe tbody tr th {\n",
              "        vertical-align: top;\n",
              "    }\n",
              "\n",
              "    .dataframe thead th {\n",
              "        text-align: right;\n",
              "    }\n",
              "</style>\n",
              "<table border=\"1\" class=\"dataframe\">\n",
              "  <thead>\n",
              "    <tr style=\"text-align: right;\">\n",
              "      <th></th>\n",
              "      <th>views</th>\n",
              "      <th>likes</th>\n",
              "      <th>comments</th>\n",
              "    </tr>\n",
              "  </thead>\n",
              "  <tbody>\n",
              "    <tr>\n",
              "      <th>count</th>\n",
              "      <td>2.890000e+02</td>\n",
              "      <td>289.000000</td>\n",
              "      <td>289.000000</td>\n",
              "    </tr>\n",
              "    <tr>\n",
              "      <th>mean</th>\n",
              "      <td>1.543899e+04</td>\n",
              "      <td>28.868512</td>\n",
              "      <td>1.519031</td>\n",
              "    </tr>\n",
              "    <tr>\n",
              "      <th>std</th>\n",
              "      <td>1.487355e+05</td>\n",
              "      <td>124.481327</td>\n",
              "      <td>4.859179</td>\n",
              "    </tr>\n",
              "    <tr>\n",
              "      <th>min</th>\n",
              "      <td>0.000000e+00</td>\n",
              "      <td>0.000000</td>\n",
              "      <td>0.000000</td>\n",
              "    </tr>\n",
              "    <tr>\n",
              "      <th>25%</th>\n",
              "      <td>8.800000e+01</td>\n",
              "      <td>2.000000</td>\n",
              "      <td>0.000000</td>\n",
              "    </tr>\n",
              "    <tr>\n",
              "      <th>50%</th>\n",
              "      <td>2.510000e+02</td>\n",
              "      <td>5.000000</td>\n",
              "      <td>0.000000</td>\n",
              "    </tr>\n",
              "    <tr>\n",
              "      <th>75%</th>\n",
              "      <td>1.534000e+03</td>\n",
              "      <td>13.000000</td>\n",
              "      <td>1.000000</td>\n",
              "    </tr>\n",
              "    <tr>\n",
              "      <th>max</th>\n",
              "      <td>2.496244e+06</td>\n",
              "      <td>1817.000000</td>\n",
              "      <td>40.000000</td>\n",
              "    </tr>\n",
              "  </tbody>\n",
              "</table>\n",
              "</div>\n",
              "    <div class=\"colab-df-buttons\">\n",
              "\n",
              "  <div class=\"colab-df-container\">\n",
              "    <button class=\"colab-df-convert\" onclick=\"convertToInteractive('df-ceef913b-876b-42f5-b598-f85fc182a983')\"\n",
              "            title=\"Convert this dataframe to an interactive table.\"\n",
              "            style=\"display:none;\">\n",
              "\n",
              "  <svg xmlns=\"http://www.w3.org/2000/svg\" height=\"24px\" viewBox=\"0 -960 960 960\">\n",
              "    <path d=\"M120-120v-720h720v720H120Zm60-500h600v-160H180v160Zm220 220h160v-160H400v160Zm0 220h160v-160H400v160ZM180-400h160v-160H180v160Zm440 0h160v-160H620v160ZM180-180h160v-160H180v160Zm440 0h160v-160H620v160Z\"/>\n",
              "  </svg>\n",
              "    </button>\n",
              "\n",
              "  <style>\n",
              "    .colab-df-container {\n",
              "      display:flex;\n",
              "      gap: 12px;\n",
              "    }\n",
              "\n",
              "    .colab-df-convert {\n",
              "      background-color: #E8F0FE;\n",
              "      border: none;\n",
              "      border-radius: 50%;\n",
              "      cursor: pointer;\n",
              "      display: none;\n",
              "      fill: #1967D2;\n",
              "      height: 32px;\n",
              "      padding: 0 0 0 0;\n",
              "      width: 32px;\n",
              "    }\n",
              "\n",
              "    .colab-df-convert:hover {\n",
              "      background-color: #E2EBFA;\n",
              "      box-shadow: 0px 1px 2px rgba(60, 64, 67, 0.3), 0px 1px 3px 1px rgba(60, 64, 67, 0.15);\n",
              "      fill: #174EA6;\n",
              "    }\n",
              "\n",
              "    .colab-df-buttons div {\n",
              "      margin-bottom: 4px;\n",
              "    }\n",
              "\n",
              "    [theme=dark] .colab-df-convert {\n",
              "      background-color: #3B4455;\n",
              "      fill: #D2E3FC;\n",
              "    }\n",
              "\n",
              "    [theme=dark] .colab-df-convert:hover {\n",
              "      background-color: #434B5C;\n",
              "      box-shadow: 0px 1px 3px 1px rgba(0, 0, 0, 0.15);\n",
              "      filter: drop-shadow(0px 1px 2px rgba(0, 0, 0, 0.3));\n",
              "      fill: #FFFFFF;\n",
              "    }\n",
              "  </style>\n",
              "\n",
              "    <script>\n",
              "      const buttonEl =\n",
              "        document.querySelector('#df-ceef913b-876b-42f5-b598-f85fc182a983 button.colab-df-convert');\n",
              "      buttonEl.style.display =\n",
              "        google.colab.kernel.accessAllowed ? 'block' : 'none';\n",
              "\n",
              "      async function convertToInteractive(key) {\n",
              "        const element = document.querySelector('#df-ceef913b-876b-42f5-b598-f85fc182a983');\n",
              "        const dataTable =\n",
              "          await google.colab.kernel.invokeFunction('convertToInteractive',\n",
              "                                                    [key], {});\n",
              "        if (!dataTable) return;\n",
              "\n",
              "        const docLinkHtml = 'Like what you see? Visit the ' +\n",
              "          '<a target=\"_blank\" href=https://colab.research.google.com/notebooks/data_table.ipynb>data table notebook</a>'\n",
              "          + ' to learn more about interactive tables.';\n",
              "        element.innerHTML = '';\n",
              "        dataTable['output_type'] = 'display_data';\n",
              "        await google.colab.output.renderOutput(dataTable, element);\n",
              "        const docLink = document.createElement('div');\n",
              "        docLink.innerHTML = docLinkHtml;\n",
              "        element.appendChild(docLink);\n",
              "      }\n",
              "    </script>\n",
              "  </div>\n",
              "\n",
              "\n",
              "<div id=\"df-22caaabd-7450-454c-a31c-f09410e59077\">\n",
              "  <button class=\"colab-df-quickchart\" onclick=\"quickchart('df-22caaabd-7450-454c-a31c-f09410e59077')\"\n",
              "            title=\"Suggest charts\"\n",
              "            style=\"display:none;\">\n",
              "\n",
              "<svg xmlns=\"http://www.w3.org/2000/svg\" height=\"24px\"viewBox=\"0 0 24 24\"\n",
              "     width=\"24px\">\n",
              "    <g>\n",
              "        <path d=\"M19 3H5c-1.1 0-2 .9-2 2v14c0 1.1.9 2 2 2h14c1.1 0 2-.9 2-2V5c0-1.1-.9-2-2-2zM9 17H7v-7h2v7zm4 0h-2V7h2v10zm4 0h-2v-4h2v4z\"/>\n",
              "    </g>\n",
              "</svg>\n",
              "  </button>\n",
              "\n",
              "<style>\n",
              "  .colab-df-quickchart {\n",
              "      --bg-color: #E8F0FE;\n",
              "      --fill-color: #1967D2;\n",
              "      --hover-bg-color: #E2EBFA;\n",
              "      --hover-fill-color: #174EA6;\n",
              "      --disabled-fill-color: #AAA;\n",
              "      --disabled-bg-color: #DDD;\n",
              "  }\n",
              "\n",
              "  [theme=dark] .colab-df-quickchart {\n",
              "      --bg-color: #3B4455;\n",
              "      --fill-color: #D2E3FC;\n",
              "      --hover-bg-color: #434B5C;\n",
              "      --hover-fill-color: #FFFFFF;\n",
              "      --disabled-bg-color: #3B4455;\n",
              "      --disabled-fill-color: #666;\n",
              "  }\n",
              "\n",
              "  .colab-df-quickchart {\n",
              "    background-color: var(--bg-color);\n",
              "    border: none;\n",
              "    border-radius: 50%;\n",
              "    cursor: pointer;\n",
              "    display: none;\n",
              "    fill: var(--fill-color);\n",
              "    height: 32px;\n",
              "    padding: 0;\n",
              "    width: 32px;\n",
              "  }\n",
              "\n",
              "  .colab-df-quickchart:hover {\n",
              "    background-color: var(--hover-bg-color);\n",
              "    box-shadow: 0 1px 2px rgba(60, 64, 67, 0.3), 0 1px 3px 1px rgba(60, 64, 67, 0.15);\n",
              "    fill: var(--button-hover-fill-color);\n",
              "  }\n",
              "\n",
              "  .colab-df-quickchart-complete:disabled,\n",
              "  .colab-df-quickchart-complete:disabled:hover {\n",
              "    background-color: var(--disabled-bg-color);\n",
              "    fill: var(--disabled-fill-color);\n",
              "    box-shadow: none;\n",
              "  }\n",
              "\n",
              "  .colab-df-spinner {\n",
              "    border: 2px solid var(--fill-color);\n",
              "    border-color: transparent;\n",
              "    border-bottom-color: var(--fill-color);\n",
              "    animation:\n",
              "      spin 1s steps(1) infinite;\n",
              "  }\n",
              "\n",
              "  @keyframes spin {\n",
              "    0% {\n",
              "      border-color: transparent;\n",
              "      border-bottom-color: var(--fill-color);\n",
              "      border-left-color: var(--fill-color);\n",
              "    }\n",
              "    20% {\n",
              "      border-color: transparent;\n",
              "      border-left-color: var(--fill-color);\n",
              "      border-top-color: var(--fill-color);\n",
              "    }\n",
              "    30% {\n",
              "      border-color: transparent;\n",
              "      border-left-color: var(--fill-color);\n",
              "      border-top-color: var(--fill-color);\n",
              "      border-right-color: var(--fill-color);\n",
              "    }\n",
              "    40% {\n",
              "      border-color: transparent;\n",
              "      border-right-color: var(--fill-color);\n",
              "      border-top-color: var(--fill-color);\n",
              "    }\n",
              "    60% {\n",
              "      border-color: transparent;\n",
              "      border-right-color: var(--fill-color);\n",
              "    }\n",
              "    80% {\n",
              "      border-color: transparent;\n",
              "      border-right-color: var(--fill-color);\n",
              "      border-bottom-color: var(--fill-color);\n",
              "    }\n",
              "    90% {\n",
              "      border-color: transparent;\n",
              "      border-bottom-color: var(--fill-color);\n",
              "    }\n",
              "  }\n",
              "</style>\n",
              "\n",
              "  <script>\n",
              "    async function quickchart(key) {\n",
              "      const quickchartButtonEl =\n",
              "        document.querySelector('#' + key + ' button');\n",
              "      quickchartButtonEl.disabled = true;  // To prevent multiple clicks.\n",
              "      quickchartButtonEl.classList.add('colab-df-spinner');\n",
              "      try {\n",
              "        const charts = await google.colab.kernel.invokeFunction(\n",
              "            'suggestCharts', [key], {});\n",
              "      } catch (error) {\n",
              "        console.error('Error during call to suggestCharts:', error);\n",
              "      }\n",
              "      quickchartButtonEl.classList.remove('colab-df-spinner');\n",
              "      quickchartButtonEl.classList.add('colab-df-quickchart-complete');\n",
              "    }\n",
              "    (() => {\n",
              "      let quickchartButtonEl =\n",
              "        document.querySelector('#df-22caaabd-7450-454c-a31c-f09410e59077 button');\n",
              "      quickchartButtonEl.style.display =\n",
              "        google.colab.kernel.accessAllowed ? 'block' : 'none';\n",
              "    })();\n",
              "  </script>\n",
              "</div>\n",
              "\n",
              "    </div>\n",
              "  </div>\n"
            ],
            "application/vnd.google.colaboratory.intrinsic+json": {
              "type": "dataframe",
              "summary": "{\n  \"name\": \"numeric_df\",\n  \"rows\": 8,\n  \"fields\": [\n    {\n      \"column\": \"views\",\n      \"properties\": {\n        \"dtype\": \"number\",\n        \"std\": 875657.3349078902,\n        \"min\": 0.0,\n        \"max\": 2496244.0,\n        \"num_unique_values\": 8,\n        \"samples\": [\n          15438.98615916955,\n          251.0,\n          289.0\n        ],\n        \"semantic_type\": \"\",\n        \"description\": \"\"\n      }\n    },\n    {\n      \"column\": \"likes\",\n      \"properties\": {\n        \"dtype\": \"number\",\n        \"std\": 627.0232999447772,\n        \"min\": 0.0,\n        \"max\": 1817.0,\n        \"num_unique_values\": 8,\n        \"samples\": [\n          28.868512110726645,\n          5.0,\n          289.0\n        ],\n        \"semantic_type\": \"\",\n        \"description\": \"\"\n      }\n    },\n    {\n      \"column\": \"comments\",\n      \"properties\": {\n        \"dtype\": \"number\",\n        \"std\": 100.71468298461659,\n        \"min\": 0.0,\n        \"max\": 289.0,\n        \"num_unique_values\": 6,\n        \"samples\": [\n          289.0,\n          1.519031141868512,\n          40.0\n        ],\n        \"semantic_type\": \"\",\n        \"description\": \"\"\n      }\n    }\n  ]\n}"
            }
          },
          "metadata": {},
          "execution_count": 15
        }
      ]
    },
    {
      "cell_type": "code",
      "source": [
        "for feature in numeric_df:\n",
        "  plt.figure(figsize=(5, 3))\n",
        "  sns.histplot(numeric_df[feature], bins=30, kde=True)\n",
        "  plt.title(f'Distribution of {feature}')\n",
        "  plt.xlabel(feature)\n",
        "  plt.ylabel('Frequency')\n",
        "  plt.show()"
      ],
      "metadata": {
        "colab": {
          "base_uri": "https://localhost:8080/",
          "height": 965
        },
        "id": "xOA69h_TsJQy",
        "outputId": "ef42f14e-5467-40ea-f73e-37be39870fff"
      },
      "execution_count": null,
      "outputs": [
        {
          "output_type": "display_data",
          "data": {
            "text/plain": [
              "<Figure size 500x300 with 1 Axes>"
            ],
            "image/png": "[encoded data removed]"
          },
          "metadata": {}
        },
        {
          "output_type": "display_data",
          "data": {
            "text/plain": [
              "<Figure size 500x300 with 1 Axes>"
            ],
            "image/png": "[encoded data removed]"
          },
          "metadata": {}
        },
        {
          "output_type": "display_data",
          "data": {
            "text/plain": [
              "<Figure size 500x300 with 1 Axes>"
            ],
            "image/png": "[encoded data removed]"
          },
          "metadata": {}
        }
      ]
    },
    {
      "cell_type": "markdown",
      "source": [
        "The visualizations show that most of the data is clustered near the bottom of the dataset, but extends far to the right. This extreme skew makes the data hard to read. I will scale it with a logarithm to rectify this."
      ],
      "metadata": {
        "id": "26_oEj7ZsOBy"
      }
    },
    {
      "cell_type": "code",
      "source": [
        "for feature in numeric_df:\n",
        "  plt.figure(figsize=(5, 3))\n",
        "  sns.histplot(numeric_df[feature], bins=30, kde=True, log_scale=True)\n",
        "  plt.title(f'Distribution of {feature} (Log Scale)')\n",
        "  plt.xlabel(feature)\n",
        "  plt.ylabel('Frequency')\n",
        "  plt.show()"
      ],
      "metadata": {
        "colab": {
          "base_uri": "https://localhost:8080/",
          "height": 980
        },
        "id": "siaTqDMPrMXx",
        "outputId": "ed7068d1-9794-4533-d41a-65dc91459657"
      },
      "execution_count": null,
      "outputs": [
        {
          "output_type": "display_data",
          "data": {
            "text/plain": [
              "<Figure size 500x300 with 1 Axes>"
            ],
            "image/png": "[encoded data removed]"
          },
          "metadata": {}
        },
        {
          "output_type": "display_data",
          "data": {
            "text/plain": [
              "<Figure size 500x300 with 1 Axes>"
            ],
            "image/png": "[encoded data removed]"
          },
          "metadata": {}
        },
        {
          "output_type": "display_data",
          "data": {
            "text/plain": [
              "<Figure size 500x300 with 1 Axes>"
            ],
            "image/png": "[encoded data removed]"
          },
          "metadata": {}
        }
      ]
    },
    {
      "cell_type": "markdown",
      "source": [
        "**Views:**\n",
        "\n",
        "The graphs show that most videos have view counts within the tens to the thousands. The logarithm scale shows most of the data lies between 10^1 and 10^3.\n",
        "\n",
        "**Likes:**\n",
        "\n",
        "The graphs show that most videos have a like count under 10, although there are outliers with likes in the thousands.\n",
        "\n",
        "**Comments:**\n",
        "\n",
        "The graphs show that most videos have a comment count under 10."
      ],
      "metadata": {
        "id": "R2VSTT0NEWgg"
      }
    },
    {
      "cell_type": "code",
      "source": [
        "# Plotting distribution of video lengths\n",
        "plt.figure(figsize=(5, 3))\n",
        "sns.histplot(df['vid_length'], bins=10, kde=True, log_scale=True)\n",
        "plt.title('Distribution of Video Lengths (Log Scale)')\n",
        "plt.xlabel('Video Length')\n",
        "plt.ylabel('Frequency')\n",
        "plt.show()"
      ],
      "metadata": {
        "colab": {
          "base_uri": "https://localhost:8080/",
          "height": 333
        },
        "id": "QU1a-6xvB95d",
        "outputId": "7a6bc7d2-5c68-44da-e84c-22ec8c18ac7f"
      },
      "execution_count": null,
      "outputs": [
        {
          "output_type": "display_data",
          "data": {
            "text/plain": [
              "<Figure size 500x300 with 1 Axes>"
            ],
            "image/png": "[encoded data removed]"
          },
          "metadata": {}
        }
      ]
    },
    {
      "cell_type": "markdown",
      "source": [
        "This format is a bit hard to read, even with bins. I'll convert the format of video lengths to seconds to rectify this."
      ],
      "metadata": {
        "id": "oY61vWLPK4FQ"
      }
    },
    {
      "cell_type": "code",
      "source": [
        "# Changing format of video lengths\n",
        "def convert_duration_to_seconds(duration):\n",
        "    # Checking if the duration is 'Unknown' - one value as such in dataset\n",
        "    if duration == 'Unknown':\n",
        "        return None\n",
        "    else:\n",
        "        hours, minutes, seconds = map(int, duration.split(':'))\n",
        "        total_seconds = (hours * 3600) + (minutes * 60) + seconds\n",
        "        return total_seconds\n",
        "\n",
        "vid_length_seconds = df['vid_length'].apply(convert_duration_to_seconds)\n",
        "\n",
        "# Plotting distribution of video lengths, excluding 'Unknown'\n",
        "plt.figure(figsize=(5, 3))\n",
        "# Excluding 'Unknown' values\n",
        "sns.histplot(vid_length_seconds.dropna(), bins=10, kde=True)\n",
        "plt.title('Distribution of Video Lengths')\n",
        "plt.xlabel('Video Length (seconds)')\n",
        "plt.ylabel('Frequency')\n",
        "plt.show()"
      ],
      "metadata": {
        "colab": {
          "base_uri": "https://localhost:8080/",
          "height": 333
        },
        "id": "WuWkzI6oI-zl",
        "outputId": "3c7e0e41-5eb2-4737-ebc9-618847fc9ed3"
      },
      "execution_count": null,
      "outputs": [
        {
          "output_type": "display_data",
          "data": {
            "text/plain": [
              "<Figure size 500x300 with 1 Axes>"
            ],
            "image/png": "[encoded data removed]"
          },
          "metadata": {}
        }
      ]
    },
    {
      "cell_type": "markdown",
      "source": [
        "The videos range from 0 to 17,500 seconds. In other words, the videos range from a few seconds to nearly 5 hours. However, the graph is hard to read in this format, and so I will convert it to log scale for readability."
      ],
      "metadata": {
        "id": "BjZJwo6Dz083"
      }
    },
    {
      "cell_type": "code",
      "source": [
        "vid_length_seconds = df['vid_length'].apply(convert_duration_to_seconds)\n",
        "\n",
        "# Plotting distribution of video lengths, excluding 'Unknown'\n",
        "plt.figure(figsize=(5, 3))\n",
        "# Excluding 'Unknown' values\n",
        "sns.histplot(vid_length_seconds.dropna(), bins=10, kde=True, log_scale=True)\n",
        "plt.title('Distribution of Video Lengths (Log Scale)')\n",
        "plt.xlabel('Video Length (seconds)')\n",
        "plt.ylabel('Frequency')\n",
        "plt.show()"
      ],
      "metadata": {
        "colab": {
          "base_uri": "https://localhost:8080/",
          "height": 338
        },
        "id": "ScSwyik4I0dl",
        "outputId": "6cbc77a8-d473-4a94-8ac8-a4347a6f9da1"
      },
      "execution_count": null,
      "outputs": [
        {
          "output_type": "display_data",
          "data": {
            "text/plain": [
              "<Figure size 500x300 with 1 Axes>"
            ],
            "image/png": "[encoded data removed]"
          },
          "metadata": {}
        }
      ]
    },
    {
      "cell_type": "markdown",
      "source": [
        "The graphs show that the range of video lengths is quite large. While most videos are shorter (The channel has many YouTube Shorts, as well as short minute-long interviews), there are some that are much longer. Again, the range is from a few seconds to nearly 5 hours."
      ],
      "metadata": {
        "id": "TB5rUnJnKHe3"
      }
    },
    {
      "cell_type": "markdown",
      "source": [
        "Exploring categorical data"
      ],
      "metadata": {
        "id": "SIONaZQJLTXJ"
      }
    },
    {
      "cell_type": "code",
      "source": [
        "df.sample(10)"
      ],
      "metadata": {
        "id": "UAW6DEN5Kjo_",
        "colab": {
          "base_uri": "https://localhost:8080/",
          "height": 363
        },
        "outputId": "aeb98473-5b66-4b0e-a7c3-edd4eb152a15"
      },
      "execution_count": null,
      "outputs": [
        {
          "output_type": "execute_result",
          "data": {
            "text/plain": [
              "        video_id                                              title  \\\n",
              "96   pBohAdKG0_8  Game Design, Game Animation and Game Programmi...   \n",
              "88   -sh0r4bnpkw                             CES 2022: AI Processor   \n",
              "262  aQYc6AWi9g4                                       UAT fig 2012   \n",
              "159  h33CL7_i9DI  AI, AR, VR and Robotics Majors at University o...   \n",
              "188  wjpw-F7uB5E  University of Advancing Technology President J...   \n",
              "160  7Dos0rmGAnc  University of Advancing Technology 360º Campus...   \n",
              "270  VTxOcYSJcU4              Evan Sprague: A Look at Intel Studios   \n",
              "48   GX9rv0B6Yq4                           Happy Holidays from UAT!   \n",
              "175  GZNbmYUQa8s  Digital Video & Theater Professor Sharon Bolma...   \n",
              "279  2unUn-ISad4  Jeremy Leung - Hackerspace- Awakening America'...   \n",
              "\n",
              "                 release_date   views  likes  comments  \\\n",
              "96  2021-12-01 00:11:24+00:00     551     20         0   \n",
              "88  2022-01-06 18:25:37+00:00     199     11         0   \n",
              "262 2012-11-03 19:01:12+00:00     187      2         1   \n",
              "159 2018-12-09 02:20:39+00:00  155433     11         0   \n",
              "188 2017-03-27 22:02:07+00:00    3907     50         1   \n",
              "160 2018-11-20 19:37:51+00:00   25654    189         6   \n",
              "270 2012-03-24 01:04:38+00:00     254      0         0   \n",
              "48  2023-12-07 16:38:01+00:00     158      7         0   \n",
              "175 2018-03-19 16:23:43+00:00    2845     16         1   \n",
              "279 2011-08-19 22:01:05+00:00     152      4         1   \n",
              "\n",
              "                                                  tags vid_length  \n",
              "96                                       Not available   00:00:17  \n",
              "88   ['CES', 'new tech', 'innovation', 'new technol...   00:00:04  \n",
              "262                             ['UAT', 'fig', '2012']   00:03:32  \n",
              "159                                      Not available   00:00:16  \n",
              "188  ['university', 'college', 'technology', 'tech'...   00:02:11  \n",
              "160  ['virtual reality', 'vr video', 'higher educat...   00:04:41  \n",
              "270            ['intel', 'studios', 'evan', 'sprague']   00:38:59  \n",
              "48                                       Not available   00:00:13  \n",
              "175  ['higher education', 'private university', 'te...   00:02:29  \n",
              "279  ['Jeremy', 'Leung', 'Hackerspace', 'Awakening'...   00:39:02  "
            ],
            "text/html": [
              "\n",
              "  <div id=\"df-32501bb4-81e2-477f-8fe6-405062620a61\" class=\"colab-df-container\">\n",
              "    <div>\n",
              "<style scoped>\n",
              "    .dataframe tbody tr th:only-of-type {\n",
              "        vertical-align: middle;\n",
              "    }\n",
              "\n",
              "    .dataframe tbody tr th {\n",
              "        vertical-align: top;\n",
              "    }\n",
              "\n",
              "    .dataframe thead th {\n",
              "        text-align: right;\n",
              "    }\n",
              "</style>\n",
              "<table border=\"1\" class=\"dataframe\">\n",
              "  <thead>\n",
              "    <tr style=\"text-align: right;\">\n",
              "      <th></th>\n",
              "      <th>video_id</th>\n",
              "      <th>title</th>\n",
              "      <th>release_date</th>\n",
              "      <th>views</th>\n",
              "      <th>likes</th>\n",
              "      <th>comments</th>\n",
              "      <th>tags</th>\n",
              "      <th>vid_length</th>\n",
              "    </tr>\n",
              "  </thead>\n",
              "  <tbody>\n",
              "    <tr>\n",
              "      <th>96</th>\n",
              "      <td>pBohAdKG0_8</td>\n",
              "      <td>Game Design, Game Animation and Game Programmi...</td>\n",
              "      <td>2021-12-01 00:11:24+00:00</td>\n",
              "      <td>551</td>\n",
              "      <td>20</td>\n",
              "      <td>0</td>\n",
              "      <td>Not available</td>\n",
              "      <td>00:00:17</td>\n",
              "    </tr>\n",
              "    <tr>\n",
              "      <th>88</th>\n",
              "      <td>-sh0r4bnpkw</td>\n",
              "      <td>CES 2022: AI Processor</td>\n",
              "      <td>2022-01-06 18:25:37+00:00</td>\n",
              "      <td>199</td>\n",
              "      <td>11</td>\n",
              "      <td>0</td>\n",
              "      <td>['CES', 'new tech', 'innovation', 'new technol...</td>\n",
              "      <td>00:00:04</td>\n",
              "    </tr>\n",
              "    <tr>\n",
              "      <th>262</th>\n",
              "      <td>aQYc6AWi9g4</td>\n",
              "      <td>UAT fig 2012</td>\n",
              "      <td>2012-11-03 19:01:12+00:00</td>\n",
              "      <td>187</td>\n",
              "      <td>2</td>\n",
              "      <td>1</td>\n",
              "      <td>['UAT', 'fig', '2012']</td>\n",
              "      <td>00:03:32</td>\n",
              "    </tr>\n",
              "    <tr>\n",
              "      <th>159</th>\n",
              "      <td>h33CL7_i9DI</td>\n",
              "      <td>AI, AR, VR and Robotics Majors at University o...</td>\n",
              "      <td>2018-12-09 02:20:39+00:00</td>\n",
              "      <td>155433</td>\n",
              "      <td>11</td>\n",
              "      <td>0</td>\n",
              "      <td>Not available</td>\n",
              "      <td>00:00:16</td>\n",
              "    </tr>\n",
              "    <tr>\n",
              "      <th>188</th>\n",
              "      <td>wjpw-F7uB5E</td>\n",
              "      <td>University of Advancing Technology President J...</td>\n",
              "      <td>2017-03-27 22:02:07+00:00</td>\n",
              "      <td>3907</td>\n",
              "      <td>50</td>\n",
              "      <td>1</td>\n",
              "      <td>['university', 'college', 'technology', 'tech'...</td>\n",
              "      <td>00:02:11</td>\n",
              "    </tr>\n",
              "    <tr>\n",
              "      <th>160</th>\n",
              "      <td>7Dos0rmGAnc</td>\n",
              "      <td>University of Advancing Technology 360º Campus...</td>\n",
              "      <td>2018-11-20 19:37:51+00:00</td>\n",
              "      <td>25654</td>\n",
              "      <td>189</td>\n",
              "      <td>6</td>\n",
              "      <td>['virtual reality', 'vr video', 'higher educat...</td>\n",
              "      <td>00:04:41</td>\n",
              "    </tr>\n",
              "    <tr>\n",
              "      <th>270</th>\n",
              "      <td>VTxOcYSJcU4</td>\n",
              "      <td>Evan Sprague: A Look at Intel Studios</td>\n",
              "      <td>2012-03-24 01:04:38+00:00</td>\n",
              "      <td>254</td>\n",
              "      <td>0</td>\n",
              "      <td>0</td>\n",
              "      <td>['intel', 'studios', 'evan', 'sprague']</td>\n",
              "      <td>00:38:59</td>\n",
              "    </tr>\n",
              "    <tr>\n",
              "      <th>48</th>\n",
              "      <td>GX9rv0B6Yq4</td>\n",
              "      <td>Happy Holidays from UAT!</td>\n",
              "      <td>2023-12-07 16:38:01+00:00</td>\n",
              "      <td>158</td>\n",
              "      <td>7</td>\n",
              "      <td>0</td>\n",
              "      <td>Not available</td>\n",
              "      <td>00:00:13</td>\n",
              "    </tr>\n",
              "    <tr>\n",
              "      <th>175</th>\n",
              "      <td>GZNbmYUQa8s</td>\n",
              "      <td>Digital Video &amp; Theater Professor Sharon Bolma...</td>\n",
              "      <td>2018-03-19 16:23:43+00:00</td>\n",
              "      <td>2845</td>\n",
              "      <td>16</td>\n",
              "      <td>1</td>\n",
              "      <td>['higher education', 'private university', 'te...</td>\n",
              "      <td>00:02:29</td>\n",
              "    </tr>\n",
              "    <tr>\n",
              "      <th>279</th>\n",
              "      <td>2unUn-ISad4</td>\n",
              "      <td>Jeremy Leung - Hackerspace- Awakening America'...</td>\n",
              "      <td>2011-08-19 22:01:05+00:00</td>\n",
              "      <td>152</td>\n",
              "      <td>4</td>\n",
              "      <td>1</td>\n",
              "      <td>['Jeremy', 'Leung', 'Hackerspace', 'Awakening'...</td>\n",
              "      <td>00:39:02</td>\n",
              "    </tr>\n",
              "  </tbody>\n",
              "</table>\n",
              "</div>\n",
              "    <div class=\"colab-df-buttons\">\n",
              "\n",
              "  <div class=\"colab-df-container\">\n",
              "    <button class=\"colab-df-convert\" onclick=\"convertToInteractive('df-32501bb4-81e2-477f-8fe6-405062620a61')\"\n",
              "            title=\"Convert this dataframe to an interactive table.\"\n",
              "            style=\"display:none;\">\n",
              "\n",
              "  <svg xmlns=\"http://www.w3.org/2000/svg\" height=\"24px\" viewBox=\"0 -960 960 960\">\n",
              "    <path d=\"M120-120v-720h720v720H120Zm60-500h600v-160H180v160Zm220 220h160v-160H400v160Zm0 220h160v-160H400v160ZM180-400h160v-160H180v160Zm440 0h160v-160H620v160ZM180-180h160v-160H180v160Zm440 0h160v-160H620v160Z\"/>\n",
              "  </svg>\n",
              "    </button>\n",
              "\n",
              "  <style>\n",
              "    .colab-df-container {\n",
              "      display:flex;\n",
              "      gap: 12px;\n",
              "    }\n",
              "\n",
              "    .colab-df-convert {\n",
              "      background-color: #E8F0FE;\n",
              "      border: none;\n",
              "      border-radius: 50%;\n",
              "      cursor: pointer;\n",
              "      display: none;\n",
              "      fill: #1967D2;\n",
              "      height: 32px;\n",
              "      padding: 0 0 0 0;\n",
              "      width: 32px;\n",
              "    }\n",
              "\n",
              "    .colab-df-convert:hover {\n",
              "      background-color: #E2EBFA;\n",
              "      box-shadow: 0px 1px 2px rgba(60, 64, 67, 0.3), 0px 1px 3px 1px rgba(60, 64, 67, 0.15);\n",
              "      fill: #174EA6;\n",
              "    }\n",
              "\n",
              "    .colab-df-buttons div {\n",
              "      margin-bottom: 4px;\n",
              "    }\n",
              "\n",
              "    [theme=dark] .colab-df-convert {\n",
              "      background-color: #3B4455;\n",
              "      fill: #D2E3FC;\n",
              "    }\n",
              "\n",
              "    [theme=dark] .colab-df-convert:hover {\n",
              "      background-color: #434B5C;\n",
              "      box-shadow: 0px 1px 3px 1px rgba(0, 0, 0, 0.15);\n",
              "      filter: drop-shadow(0px 1px 2px rgba(0, 0, 0, 0.3));\n",
              "      fill: #FFFFFF;\n",
              "    }\n",
              "  </style>\n",
              "\n",
              "    <script>\n",
              "      const buttonEl =\n",
              "        document.querySelector('#df-32501bb4-81e2-477f-8fe6-405062620a61 button.colab-df-convert');\n",
              "      buttonEl.style.display =\n",
              "        google.colab.kernel.accessAllowed ? 'block' : 'none';\n",
              "\n",
              "      async function convertToInteractive(key) {\n",
              "        const element = document.querySelector('#df-32501bb4-81e2-477f-8fe6-405062620a61');\n",
              "        const dataTable =\n",
              "          await google.colab.kernel.invokeFunction('convertToInteractive',\n",
              "                                                    [key], {});\n",
              "        if (!dataTable) return;\n",
              "\n",
              "        const docLinkHtml = 'Like what you see? Visit the ' +\n",
              "          '<a target=\"_blank\" href=https://colab.research.google.com/notebooks/data_table.ipynb>data table notebook</a>'\n",
              "          + ' to learn more about interactive tables.';\n",
              "        element.innerHTML = '';\n",
              "        dataTable['output_type'] = 'display_data';\n",
              "        await google.colab.output.renderOutput(dataTable, element);\n",
              "        const docLink = document.createElement('div');\n",
              "        docLink.innerHTML = docLinkHtml;\n",
              "        element.appendChild(docLink);\n",
              "      }\n",
              "    </script>\n",
              "  </div>\n",
              "\n",
              "\n",
              "<div id=\"df-0de5ecde-3653-4825-993b-4a321fc330c6\">\n",
              "  <button class=\"colab-df-quickchart\" onclick=\"quickchart('df-0de5ecde-3653-4825-993b-4a321fc330c6')\"\n",
              "            title=\"Suggest charts\"\n",
              "            style=\"display:none;\">\n",
              "\n",
              "<svg xmlns=\"http://www.w3.org/2000/svg\" height=\"24px\"viewBox=\"0 0 24 24\"\n",
              "     width=\"24px\">\n",
              "    <g>\n",
              "        <path d=\"M19 3H5c-1.1 0-2 .9-2 2v14c0 1.1.9 2 2 2h14c1.1 0 2-.9 2-2V5c0-1.1-.9-2-2-2zM9 17H7v-7h2v7zm4 0h-2V7h2v10zm4 0h-2v-4h2v4z\"/>\n",
              "    </g>\n",
              "</svg>\n",
              "  </button>\n",
              "\n",
              "<style>\n",
              "  .colab-df-quickchart {\n",
              "      --bg-color: #E8F0FE;\n",
              "      --fill-color: #1967D2;\n",
              "      --hover-bg-color: #E2EBFA;\n",
              "      --hover-fill-color: #174EA6;\n",
              "      --disabled-fill-color: #AAA;\n",
              "      --disabled-bg-color: #DDD;\n",
              "  }\n",
              "\n",
              "  [theme=dark] .colab-df-quickchart {\n",
              "      --bg-color: #3B4455;\n",
              "      --fill-color: #D2E3FC;\n",
              "      --hover-bg-color: #434B5C;\n",
              "      --hover-fill-color: #FFFFFF;\n",
              "      --disabled-bg-color: #3B4455;\n",
              "      --disabled-fill-color: #666;\n",
              "  }\n",
              "\n",
              "  .colab-df-quickchart {\n",
              "    background-color: var(--bg-color);\n",
              "    border: none;\n",
              "    border-radius: 50%;\n",
              "    cursor: pointer;\n",
              "    display: none;\n",
              "    fill: var(--fill-color);\n",
              "    height: 32px;\n",
              "    padding: 0;\n",
              "    width: 32px;\n",
              "  }\n",
              "\n",
              "  .colab-df-quickchart:hover {\n",
              "    background-color: var(--hover-bg-color);\n",
              "    box-shadow: 0 1px 2px rgba(60, 64, 67, 0.3), 0 1px 3px 1px rgba(60, 64, 67, 0.15);\n",
              "    fill: var(--button-hover-fill-color);\n",
              "  }\n",
              "\n",
              "  .colab-df-quickchart-complete:disabled,\n",
              "  .colab-df-quickchart-complete:disabled:hover {\n",
              "    background-color: var(--disabled-bg-color);\n",
              "    fill: var(--disabled-fill-color);\n",
              "    box-shadow: none;\n",
              "  }\n",
              "\n",
              "  .colab-df-spinner {\n",
              "    border: 2px solid var(--fill-color);\n",
              "    border-color: transparent;\n",
              "    border-bottom-color: var(--fill-color);\n",
              "    animation:\n",
              "      spin 1s steps(1) infinite;\n",
              "  }\n",
              "\n",
              "  @keyframes spin {\n",
              "    0% {\n",
              "      border-color: transparent;\n",
              "      border-bottom-color: var(--fill-color);\n",
              "      border-left-color: var(--fill-color);\n",
              "    }\n",
              "    20% {\n",
              "      border-color: transparent;\n",
              "      border-left-color: var(--fill-color);\n",
              "      border-top-color: var(--fill-color);\n",
              "    }\n",
              "    30% {\n",
              "      border-color: transparent;\n",
              "      border-left-color: var(--fill-color);\n",
              "      border-top-color: var(--fill-color);\n",
              "      border-right-color: var(--fill-color);\n",
              "    }\n",
              "    40% {\n",
              "      border-color: transparent;\n",
              "      border-right-color: var(--fill-color);\n",
              "      border-top-color: var(--fill-color);\n",
              "    }\n",
              "    60% {\n",
              "      border-color: transparent;\n",
              "      border-right-color: var(--fill-color);\n",
              "    }\n",
              "    80% {\n",
              "      border-color: transparent;\n",
              "      border-right-color: var(--fill-color);\n",
              "      border-bottom-color: var(--fill-color);\n",
              "    }\n",
              "    90% {\n",
              "      border-color: transparent;\n",
              "      border-bottom-color: var(--fill-color);\n",
              "    }\n",
              "  }\n",
              "</style>\n",
              "\n",
              "  <script>\n",
              "    async function quickchart(key) {\n",
              "      const quickchartButtonEl =\n",
              "        document.querySelector('#' + key + ' button');\n",
              "      quickchartButtonEl.disabled = true;  // To prevent multiple clicks.\n",
              "      quickchartButtonEl.classList.add('colab-df-spinner');\n",
              "      try {\n",
              "        const charts = await google.colab.kernel.invokeFunction(\n",
              "            'suggestCharts', [key], {});\n",
              "      } catch (error) {\n",
              "        console.error('Error during call to suggestCharts:', error);\n",
              "      }\n",
              "      quickchartButtonEl.classList.remove('colab-df-spinner');\n",
              "      quickchartButtonEl.classList.add('colab-df-quickchart-complete');\n",
              "    }\n",
              "    (() => {\n",
              "      let quickchartButtonEl =\n",
              "        document.querySelector('#df-0de5ecde-3653-4825-993b-4a321fc330c6 button');\n",
              "      quickchartButtonEl.style.display =\n",
              "        google.colab.kernel.accessAllowed ? 'block' : 'none';\n",
              "    })();\n",
              "  </script>\n",
              "</div>\n",
              "\n",
              "    </div>\n",
              "  </div>\n"
            ],
            "application/vnd.google.colaboratory.intrinsic+json": {
              "type": "dataframe",
              "repr_error": "0"
            }
          },
          "metadata": {},
          "execution_count": 17
        }
      ]
    },
    {
      "cell_type": "code",
      "source": [
        "import re\n",
        "\n",
        "total_tags = []\n",
        "\n",
        "for tags in df['tags']:\n",
        "  if isinstance(tags, list):\n",
        "    total_tags.extend(tags)  # Extending directly for lists\n",
        "  elif isinstance(tags, str):\n",
        "    # Removing brackets and split by commas for string\n",
        "    # Use regex to remove brackets\n",
        "    cleaned_tags = re.sub(r\"[\\[\\]']\", \"\", tags)\n",
        "    total_tags.extend([tag.strip() for tag in cleaned_tags.split(',')])\n",
        "\n",
        "# Counting frequency of each tag\n",
        "most_frequent_tags = pd.Series(total_tags).value_counts()\n",
        "\n",
        "# Obtaining top 10 most frequent tags\n",
        "print(most_frequent_tags.head(10))"
      ],
      "metadata": {
        "colab": {
          "base_uri": "https://localhost:8080/"
        },
        "id": "WtH9NK5EEyz3",
        "outputId": "9d1130ae-8a0f-4f56-d7a7-79d9847baa02"
      },
      "execution_count": null,
      "outputs": [
        {
          "output_type": "stream",
          "name": "stdout",
          "text": [
            "Not available                         150\n",
            "UAT                                    44\n",
            "university of advancing technology     21\n",
            "technology                             21\n",
            "#hoa                                   18\n",
            "Hangouts On Air                        18\n",
            "#hangoutsonair                         18\n",
            "college                                16\n",
            "uat                                    16\n",
            "innovation                             15\n",
            "Name: count, dtype: int64\n"
          ]
        }
      ]
    },
    {
      "cell_type": "markdown",
      "source": [
        "Some of the most common tags used include 'UAT', 'technology', 'Hangouts on Air', and 'college'."
      ],
      "metadata": {
        "id": "9cgFvnaECGV0"
      }
    },
    {
      "cell_type": "code",
      "source": [
        "# converting length to seconds for analysis\n",
        "vid_length_seconds = df['vid_length'].apply(convert_duration_to_seconds)"
      ],
      "metadata": {
        "id": "NFC2RxvGMWFB"
      },
      "execution_count": null,
      "outputs": []
    },
    {
      "cell_type": "code",
      "source": [
        "numeric_df = df[['views', 'likes', 'comments','vid_length']]\n",
        "numeric_df['vid_length'] = vid_length_seconds\n",
        "numeric_df.describe()"
      ],
      "metadata": {
        "colab": {
          "base_uri": "https://localhost:8080/",
          "height": 408
        },
        "id": "3nq85XQZLbpX",
        "outputId": "19985367-58a3-496c-ac74-56e60ae77e15"
      },
      "execution_count": null,
      "outputs": [
        {
          "output_type": "stream",
          "name": "stderr",
          "text": [
            "<ipython-input-41-a1013e76c003>:2: SettingWithCopyWarning: \n",
            "A value is trying to be set on a copy of a slice from a DataFrame.\n",
            "Try using .loc[row_indexer,col_indexer] = value instead\n",
            "\n",
            "See the caveats in the documentation: https://pandas.pydata.org/pandas-docs/stable/user_guide/indexing.html#returning-a-view-versus-a-copy\n",
            "  numeric_df['vid_length'] = vid_length_seconds\n"
          ]
        },
        {
          "output_type": "execute_result",
          "data": {
            "text/plain": [
              "              views        likes    comments    vid_length\n",
              "count  2.890000e+02   289.000000  289.000000    288.000000\n",
              "mean   1.543899e+04    28.868512    1.519031   1479.531250\n",
              "std    1.487355e+05   124.481327    4.859179   2993.910852\n",
              "min    0.000000e+00     0.000000    0.000000      4.000000\n",
              "25%    8.800000e+01     2.000000    0.000000     38.750000\n",
              "50%    2.510000e+02     5.000000    0.000000    194.000000\n",
              "75%    1.534000e+03    13.000000    1.000000   1226.500000\n",
              "max    2.496244e+06  1817.000000   40.000000  18955.000000"
            ],
            "text/html": [
              "\n",
              "  <div id=\"df-340cb3f4-9d24-46eb-87f9-5f401d4a86b3\" class=\"colab-df-container\">\n",
              "    <div>\n",
              "<style scoped>\n",
              "    .dataframe tbody tr th:only-of-type {\n",
              "        vertical-align: middle;\n",
              "    }\n",
              "\n",
              "    .dataframe tbody tr th {\n",
              "        vertical-align: top;\n",
              "    }\n",
              "\n",
              "    .dataframe thead th {\n",
              "        text-align: right;\n",
              "    }\n",
              "</style>\n",
              "<table border=\"1\" class=\"dataframe\">\n",
              "  <thead>\n",
              "    <tr style=\"text-align: right;\">\n",
              "      <th></th>\n",
              "      <th>views</th>\n",
              "      <th>likes</th>\n",
              "      <th>comments</th>\n",
              "      <th>vid_length</th>\n",
              "    </tr>\n",
              "  </thead>\n",
              "  <tbody>\n",
              "    <tr>\n",
              "      <th>count</th>\n",
              "      <td>2.890000e+02</td>\n",
              "      <td>289.000000</td>\n",
              "      <td>289.000000</td>\n",
              "      <td>288.000000</td>\n",
              "    </tr>\n",
              "    <tr>\n",
              "      <th>mean</th>\n",
              "      <td>1.543899e+04</td>\n",
              "      <td>28.868512</td>\n",
              "      <td>1.519031</td>\n",
              "      <td>1479.531250</td>\n",
              "    </tr>\n",
              "    <tr>\n",
              "      <th>std</th>\n",
              "      <td>1.487355e+05</td>\n",
              "      <td>124.481327</td>\n",
              "      <td>4.859179</td>\n",
              "      <td>2993.910852</td>\n",
              "    </tr>\n",
              "    <tr>\n",
              "      <th>min</th>\n",
              "      <td>0.000000e+00</td>\n",
              "      <td>0.000000</td>\n",
              "      <td>0.000000</td>\n",
              "      <td>4.000000</td>\n",
              "    </tr>\n",
              "    <tr>\n",
              "      <th>25%</th>\n",
              "      <td>8.800000e+01</td>\n",
              "      <td>2.000000</td>\n",
              "      <td>0.000000</td>\n",
              "      <td>38.750000</td>\n",
              "    </tr>\n",
              "    <tr>\n",
              "      <th>50%</th>\n",
              "      <td>2.510000e+02</td>\n",
              "      <td>5.000000</td>\n",
              "      <td>0.000000</td>\n",
              "      <td>194.000000</td>\n",
              "    </tr>\n",
              "    <tr>\n",
              "      <th>75%</th>\n",
              "      <td>1.534000e+03</td>\n",
              "      <td>13.000000</td>\n",
              "      <td>1.000000</td>\n",
              "      <td>1226.500000</td>\n",
              "    </tr>\n",
              "    <tr>\n",
              "      <th>max</th>\n",
              "      <td>2.496244e+06</td>\n",
              "      <td>1817.000000</td>\n",
              "      <td>40.000000</td>\n",
              "      <td>18955.000000</td>\n",
              "    </tr>\n",
              "  </tbody>\n",
              "</table>\n",
              "</div>\n",
              "    <div class=\"colab-df-buttons\">\n",
              "\n",
              "  <div class=\"colab-df-container\">\n",
              "    <button class=\"colab-df-convert\" onclick=\"convertToInteractive('df-340cb3f4-9d24-46eb-87f9-5f401d4a86b3')\"\n",
              "            title=\"Convert this dataframe to an interactive table.\"\n",
              "            style=\"display:none;\">\n",
              "\n",
              "  <svg xmlns=\"http://www.w3.org/2000/svg\" height=\"24px\" viewBox=\"0 -960 960 960\">\n",
              "    <path d=\"M120-120v-720h720v720H120Zm60-500h600v-160H180v160Zm220 220h160v-160H400v160Zm0 220h160v-160H400v160ZM180-400h160v-160H180v160Zm440 0h160v-160H620v160ZM180-180h160v-160H180v160Zm440 0h160v-160H620v160Z\"/>\n",
              "  </svg>\n",
              "    </button>\n",
              "\n",
              "  <style>\n",
              "    .colab-df-container {\n",
              "      display:flex;\n",
              "      gap: 12px;\n",
              "    }\n",
              "\n",
              "    .colab-df-convert {\n",
              "      background-color: #E8F0FE;\n",
              "      border: none;\n",
              "      border-radius: 50%;\n",
              "      cursor: pointer;\n",
              "      display: none;\n",
              "      fill: #1967D2;\n",
              "      height: 32px;\n",
              "      padding: 0 0 0 0;\n",
              "      width: 32px;\n",
              "    }\n",
              "\n",
              "    .colab-df-convert:hover {\n",
              "      background-color: #E2EBFA;\n",
              "      box-shadow: 0px 1px 2px rgba(60, 64, 67, 0.3), 0px 1px 3px 1px rgba(60, 64, 67, 0.15);\n",
              "      fill: #174EA6;\n",
              "    }\n",
              "\n",
              "    .colab-df-buttons div {\n",
              "      margin-bottom: 4px;\n",
              "    }\n",
              "\n",
              "    [theme=dark] .colab-df-convert {\n",
              "      background-color: #3B4455;\n",
              "      fill: #D2E3FC;\n",
              "    }\n",
              "\n",
              "    [theme=dark] .colab-df-convert:hover {\n",
              "      background-color: #434B5C;\n",
              "      box-shadow: 0px 1px 3px 1px rgba(0, 0, 0, 0.15);\n",
              "      filter: drop-shadow(0px 1px 2px rgba(0, 0, 0, 0.3));\n",
              "      fill: #FFFFFF;\n",
              "    }\n",
              "  </style>\n",
              "\n",
              "    <script>\n",
              "      const buttonEl =\n",
              "        document.querySelector('#df-340cb3f4-9d24-46eb-87f9-5f401d4a86b3 button.colab-df-convert');\n",
              "      buttonEl.style.display =\n",
              "        google.colab.kernel.accessAllowed ? 'block' : 'none';\n",
              "\n",
              "      async function convertToInteractive(key) {\n",
              "        const element = document.querySelector('#df-340cb3f4-9d24-46eb-87f9-5f401d4a86b3');\n",
              "        const dataTable =\n",
              "          await google.colab.kernel.invokeFunction('convertToInteractive',\n",
              "                                                    [key], {});\n",
              "        if (!dataTable) return;\n",
              "\n",
              "        const docLinkHtml = 'Like what you see? Visit the ' +\n",
              "          '<a target=\"_blank\" href=https://colab.research.google.com/notebooks/data_table.ipynb>data table notebook</a>'\n",
              "          + ' to learn more about interactive tables.';\n",
              "        element.innerHTML = '';\n",
              "        dataTable['output_type'] = 'display_data';\n",
              "        await google.colab.output.renderOutput(dataTable, element);\n",
              "        const docLink = document.createElement('div');\n",
              "        docLink.innerHTML = docLinkHtml;\n",
              "        element.appendChild(docLink);\n",
              "      }\n",
              "    </script>\n",
              "  </div>\n",
              "\n",
              "\n",
              "<div id=\"df-6bdb0a23-9811-4778-a100-e3510cc26c43\">\n",
              "  <button class=\"colab-df-quickchart\" onclick=\"quickchart('df-6bdb0a23-9811-4778-a100-e3510cc26c43')\"\n",
              "            title=\"Suggest charts\"\n",
              "            style=\"display:none;\">\n",
              "\n",
              "<svg xmlns=\"http://www.w3.org/2000/svg\" height=\"24px\"viewBox=\"0 0 24 24\"\n",
              "     width=\"24px\">\n",
              "    <g>\n",
              "        <path d=\"M19 3H5c-1.1 0-2 .9-2 2v14c0 1.1.9 2 2 2h14c1.1 0 2-.9 2-2V5c0-1.1-.9-2-2-2zM9 17H7v-7h2v7zm4 0h-2V7h2v10zm4 0h-2v-4h2v4z\"/>\n",
              "    </g>\n",
              "</svg>\n",
              "  </button>\n",
              "\n",
              "<style>\n",
              "  .colab-df-quickchart {\n",
              "      --bg-color: #E8F0FE;\n",
              "      --fill-color: #1967D2;\n",
              "      --hover-bg-color: #E2EBFA;\n",
              "      --hover-fill-color: #174EA6;\n",
              "      --disabled-fill-color: #AAA;\n",
              "      --disabled-bg-color: #DDD;\n",
              "  }\n",
              "\n",
              "  [theme=dark] .colab-df-quickchart {\n",
              "      --bg-color: #3B4455;\n",
              "      --fill-color: #D2E3FC;\n",
              "      --hover-bg-color: #434B5C;\n",
              "      --hover-fill-color: #FFFFFF;\n",
              "      --disabled-bg-color: #3B4455;\n",
              "      --disabled-fill-color: #666;\n",
              "  }\n",
              "\n",
              "  .colab-df-quickchart {\n",
              "    background-color: var(--bg-color);\n",
              "    border: none;\n",
              "    border-radius: 50%;\n",
              "    cursor: pointer;\n",
              "    display: none;\n",
              "    fill: var(--fill-color);\n",
              "    height: 32px;\n",
              "    padding: 0;\n",
              "    width: 32px;\n",
              "  }\n",
              "\n",
              "  .colab-df-quickchart:hover {\n",
              "    background-color: var(--hover-bg-color);\n",
              "    box-shadow: 0 1px 2px rgba(60, 64, 67, 0.3), 0 1px 3px 1px rgba(60, 64, 67, 0.15);\n",
              "    fill: var(--button-hover-fill-color);\n",
              "  }\n",
              "\n",
              "  .colab-df-quickchart-complete:disabled,\n",
              "  .colab-df-quickchart-complete:disabled:hover {\n",
              "    background-color: var(--disabled-bg-color);\n",
              "    fill: var(--disabled-fill-color);\n",
              "    box-shadow: none;\n",
              "  }\n",
              "\n",
              "  .colab-df-spinner {\n",
              "    border: 2px solid var(--fill-color);\n",
              "    border-color: transparent;\n",
              "    border-bottom-color: var(--fill-color);\n",
              "    animation:\n",
              "      spin 1s steps(1) infinite;\n",
              "  }\n",
              "\n",
              "  @keyframes spin {\n",
              "    0% {\n",
              "      border-color: transparent;\n",
              "      border-bottom-color: var(--fill-color);\n",
              "      border-left-color: var(--fill-color);\n",
              "    }\n",
              "    20% {\n",
              "      border-color: transparent;\n",
              "      border-left-color: var(--fill-color);\n",
              "      border-top-color: var(--fill-color);\n",
              "    }\n",
              "    30% {\n",
              "      border-color: transparent;\n",
              "      border-left-color: var(--fill-color);\n",
              "      border-top-color: var(--fill-color);\n",
              "      border-right-color: var(--fill-color);\n",
              "    }\n",
              "    40% {\n",
              "      border-color: transparent;\n",
              "      border-right-color: var(--fill-color);\n",
              "      border-top-color: var(--fill-color);\n",
              "    }\n",
              "    60% {\n",
              "      border-color: transparent;\n",
              "      border-right-color: var(--fill-color);\n",
              "    }\n",
              "    80% {\n",
              "      border-color: transparent;\n",
              "      border-right-color: var(--fill-color);\n",
              "      border-bottom-color: var(--fill-color);\n",
              "    }\n",
              "    90% {\n",
              "      border-color: transparent;\n",
              "      border-bottom-color: var(--fill-color);\n",
              "    }\n",
              "  }\n",
              "</style>\n",
              "\n",
              "  <script>\n",
              "    async function quickchart(key) {\n",
              "      const quickchartButtonEl =\n",
              "        document.querySelector('#' + key + ' button');\n",
              "      quickchartButtonEl.disabled = true;  // To prevent multiple clicks.\n",
              "      quickchartButtonEl.classList.add('colab-df-spinner');\n",
              "      try {\n",
              "        const charts = await google.colab.kernel.invokeFunction(\n",
              "            'suggestCharts', [key], {});\n",
              "      } catch (error) {\n",
              "        console.error('Error during call to suggestCharts:', error);\n",
              "      }\n",
              "      quickchartButtonEl.classList.remove('colab-df-spinner');\n",
              "      quickchartButtonEl.classList.add('colab-df-quickchart-complete');\n",
              "    }\n",
              "    (() => {\n",
              "      let quickchartButtonEl =\n",
              "        document.querySelector('#df-6bdb0a23-9811-4778-a100-e3510cc26c43 button');\n",
              "      quickchartButtonEl.style.display =\n",
              "        google.colab.kernel.accessAllowed ? 'block' : 'none';\n",
              "    })();\n",
              "  </script>\n",
              "</div>\n",
              "\n",
              "    </div>\n",
              "  </div>\n"
            ],
            "application/vnd.google.colaboratory.intrinsic+json": {
              "type": "dataframe",
              "summary": "{\n  \"name\": \"numeric_df\",\n  \"rows\": 8,\n  \"fields\": [\n    {\n      \"column\": \"views\",\n      \"properties\": {\n        \"dtype\": \"number\",\n        \"std\": 875657.3349078902,\n        \"min\": 0.0,\n        \"max\": 2496244.0,\n        \"num_unique_values\": 8,\n        \"samples\": [\n          15438.98615916955,\n          251.0,\n          289.0\n        ],\n        \"semantic_type\": \"\",\n        \"description\": \"\"\n      }\n    },\n    {\n      \"column\": \"likes\",\n      \"properties\": {\n        \"dtype\": \"number\",\n        \"std\": 627.0232999447772,\n        \"min\": 0.0,\n        \"max\": 1817.0,\n        \"num_unique_values\": 8,\n        \"samples\": [\n          28.868512110726645,\n          5.0,\n          289.0\n        ],\n        \"semantic_type\": \"\",\n        \"description\": \"\"\n      }\n    },\n    {\n      \"column\": \"comments\",\n      \"properties\": {\n        \"dtype\": \"number\",\n        \"std\": 100.71468298461659,\n        \"min\": 0.0,\n        \"max\": 289.0,\n        \"num_unique_values\": 6,\n        \"samples\": [\n          289.0,\n          1.519031141868512,\n          40.0\n        ],\n        \"semantic_type\": \"\",\n        \"description\": \"\"\n      }\n    },\n    {\n      \"column\": \"vid_length\",\n      \"properties\": {\n        \"dtype\": \"number\",\n        \"std\": 6467.709110078429,\n        \"min\": 4.0,\n        \"max\": 18955.0,\n        \"num_unique_values\": 8,\n        \"samples\": [\n          1479.53125,\n          194.0,\n          288.0\n        ],\n        \"semantic_type\": \"\",\n        \"description\": \"\"\n      }\n    }\n  ]\n}"
            }
          },
          "metadata": {},
          "execution_count": 41
        }
      ]
    },
    {
      "cell_type": "markdown",
      "source": [
        "**-Analyzing Patterns-**"
      ],
      "metadata": {
        "id": "Xv0ZKqQJSmv1"
      }
    },
    {
      "cell_type": "code",
      "source": [
        "numeric_df.corr()"
      ],
      "metadata": {
        "colab": {
          "base_uri": "https://localhost:8080/",
          "height": 174
        },
        "id": "clNao3wfLMhP",
        "outputId": "804e03dc-4cd0-48ca-9881-5c2faa9c001b"
      },
      "execution_count": null,
      "outputs": [
        {
          "output_type": "execute_result",
          "data": {
            "text/plain": [
              "               views     likes  comments  vid_length\n",
              "views       1.000000  0.861563  0.486754   -0.045219\n",
              "likes       0.861563  1.000000  0.698212   -0.045405\n",
              "comments    0.486754  0.698212  1.000000    0.024040\n",
              "vid_length -0.045219 -0.045405  0.024040    1.000000"
            ],
            "text/html": [
              "\n",
              "  <div id=\"df-4407255c-6a83-415e-9922-1775a322758c\" class=\"colab-df-container\">\n",
              "    <div>\n",
              "<style scoped>\n",
              "    .dataframe tbody tr th:only-of-type {\n",
              "        vertical-align: middle;\n",
              "    }\n",
              "\n",
              "    .dataframe tbody tr th {\n",
              "        vertical-align: top;\n",
              "    }\n",
              "\n",
              "    .dataframe thead th {\n",
              "        text-align: right;\n",
              "    }\n",
              "</style>\n",
              "<table border=\"1\" class=\"dataframe\">\n",
              "  <thead>\n",
              "    <tr style=\"text-align: right;\">\n",
              "      <th></th>\n",
              "      <th>views</th>\n",
              "      <th>likes</th>\n",
              "      <th>comments</th>\n",
              "      <th>vid_length</th>\n",
              "    </tr>\n",
              "  </thead>\n",
              "  <tbody>\n",
              "    <tr>\n",
              "      <th>views</th>\n",
              "      <td>1.000000</td>\n",
              "      <td>0.861563</td>\n",
              "      <td>0.486754</td>\n",
              "      <td>-0.045219</td>\n",
              "    </tr>\n",
              "    <tr>\n",
              "      <th>likes</th>\n",
              "      <td>0.861563</td>\n",
              "      <td>1.000000</td>\n",
              "      <td>0.698212</td>\n",
              "      <td>-0.045405</td>\n",
              "    </tr>\n",
              "    <tr>\n",
              "      <th>comments</th>\n",
              "      <td>0.486754</td>\n",
              "      <td>0.698212</td>\n",
              "      <td>1.000000</td>\n",
              "      <td>0.024040</td>\n",
              "    </tr>\n",
              "    <tr>\n",
              "      <th>vid_length</th>\n",
              "      <td>-0.045219</td>\n",
              "      <td>-0.045405</td>\n",
              "      <td>0.024040</td>\n",
              "      <td>1.000000</td>\n",
              "    </tr>\n",
              "  </tbody>\n",
              "</table>\n",
              "</div>\n",
              "    <div class=\"colab-df-buttons\">\n",
              "\n",
              "  <div class=\"colab-df-container\">\n",
              "    <button class=\"colab-df-convert\" onclick=\"convertToInteractive('df-4407255c-6a83-415e-9922-1775a322758c')\"\n",
              "            title=\"Convert this dataframe to an interactive table.\"\n",
              "            style=\"display:none;\">\n",
              "\n",
              "  <svg xmlns=\"http://www.w3.org/2000/svg\" height=\"24px\" viewBox=\"0 -960 960 960\">\n",
              "    <path d=\"M120-120v-720h720v720H120Zm60-500h600v-160H180v160Zm220 220h160v-160H400v160Zm0 220h160v-160H400v160ZM180-400h160v-160H180v160Zm440 0h160v-160H620v160ZM180-180h160v-160H180v160Zm440 0h160v-160H620v160Z\"/>\n",
              "  </svg>\n",
              "    </button>\n",
              "\n",
              "  <style>\n",
              "    .colab-df-container {\n",
              "      display:flex;\n",
              "      gap: 12px;\n",
              "    }\n",
              "\n",
              "    .colab-df-convert {\n",
              "      background-color: #E8F0FE;\n",
              "      border: none;\n",
              "      border-radius: 50%;\n",
              "      cursor: pointer;\n",
              "      display: none;\n",
              "      fill: #1967D2;\n",
              "      height: 32px;\n",
              "      padding: 0 0 0 0;\n",
              "      width: 32px;\n",
              "    }\n",
              "\n",
              "    .colab-df-convert:hover {\n",
              "      background-color: #E2EBFA;\n",
              "      box-shadow: 0px 1px 2px rgba(60, 64, 67, 0.3), 0px 1px 3px 1px rgba(60, 64, 67, 0.15);\n",
              "      fill: #174EA6;\n",
              "    }\n",
              "\n",
              "    .colab-df-buttons div {\n",
              "      margin-bottom: 4px;\n",
              "    }\n",
              "\n",
              "    [theme=dark] .colab-df-convert {\n",
              "      background-color: #3B4455;\n",
              "      fill: #D2E3FC;\n",
              "    }\n",
              "\n",
              "    [theme=dark] .colab-df-convert:hover {\n",
              "      background-color: #434B5C;\n",
              "      box-shadow: 0px 1px 3px 1px rgba(0, 0, 0, 0.15);\n",
              "      filter: drop-shadow(0px 1px 2px rgba(0, 0, 0, 0.3));\n",
              "      fill: #FFFFFF;\n",
              "    }\n",
              "  </style>\n",
              "\n",
              "    <script>\n",
              "      const buttonEl =\n",
              "        document.querySelector('#df-4407255c-6a83-415e-9922-1775a322758c button.colab-df-convert');\n",
              "      buttonEl.style.display =\n",
              "        google.colab.kernel.accessAllowed ? 'block' : 'none';\n",
              "\n",
              "      async function convertToInteractive(key) {\n",
              "        const element = document.querySelector('#df-4407255c-6a83-415e-9922-1775a322758c');\n",
              "        const dataTable =\n",
              "          await google.colab.kernel.invokeFunction('convertToInteractive',\n",
              "                                                    [key], {});\n",
              "        if (!dataTable) return;\n",
              "\n",
              "        const docLinkHtml = 'Like what you see? Visit the ' +\n",
              "          '<a target=\"_blank\" href=https://colab.research.google.com/notebooks/data_table.ipynb>data table notebook</a>'\n",
              "          + ' to learn more about interactive tables.';\n",
              "        element.innerHTML = '';\n",
              "        dataTable['output_type'] = 'display_data';\n",
              "        await google.colab.output.renderOutput(dataTable, element);\n",
              "        const docLink = document.createElement('div');\n",
              "        docLink.innerHTML = docLinkHtml;\n",
              "        element.appendChild(docLink);\n",
              "      }\n",
              "    </script>\n",
              "  </div>\n",
              "\n",
              "\n",
              "<div id=\"df-e6f3ac4b-671e-4e09-9d78-1c5b8e7a5ba4\">\n",
              "  <button class=\"colab-df-quickchart\" onclick=\"quickchart('df-e6f3ac4b-671e-4e09-9d78-1c5b8e7a5ba4')\"\n",
              "            title=\"Suggest charts\"\n",
              "            style=\"display:none;\">\n",
              "\n",
              "<svg xmlns=\"http://www.w3.org/2000/svg\" height=\"24px\"viewBox=\"0 0 24 24\"\n",
              "     width=\"24px\">\n",
              "    <g>\n",
              "        <path d=\"M19 3H5c-1.1 0-2 .9-2 2v14c0 1.1.9 2 2 2h14c1.1 0 2-.9 2-2V5c0-1.1-.9-2-2-2zM9 17H7v-7h2v7zm4 0h-2V7h2v10zm4 0h-2v-4h2v4z\"/>\n",
              "    </g>\n",
              "</svg>\n",
              "  </button>\n",
              "\n",
              "<style>\n",
              "  .colab-df-quickchart {\n",
              "      --bg-color: #E8F0FE;\n",
              "      --fill-color: #1967D2;\n",
              "      --hover-bg-color: #E2EBFA;\n",
              "      --hover-fill-color: #174EA6;\n",
              "      --disabled-fill-color: #AAA;\n",
              "      --disabled-bg-color: #DDD;\n",
              "  }\n",
              "\n",
              "  [theme=dark] .colab-df-quickchart {\n",
              "      --bg-color: #3B4455;\n",
              "      --fill-color: #D2E3FC;\n",
              "      --hover-bg-color: #434B5C;\n",
              "      --hover-fill-color: #FFFFFF;\n",
              "      --disabled-bg-color: #3B4455;\n",
              "      --disabled-fill-color: #666;\n",
              "  }\n",
              "\n",
              "  .colab-df-quickchart {\n",
              "    background-color: var(--bg-color);\n",
              "    border: none;\n",
              "    border-radius: 50%;\n",
              "    cursor: pointer;\n",
              "    display: none;\n",
              "    fill: var(--fill-color);\n",
              "    height: 32px;\n",
              "    padding: 0;\n",
              "    width: 32px;\n",
              "  }\n",
              "\n",
              "  .colab-df-quickchart:hover {\n",
              "    background-color: var(--hover-bg-color);\n",
              "    box-shadow: 0 1px 2px rgba(60, 64, 67, 0.3), 0 1px 3px 1px rgba(60, 64, 67, 0.15);\n",
              "    fill: var(--button-hover-fill-color);\n",
              "  }\n",
              "\n",
              "  .colab-df-quickchart-complete:disabled,\n",
              "  .colab-df-quickchart-complete:disabled:hover {\n",
              "    background-color: var(--disabled-bg-color);\n",
              "    fill: var(--disabled-fill-color);\n",
              "    box-shadow: none;\n",
              "  }\n",
              "\n",
              "  .colab-df-spinner {\n",
              "    border: 2px solid var(--fill-color);\n",
              "    border-color: transparent;\n",
              "    border-bottom-color: var(--fill-color);\n",
              "    animation:\n",
              "      spin 1s steps(1) infinite;\n",
              "  }\n",
              "\n",
              "  @keyframes spin {\n",
              "    0% {\n",
              "      border-color: transparent;\n",
              "      border-bottom-color: var(--fill-color);\n",
              "      border-left-color: var(--fill-color);\n",
              "    }\n",
              "    20% {\n",
              "      border-color: transparent;\n",
              "      border-left-color: var(--fill-color);\n",
              "      border-top-color: var(--fill-color);\n",
              "    }\n",
              "    30% {\n",
              "      border-color: transparent;\n",
              "      border-left-color: var(--fill-color);\n",
              "      border-top-color: var(--fill-color);\n",
              "      border-right-color: var(--fill-color);\n",
              "    }\n",
              "    40% {\n",
              "      border-color: transparent;\n",
              "      border-right-color: var(--fill-color);\n",
              "      border-top-color: var(--fill-color);\n",
              "    }\n",
              "    60% {\n",
              "      border-color: transparent;\n",
              "      border-right-color: var(--fill-color);\n",
              "    }\n",
              "    80% {\n",
              "      border-color: transparent;\n",
              "      border-right-color: var(--fill-color);\n",
              "      border-bottom-color: var(--fill-color);\n",
              "    }\n",
              "    90% {\n",
              "      border-color: transparent;\n",
              "      border-bottom-color: var(--fill-color);\n",
              "    }\n",
              "  }\n",
              "</style>\n",
              "\n",
              "  <script>\n",
              "    async function quickchart(key) {\n",
              "      const quickchartButtonEl =\n",
              "        document.querySelector('#' + key + ' button');\n",
              "      quickchartButtonEl.disabled = true;  // To prevent multiple clicks.\n",
              "      quickchartButtonEl.classList.add('colab-df-spinner');\n",
              "      try {\n",
              "        const charts = await google.colab.kernel.invokeFunction(\n",
              "            'suggestCharts', [key], {});\n",
              "      } catch (error) {\n",
              "        console.error('Error during call to suggestCharts:', error);\n",
              "      }\n",
              "      quickchartButtonEl.classList.remove('colab-df-spinner');\n",
              "      quickchartButtonEl.classList.add('colab-df-quickchart-complete');\n",
              "    }\n",
              "    (() => {\n",
              "      let quickchartButtonEl =\n",
              "        document.querySelector('#df-e6f3ac4b-671e-4e09-9d78-1c5b8e7a5ba4 button');\n",
              "      quickchartButtonEl.style.display =\n",
              "        google.colab.kernel.accessAllowed ? 'block' : 'none';\n",
              "    })();\n",
              "  </script>\n",
              "</div>\n",
              "\n",
              "    </div>\n",
              "  </div>\n"
            ],
            "application/vnd.google.colaboratory.intrinsic+json": {
              "type": "dataframe",
              "summary": "{\n  \"name\": \"numeric_df\",\n  \"rows\": 4,\n  \"fields\": [\n    {\n      \"column\": \"views\",\n      \"properties\": {\n        \"dtype\": \"number\",\n        \"std\": 0.46733268816928897,\n        \"min\": -0.04521864680054027,\n        \"max\": 1.0,\n        \"num_unique_values\": 4,\n        \"samples\": [\n          0.8615630859606387,\n          -0.04521864680054027,\n          1.0\n        ],\n        \"semantic_type\": \"\",\n        \"description\": \"\"\n      }\n    },\n    {\n      \"column\": \"likes\",\n      \"properties\": {\n        \"dtype\": \"number\",\n        \"std\": 0.4659536556184754,\n        \"min\": -0.045405072308031647,\n        \"max\": 1.0,\n        \"num_unique_values\": 4,\n        \"samples\": [\n          1.0,\n          -0.045405072308031647,\n          0.8615630859606387\n        ],\n        \"semantic_type\": \"\",\n        \"description\": \"\"\n      }\n    },\n    {\n      \"column\": \"comments\",\n      \"properties\": {\n        \"dtype\": \"number\",\n        \"std\": 0.41031736584279893,\n        \"min\": 0.024039501598105282,\n        \"max\": 1.0,\n        \"num_unique_values\": 4,\n        \"samples\": [\n          0.698212002270907,\n          0.024039501598105282,\n          0.4867540236713124\n        ],\n        \"semantic_type\": \"\",\n        \"description\": \"\"\n      }\n    },\n    {\n      \"column\": \"vid_length\",\n      \"properties\": {\n        \"dtype\": \"number\",\n        \"std\": 0.5121419036740754,\n        \"min\": -0.045405072308031647,\n        \"max\": 1.0,\n        \"num_unique_values\": 4,\n        \"samples\": [\n          -0.045405072308031647,\n          1.0,\n          -0.04521864680054027\n        ],\n        \"semantic_type\": \"\",\n        \"description\": \"\"\n      }\n    }\n  ]\n}"
            }
          },
          "metadata": {},
          "execution_count": 42
        }
      ]
    },
    {
      "cell_type": "code",
      "source": [
        "sns.heatmap(numeric_df.corr(), annot=True)"
      ],
      "metadata": {
        "colab": {
          "base_uri": "https://localhost:8080/",
          "height": 453
        },
        "id": "u1zRsQHNLV1_",
        "outputId": "5cc436d0-e81d-4ede-82e2-350269783077"
      },
      "execution_count": null,
      "outputs": [
        {
          "output_type": "execute_result",
          "data": {
            "text/plain": [
              "<Axes: >"
            ]
          },
          "metadata": {},
          "execution_count": 43
        },
        {
          "output_type": "display_data",
          "data": {
            "text/plain": [
              "<Figure size 640x480 with 2 Axes>"
            ],
            "image/png": "[encoded data removed]"
          },
          "metadata": {}
        }
      ]
    },
    {
      "cell_type": "markdown",
      "source": [
        "The heatmap demonstrates that likes and views have a rather strong positive correlation. Likes and comments also have a strong correlation. Views and comments share a medium positive correlation.\n",
        "\n",
        "Video length has an incredibly low correlation with all other features. I suspect this is due to the wide range of values. To rectify this, I will seperate video lengths into categories."
      ],
      "metadata": {
        "id": "rLVCz37gNZEC"
      }
    },
    {
      "cell_type": "code",
      "source": [
        "# Splitting time into categories for analysis\n",
        "# <60sec - Shorts (Under a minute)\n",
        "# <240sec - \"Short\" (Under 4 minutes)\n",
        "# <1200sec - Average (4-20mins)\n",
        "# >1200sec - Long (Over 20 minutes)\n",
        "bins = [60, 240, 1200]"
      ],
      "metadata": {
        "id": "qdMPEr0RPnVV"
      },
      "execution_count": null,
      "outputs": []
    },
    {
      "cell_type": "code",
      "source": [
        "time_df = df.copy()\n",
        "\n",
        "# Convert 'vid_length' to seconds before applying pd.cut\n",
        "time_df['vid_length_seconds'] = time_df['vid_length'].apply(convert_duration_to_seconds)\n",
        "\n",
        "# Now apply pd.cut to the numeric 'vid_length_seconds' column\n",
        "# Added a label to match the number of bins and included right=False to follow the original intent\n",
        "time_df['vid_length'] = pd.cut(\n",
        "    time_df['vid_length_seconds'],\n",
        "    bins=[0, 60, 240, 1200, float('inf')],  # Added 0 and inf for boundaries\n",
        "    labels=['Shorts', 'Short', 'Average', 'Long'],  # Added 'Short' label\n",
        "    # Include the lowest value in the first bin\n",
        "    include_lowest=True,\n",
        "    # Specify right=False to make bins (0, 60], (60, 240], etc.\n",
        "    right=False\n",
        ")"
      ],
      "metadata": {
        "id": "eqP5lGthVvrm"
      },
      "execution_count": null,
      "outputs": []
    },
    {
      "cell_type": "code",
      "source": [
        "numeric_time_df = time_df[['views', 'likes', 'comments','vid_length']]\n",
        "# Convert 'vid_length' to a numerical representation for correlation calculation\n",
        "numeric_time_df['vid_length_numeric'] = numeric_time_df['vid_length'].cat.codes\n",
        "# Calculate correlation with the numerical representation\n",
        "correlation = numeric_time_df[['views', 'likes', 'comments', 'vid_length_numeric']].corr()\n",
        "print(correlation)"
      ],
      "metadata": {
        "colab": {
          "base_uri": "https://localhost:8080/"
        },
        "id": "1hKu1L5-Xk8s",
        "outputId": "dd8b186f-28f2-4dc4-9a12-452a7dee4987"
      },
      "execution_count": null,
      "outputs": [
        {
          "output_type": "stream",
          "name": "stdout",
          "text": [
            "                       views     likes  comments  vid_length_numeric\n",
            "views               1.000000  0.861563  0.486754           -0.049834\n",
            "likes               0.861563  1.000000  0.698212           -0.009106\n",
            "comments            0.486754  0.698212  1.000000            0.126887\n",
            "vid_length_numeric -0.049834 -0.009106  0.126887            1.000000\n"
          ]
        },
        {
          "output_type": "stream",
          "name": "stderr",
          "text": [
            "<ipython-input-26-aacbace71338>:3: SettingWithCopyWarning: \n",
            "A value is trying to be set on a copy of a slice from a DataFrame.\n",
            "Try using .loc[row_indexer,col_indexer] = value instead\n",
            "\n",
            "See the caveats in the documentation: https://pandas.pydata.org/pandas-docs/stable/user_guide/indexing.html#returning-a-view-versus-a-copy\n",
            "  numeric_time_df['vid_length_numeric'] = numeric_time_df['vid_length'].cat.codes\n"
          ]
        }
      ]
    },
    {
      "cell_type": "code",
      "source": [
        "sns.heatmap(numeric_time_df[['views', 'likes', 'comments', 'vid_length_numeric']].corr(), annot=True)"
      ],
      "metadata": {
        "colab": {
          "base_uri": "https://localhost:8080/",
          "height": 574
        },
        "id": "c0mlDgyFXwFt",
        "outputId": "e0b52bd3-377c-4112-a7cd-b5f7ac2fd9aa"
      },
      "execution_count": null,
      "outputs": [
        {
          "output_type": "execute_result",
          "data": {
            "text/plain": [
              "<Axes: >"
            ]
          },
          "metadata": {},
          "execution_count": 28
        },
        {
          "output_type": "display_data",
          "data": {
            "text/plain": [
              "<Figure size 640x480 with 2 Axes>"
            ],
            "image/png": "[encoded data removed]"
          },
          "metadata": {}
        }
      ]
    },
    {
      "cell_type": "code",
      "source": [
        "# Splitting the time into categories\n",
        "shorts_df = time_df[time_df['vid_length'] == 'Shorts']\n",
        "short_df = time_df[time_df['vid_length'] == 'Short']\n",
        "average_df = time_df[time_df['vid_length'] == 'Average']\n",
        "long_df = time_df[time_df['vid_length'] == 'Long']"
      ],
      "metadata": {
        "id": "vT7g85ehYl9X"
      },
      "execution_count": null,
      "outputs": []
    },
    {
      "cell_type": "code",
      "source": [
        "# Function to create heatmap with encoded video length\n",
        "def create_heatmap_with_encoded_vid_length(df, category_name):\n",
        "    # Create a copy of the DataFrame to avoid modifying the original\n",
        "    df_copy = df.copy()\n",
        "\n",
        "    # Convert 'vid_length' to numerical representation using label encoding\n",
        "    df_copy['vid_length_numeric'] = pd.Categorical(df_copy['vid_length']).codes\n",
        "\n",
        "    # Calculate correlation with the numerical representation\n",
        "    correlation = df_copy[['views', 'likes', 'comments', 'vid_length_numeric']].corr()\n",
        "\n",
        "    # Create and display the heatmap\n",
        "    plt.figure(figsize=(8, 6))  # Adjust figure size if needed\n",
        "    sns.heatmap(correlation, annot=True, cmap='coolwarm')  # Choose a colormap\n",
        "    plt.title(f'Correlation Heatmap for {category_name} Videos')\n",
        "    plt.show()"
      ],
      "metadata": {
        "id": "Jdbxt2rfaZDk"
      },
      "execution_count": null,
      "outputs": []
    },
    {
      "cell_type": "code",
      "source": [
        "# Convert 'vid_length_category' to numerical representation for correlation calculation\n",
        "time_df['vid_length_numeric'] = pd.Categorical(time_df['vid_length']).codes # changed to use the categorical column\n",
        "\n",
        "# Calculate correlation with the numerical representation\n",
        "correlation = time_df[['views', 'likes', 'comments', 'vid_length_seconds']].corr()\n",
        "\n",
        "# Create and display the heatmap\n",
        "plt.figure(figsize=(8, 6))  # Adjust figure size if needed\n",
        "sns.heatmap(correlation, annot=True, cmap='coolwarm')  # Choose a colormap\n",
        "plt.title('Correlation Heatmap for All Videos')\n",
        "plt.show()"
      ],
      "metadata": {
        "colab": {
          "base_uri": "https://localhost:8080/",
          "height": 545
        },
        "id": "fs7Fg37xdr5S",
        "outputId": "34093002-3548-4cfa-96c9-ddfcf4df6277"
      },
      "execution_count": null,
      "outputs": [
        {
          "output_type": "display_data",
          "data": {
            "text/plain": [
              "<Figure size 800x600 with 2 Axes>"
            ],
            "image/png": "[encoded data removed]"
          },
          "metadata": {}
        }
      ]
    },
    {
      "cell_type": "code",
      "source": [
        "shorts_correlation = shorts_df[['views', 'likes', 'comments', 'vid_length_seconds']].corr()\n",
        "print(shorts_correlation)\n",
        "\n",
        "plt.figure(figsize=(8, 6))\n",
        "sns.heatmap(shorts_correlation, annot=True, cmap='coolwarm')\n",
        "plt.title('Correlation Heatmap for Shorts Videos (0-60 seconds)')\n",
        "plt.show()"
      ],
      "metadata": {
        "colab": {
          "base_uri": "https://localhost:8080/",
          "height": 632
        },
        "id": "-p6-_EPseWq1",
        "outputId": "03db9f89-27b4-4c97-bd9b-233cc6b7c4eb"
      },
      "execution_count": null,
      "outputs": [
        {
          "output_type": "stream",
          "name": "stdout",
          "text": [
            "                       views     likes  comments  vid_length_seconds\n",
            "views               1.000000  0.054630  0.149357           -0.007030\n",
            "likes               0.054630  1.000000  0.093323            0.042565\n",
            "comments            0.149357  0.093323  1.000000            0.259730\n",
            "vid_length_seconds -0.007030  0.042565  0.259730            1.000000\n"
          ]
        },
        {
          "output_type": "display_data",
          "data": {
            "text/plain": [
              "<Figure size 800x600 with 2 Axes>"
            ],
            "image/png": "[encoded data removed]"
          },
          "metadata": {}
        }
      ]
    },
    {
      "cell_type": "code",
      "source": [
        "short_correlation = short_df[['views', 'likes', 'comments', 'vid_length_seconds']].corr()\n",
        "print(short_correlation)\n",
        "\n",
        "plt.figure(figsize=(8, 6))\n",
        "sns.heatmap(short_correlation, annot=True, cmap='coolwarm')\n",
        "plt.title('Correlation Heatmap for Short Videos (1-4 Minutes)')\n",
        "plt.show()"
      ],
      "metadata": {
        "colab": {
          "base_uri": "https://localhost:8080/",
          "height": 632
        },
        "id": "X0hnGh6Ye3ce",
        "outputId": "5c378795-15fa-4a4c-f695-e6f83e8b908c"
      },
      "execution_count": null,
      "outputs": [
        {
          "output_type": "stream",
          "name": "stdout",
          "text": [
            "                       views     likes  comments  vid_length_seconds\n",
            "views               1.000000  0.976881  0.769190           -0.136520\n",
            "likes               0.976881  1.000000  0.820108           -0.147361\n",
            "comments            0.769190  0.820108  1.000000            0.017682\n",
            "vid_length_seconds -0.136520 -0.147361  0.017682            1.000000\n"
          ]
        },
        {
          "output_type": "display_data",
          "data": {
            "text/plain": [
              "<Figure size 800x600 with 2 Axes>"
            ],
            "image/png": "[encoded data removed]"
          },
          "metadata": {}
        }
      ]
    },
    {
      "cell_type": "code",
      "source": [
        "average_correlation = average_df[['views', 'likes', 'comments', 'vid_length_seconds']].corr()\n",
        "print(average_correlation)\n",
        "\n",
        "plt.figure(figsize=(8, 6))\n",
        "sns.heatmap(average_correlation, annot=True, cmap='coolwarm')\n",
        "plt.title('Correlation Heatmap for Average Videos (5-20 Minutes)')\n",
        "plt.show()"
      ],
      "metadata": {
        "colab": {
          "base_uri": "https://localhost:8080/",
          "height": 632
        },
        "id": "sR8nnPfofNje",
        "outputId": "3f92d489-87c0-4608-859b-7b8e0c66b3d3"
      },
      "execution_count": null,
      "outputs": [
        {
          "output_type": "stream",
          "name": "stdout",
          "text": [
            "                       views     likes  comments  vid_length_seconds\n",
            "views               1.000000  0.846707  0.766301           -0.162288\n",
            "likes               0.846707  1.000000  0.836937           -0.056144\n",
            "comments            0.766301  0.836937  1.000000           -0.094669\n",
            "vid_length_seconds -0.162288 -0.056144 -0.094669            1.000000\n"
          ]
        },
        {
          "output_type": "display_data",
          "data": {
            "text/plain": [
              "<Figure size 800x600 with 2 Axes>"
            ],
            "image/png": "[encoded data removed]"
          },
          "metadata": {}
        }
      ]
    },
    {
      "cell_type": "code",
      "source": [
        "long_correlation = long_df[['views', 'likes', 'comments', 'vid_length_seconds']].corr()\n",
        "print(long_correlation)\n",
        "\n",
        "plt.figure(figsize=(8, 6))\n",
        "sns.heatmap(long_correlation, annot=True, cmap='coolwarm')\n",
        "plt.title('Correlation Heatmap for Long Videos (20+ Minutes)')\n",
        "plt.show()"
      ],
      "metadata": {
        "colab": {
          "base_uri": "https://localhost:8080/",
          "height": 632
        },
        "id": "_DJWn2rqfi4f",
        "outputId": "6b8c13b8-dc5f-4611-83ba-989a782f828f"
      },
      "execution_count": null,
      "outputs": [
        {
          "output_type": "stream",
          "name": "stdout",
          "text": [
            "                       views     likes  comments  vid_length_seconds\n",
            "views               1.000000  0.773680  0.884407            0.071966\n",
            "likes               0.773680  1.000000  0.882676            0.041381\n",
            "comments            0.884407  0.882676  1.000000            0.014058\n",
            "vid_length_seconds  0.071966  0.041381  0.014058            1.000000\n"
          ]
        },
        {
          "output_type": "display_data",
          "data": {
            "text/plain": [
              "<Figure size 800x600 with 2 Axes>"
            ],
            "image/png": "[encoded data removed]"
          },
          "metadata": {}
        }
      ]
    },
    {
      "cell_type": "markdown",
      "source": [
        "Based on the heatmaps, some general patterns begin to appear:\n",
        "\n",
        "For youtube Shorts, most attributes have very low correlation. I suspect this is typical for short-form content, but will research further.\n",
        "\n",
        "For short videos (1-4 minutes, NOT to be confused with YouTube Shorts), views share a very strong positive correlation with likes and a similarly strong correlation with comments. Likes and comments also share a positive correlation, although it is weaker.\n",
        "\n",
        "For videos of average length (4-20 minutes), views again share a strong correlation with both likes and comments. Likes and comments share a similar strength of correlation.\n",
        "\n",
        "For long videos (over 20 minutes), views again correlate with both likes and comments. Likes and comments share a strong correlation as well."
      ],
      "metadata": {
        "id": "VYo9LG6Lhnoy"
      }
    }
  ]
}