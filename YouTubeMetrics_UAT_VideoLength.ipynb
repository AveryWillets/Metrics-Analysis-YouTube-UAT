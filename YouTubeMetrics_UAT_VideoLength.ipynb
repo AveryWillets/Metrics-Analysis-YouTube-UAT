{
  "nbformat": 4,
  "nbformat_minor": 0,
  "metadata": {
    "colab": {
      "provenance": []
    },
    "kernelspec": {
      "name": "python3",
      "display_name": "Python 3"
    },
    "language_info": {
      "name": "python"
    }
  },
  "cells": [
    {
      "cell_type": "code",
      "execution_count": null,
      "metadata": {
        "id": "5R8esdYsJV94"
      },
      "outputs": [],
      "source": [
        "import pandas as pd\n",
        "import numpy as np\n",
        "import matplotlib.pyplot as plt\n",
        "import pandas as pd\n",
        "import numpy as np\n",
        "import matplotlib.pyplot as plt\n",
        "import seaborn as sns\n",
        "\n",
        "import sklearn\n",
        "from sklearn.linear_model import LinearRegression\n",
        "from sklearn.model_selection import train_test_split"
      ]
    },
    {
      "cell_type": "code",
      "source": [
        "df = pd.read_csv('/content/youtube_data_UAT_clean.csv')\n",
        "df.head(10)"
      ],
      "metadata": {
        "colab": {
          "base_uri": "https://localhost:8080/",
          "height": 363
        },
        "id": "lEfLiwDbJofq",
        "outputId": "0ee53a77-09ec-414f-ce0d-96fcda9f8e1d"
      },
      "execution_count": null,
      "outputs": [
        {
          "output_type": "execute_result",
          "data": {
            "text/plain": [
              "      video_id                                             title  \\\n",
              "0  tTVODRiVDCg                                  UAT Cyber Ninjas   \n",
              "1  W5SA-6wphWA                  2024 Valedictorian Tyler Widener   \n",
              "2  4FXI2GgEus8                          Your Idea of Fun is tech   \n",
              "3  IfrdgzxlgFE                   Looking for future UAT Students   \n",
              "4  a6lS9iEcr70      Check out University of Advancing Technology   \n",
              "5  LMz_7JWtWk8            The feeling when you graduate tomorrow   \n",
              "6  oqduODBcF_I                                 UAT Class of 2027   \n",
              "7  eMozUn_Mtlw  Girlbossed a little too hard and ended up at UAT   \n",
              "8  FWLKknM2j_w                      Girlbossed a little too hard   \n",
              "9  yz7Qvt2Hgw0             Advancing Computer Science Major DITL   \n",
              "\n",
              "                release_date  views  likes  comments           tags vid_length  \n",
              "0  2025-03-06 22:04:28+00:00     60      3         0  Not available   00:01:30  \n",
              "1  2025-02-26 18:01:39+00:00     32      1         0  Not available   00:00:16  \n",
              "2  2025-02-26 17:59:15+00:00    452      8         0  Not available   00:00:04  \n",
              "3  2025-02-26 17:51:14+00:00    725     33         0  Not available   00:00:06  \n",
              "4  2025-02-26 17:49:12+00:00    455     10         0  Not available   00:00:06  \n",
              "5  2025-02-26 17:46:48+00:00    417     26         0  Not available   00:00:08  \n",
              "6  2025-02-26 17:45:00+00:00    446      6         0  Not available   00:00:07  \n",
              "7  2025-02-20 17:14:56+00:00    441     12         0  Not available   00:00:14  \n",
              "8  2025-02-20 17:14:52+00:00    444      1         0  Not available   00:00:16  \n",
              "9  2025-02-20 17:14:48+00:00     20      1         0  Not available   00:00:33  "
            ],
            "text/html": [
              "\n",
              "  <div id=\"df-954919e6-6748-4730-93b7-81b6cf300372\" class=\"colab-df-container\">\n",
              "    <div>\n",
              "<style scoped>\n",
              "    .dataframe tbody tr th:only-of-type {\n",
              "        vertical-align: middle;\n",
              "    }\n",
              "\n",
              "    .dataframe tbody tr th {\n",
              "        vertical-align: top;\n",
              "    }\n",
              "\n",
              "    .dataframe thead th {\n",
              "        text-align: right;\n",
              "    }\n",
              "</style>\n",
              "<table border=\"1\" class=\"dataframe\">\n",
              "  <thead>\n",
              "    <tr style=\"text-align: right;\">\n",
              "      <th></th>\n",
              "      <th>video_id</th>\n",
              "      <th>title</th>\n",
              "      <th>release_date</th>\n",
              "      <th>views</th>\n",
              "      <th>likes</th>\n",
              "      <th>comments</th>\n",
              "      <th>tags</th>\n",
              "      <th>vid_length</th>\n",
              "    </tr>\n",
              "  </thead>\n",
              "  <tbody>\n",
              "    <tr>\n",
              "      <th>0</th>\n",
              "      <td>tTVODRiVDCg</td>\n",
              "      <td>UAT Cyber Ninjas</td>\n",
              "      <td>2025-03-06 22:04:28+00:00</td>\n",
              "      <td>60</td>\n",
              "      <td>3</td>\n",
              "      <td>0</td>\n",
              "      <td>Not available</td>\n",
              "      <td>00:01:30</td>\n",
              "    </tr>\n",
              "    <tr>\n",
              "      <th>1</th>\n",
              "      <td>W5SA-6wphWA</td>\n",
              "      <td>2024 Valedictorian Tyler Widener</td>\n",
              "      <td>2025-02-26 18:01:39+00:00</td>\n",
              "      <td>32</td>\n",
              "      <td>1</td>\n",
              "      <td>0</td>\n",
              "      <td>Not available</td>\n",
              "      <td>00:00:16</td>\n",
              "    </tr>\n",
              "    <tr>\n",
              "      <th>2</th>\n",
              "      <td>4FXI2GgEus8</td>\n",
              "      <td>Your Idea of Fun is tech</td>\n",
              "      <td>2025-02-26 17:59:15+00:00</td>\n",
              "      <td>452</td>\n",
              "      <td>8</td>\n",
              "      <td>0</td>\n",
              "      <td>Not available</td>\n",
              "      <td>00:00:04</td>\n",
              "    </tr>\n",
              "    <tr>\n",
              "      <th>3</th>\n",
              "      <td>IfrdgzxlgFE</td>\n",
              "      <td>Looking for future UAT Students</td>\n",
              "      <td>2025-02-26 17:51:14+00:00</td>\n",
              "      <td>725</td>\n",
              "      <td>33</td>\n",
              "      <td>0</td>\n",
              "      <td>Not available</td>\n",
              "      <td>00:00:06</td>\n",
              "    </tr>\n",
              "    <tr>\n",
              "      <th>4</th>\n",
              "      <td>a6lS9iEcr70</td>\n",
              "      <td>Check out University of Advancing Technology</td>\n",
              "      <td>2025-02-26 17:49:12+00:00</td>\n",
              "      <td>455</td>\n",
              "      <td>10</td>\n",
              "      <td>0</td>\n",
              "      <td>Not available</td>\n",
              "      <td>00:00:06</td>\n",
              "    </tr>\n",
              "    <tr>\n",
              "      <th>5</th>\n",
              "      <td>LMz_7JWtWk8</td>\n",
              "      <td>The feeling when you graduate tomorrow</td>\n",
              "      <td>2025-02-26 17:46:48+00:00</td>\n",
              "      <td>417</td>\n",
              "      <td>26</td>\n",
              "      <td>0</td>\n",
              "      <td>Not available</td>\n",
              "      <td>00:00:08</td>\n",
              "    </tr>\n",
              "    <tr>\n",
              "      <th>6</th>\n",
              "      <td>oqduODBcF_I</td>\n",
              "      <td>UAT Class of 2027</td>\n",
              "      <td>2025-02-26 17:45:00+00:00</td>\n",
              "      <td>446</td>\n",
              "      <td>6</td>\n",
              "      <td>0</td>\n",
              "      <td>Not available</td>\n",
              "      <td>00:00:07</td>\n",
              "    </tr>\n",
              "    <tr>\n",
              "      <th>7</th>\n",
              "      <td>eMozUn_Mtlw</td>\n",
              "      <td>Girlbossed a little too hard and ended up at UAT</td>\n",
              "      <td>2025-02-20 17:14:56+00:00</td>\n",
              "      <td>441</td>\n",
              "      <td>12</td>\n",
              "      <td>0</td>\n",
              "      <td>Not available</td>\n",
              "      <td>00:00:14</td>\n",
              "    </tr>\n",
              "    <tr>\n",
              "      <th>8</th>\n",
              "      <td>FWLKknM2j_w</td>\n",
              "      <td>Girlbossed a little too hard</td>\n",
              "      <td>2025-02-20 17:14:52+00:00</td>\n",
              "      <td>444</td>\n",
              "      <td>1</td>\n",
              "      <td>0</td>\n",
              "      <td>Not available</td>\n",
              "      <td>00:00:16</td>\n",
              "    </tr>\n",
              "    <tr>\n",
              "      <th>9</th>\n",
              "      <td>yz7Qvt2Hgw0</td>\n",
              "      <td>Advancing Computer Science Major DITL</td>\n",
              "      <td>2025-02-20 17:14:48+00:00</td>\n",
              "      <td>20</td>\n",
              "      <td>1</td>\n",
              "      <td>0</td>\n",
              "      <td>Not available</td>\n",
              "      <td>00:00:33</td>\n",
              "    </tr>\n",
              "  </tbody>\n",
              "</table>\n",
              "</div>\n",
              "    <div class=\"colab-df-buttons\">\n",
              "\n",
              "  <div class=\"colab-df-container\">\n",
              "    <button class=\"colab-df-convert\" onclick=\"convertToInteractive('df-954919e6-6748-4730-93b7-81b6cf300372')\"\n",
              "            title=\"Convert this dataframe to an interactive table.\"\n",
              "            style=\"display:none;\">\n",
              "\n",
              "  <svg xmlns=\"http://www.w3.org/2000/svg\" height=\"24px\" viewBox=\"0 -960 960 960\">\n",
              "    <path d=\"M120-120v-720h720v720H120Zm60-500h600v-160H180v160Zm220 220h160v-160H400v160Zm0 220h160v-160H400v160ZM180-400h160v-160H180v160Zm440 0h160v-160H620v160ZM180-180h160v-160H180v160Zm440 0h160v-160H620v160Z\"/>\n",
              "  </svg>\n",
              "    </button>\n",
              "\n",
              "  <style>\n",
              "    .colab-df-container {\n",
              "      display:flex;\n",
              "      gap: 12px;\n",
              "    }\n",
              "\n",
              "    .colab-df-convert {\n",
              "      background-color: #E8F0FE;\n",
              "      border: none;\n",
              "      border-radius: 50%;\n",
              "      cursor: pointer;\n",
              "      display: none;\n",
              "      fill: #1967D2;\n",
              "      height: 32px;\n",
              "      padding: 0 0 0 0;\n",
              "      width: 32px;\n",
              "    }\n",
              "\n",
              "    .colab-df-convert:hover {\n",
              "      background-color: #E2EBFA;\n",
              "      box-shadow: 0px 1px 2px rgba(60, 64, 67, 0.3), 0px 1px 3px 1px rgba(60, 64, 67, 0.15);\n",
              "      fill: #174EA6;\n",
              "    }\n",
              "\n",
              "    .colab-df-buttons div {\n",
              "      margin-bottom: 4px;\n",
              "    }\n",
              "\n",
              "    [theme=dark] .colab-df-convert {\n",
              "      background-color: #3B4455;\n",
              "      fill: #D2E3FC;\n",
              "    }\n",
              "\n",
              "    [theme=dark] .colab-df-convert:hover {\n",
              "      background-color: #434B5C;\n",
              "      box-shadow: 0px 1px 3px 1px rgba(0, 0, 0, 0.15);\n",
              "      filter: drop-shadow(0px 1px 2px rgba(0, 0, 0, 0.3));\n",
              "      fill: #FFFFFF;\n",
              "    }\n",
              "  </style>\n",
              "\n",
              "    <script>\n",
              "      const buttonEl =\n",
              "        document.querySelector('#df-954919e6-6748-4730-93b7-81b6cf300372 button.colab-df-convert');\n",
              "      buttonEl.style.display =\n",
              "        google.colab.kernel.accessAllowed ? 'block' : 'none';\n",
              "\n",
              "      async function convertToInteractive(key) {\n",
              "        const element = document.querySelector('#df-954919e6-6748-4730-93b7-81b6cf300372');\n",
              "        const dataTable =\n",
              "          await google.colab.kernel.invokeFunction('convertToInteractive',\n",
              "                                                    [key], {});\n",
              "        if (!dataTable) return;\n",
              "\n",
              "        const docLinkHtml = 'Like what you see? Visit the ' +\n",
              "          '<a target=\"_blank\" href=https://colab.research.google.com/notebooks/data_table.ipynb>data table notebook</a>'\n",
              "          + ' to learn more about interactive tables.';\n",
              "        element.innerHTML = '';\n",
              "        dataTable['output_type'] = 'display_data';\n",
              "        await google.colab.output.renderOutput(dataTable, element);\n",
              "        const docLink = document.createElement('div');\n",
              "        docLink.innerHTML = docLinkHtml;\n",
              "        element.appendChild(docLink);\n",
              "      }\n",
              "    </script>\n",
              "  </div>\n",
              "\n",
              "\n",
              "<div id=\"df-37abde54-51fe-4f21-8563-84ab1ab93507\">\n",
              "  <button class=\"colab-df-quickchart\" onclick=\"quickchart('df-37abde54-51fe-4f21-8563-84ab1ab93507')\"\n",
              "            title=\"Suggest charts\"\n",
              "            style=\"display:none;\">\n",
              "\n",
              "<svg xmlns=\"http://www.w3.org/2000/svg\" height=\"24px\"viewBox=\"0 0 24 24\"\n",
              "     width=\"24px\">\n",
              "    <g>\n",
              "        <path d=\"M19 3H5c-1.1 0-2 .9-2 2v14c0 1.1.9 2 2 2h14c1.1 0 2-.9 2-2V5c0-1.1-.9-2-2-2zM9 17H7v-7h2v7zm4 0h-2V7h2v10zm4 0h-2v-4h2v4z\"/>\n",
              "    </g>\n",
              "</svg>\n",
              "  </button>\n",
              "\n",
              "<style>\n",
              "  .colab-df-quickchart {\n",
              "      --bg-color: #E8F0FE;\n",
              "      --fill-color: #1967D2;\n",
              "      --hover-bg-color: #E2EBFA;\n",
              "      --hover-fill-color: #174EA6;\n",
              "      --disabled-fill-color: #AAA;\n",
              "      --disabled-bg-color: #DDD;\n",
              "  }\n",
              "\n",
              "  [theme=dark] .colab-df-quickchart {\n",
              "      --bg-color: #3B4455;\n",
              "      --fill-color: #D2E3FC;\n",
              "      --hover-bg-color: #434B5C;\n",
              "      --hover-fill-color: #FFFFFF;\n",
              "      --disabled-bg-color: #3B4455;\n",
              "      --disabled-fill-color: #666;\n",
              "  }\n",
              "\n",
              "  .colab-df-quickchart {\n",
              "    background-color: var(--bg-color);\n",
              "    border: none;\n",
              "    border-radius: 50%;\n",
              "    cursor: pointer;\n",
              "    display: none;\n",
              "    fill: var(--fill-color);\n",
              "    height: 32px;\n",
              "    padding: 0;\n",
              "    width: 32px;\n",
              "  }\n",
              "\n",
              "  .colab-df-quickchart:hover {\n",
              "    background-color: var(--hover-bg-color);\n",
              "    box-shadow: 0 1px 2px rgba(60, 64, 67, 0.3), 0 1px 3px 1px rgba(60, 64, 67, 0.15);\n",
              "    fill: var(--button-hover-fill-color);\n",
              "  }\n",
              "\n",
              "  .colab-df-quickchart-complete:disabled,\n",
              "  .colab-df-quickchart-complete:disabled:hover {\n",
              "    background-color: var(--disabled-bg-color);\n",
              "    fill: var(--disabled-fill-color);\n",
              "    box-shadow: none;\n",
              "  }\n",
              "\n",
              "  .colab-df-spinner {\n",
              "    border: 2px solid var(--fill-color);\n",
              "    border-color: transparent;\n",
              "    border-bottom-color: var(--fill-color);\n",
              "    animation:\n",
              "      spin 1s steps(1) infinite;\n",
              "  }\n",
              "\n",
              "  @keyframes spin {\n",
              "    0% {\n",
              "      border-color: transparent;\n",
              "      border-bottom-color: var(--fill-color);\n",
              "      border-left-color: var(--fill-color);\n",
              "    }\n",
              "    20% {\n",
              "      border-color: transparent;\n",
              "      border-left-color: var(--fill-color);\n",
              "      border-top-color: var(--fill-color);\n",
              "    }\n",
              "    30% {\n",
              "      border-color: transparent;\n",
              "      border-left-color: var(--fill-color);\n",
              "      border-top-color: var(--fill-color);\n",
              "      border-right-color: var(--fill-color);\n",
              "    }\n",
              "    40% {\n",
              "      border-color: transparent;\n",
              "      border-right-color: var(--fill-color);\n",
              "      border-top-color: var(--fill-color);\n",
              "    }\n",
              "    60% {\n",
              "      border-color: transparent;\n",
              "      border-right-color: var(--fill-color);\n",
              "    }\n",
              "    80% {\n",
              "      border-color: transparent;\n",
              "      border-right-color: var(--fill-color);\n",
              "      border-bottom-color: var(--fill-color);\n",
              "    }\n",
              "    90% {\n",
              "      border-color: transparent;\n",
              "      border-bottom-color: var(--fill-color);\n",
              "    }\n",
              "  }\n",
              "</style>\n",
              "\n",
              "  <script>\n",
              "    async function quickchart(key) {\n",
              "      const quickchartButtonEl =\n",
              "        document.querySelector('#' + key + ' button');\n",
              "      quickchartButtonEl.disabled = true;  // To prevent multiple clicks.\n",
              "      quickchartButtonEl.classList.add('colab-df-spinner');\n",
              "      try {\n",
              "        const charts = await google.colab.kernel.invokeFunction(\n",
              "            'suggestCharts', [key], {});\n",
              "      } catch (error) {\n",
              "        console.error('Error during call to suggestCharts:', error);\n",
              "      }\n",
              "      quickchartButtonEl.classList.remove('colab-df-spinner');\n",
              "      quickchartButtonEl.classList.add('colab-df-quickchart-complete');\n",
              "    }\n",
              "    (() => {\n",
              "      let quickchartButtonEl =\n",
              "        document.querySelector('#df-37abde54-51fe-4f21-8563-84ab1ab93507 button');\n",
              "      quickchartButtonEl.style.display =\n",
              "        google.colab.kernel.accessAllowed ? 'block' : 'none';\n",
              "    })();\n",
              "  </script>\n",
              "</div>\n",
              "\n",
              "    </div>\n",
              "  </div>\n"
            ],
            "application/vnd.google.colaboratory.intrinsic+json": {
              "type": "dataframe",
              "variable_name": "df",
              "summary": "{\n  \"name\": \"df\",\n  \"rows\": 289,\n  \"fields\": [\n    {\n      \"column\": \"video_id\",\n      \"properties\": {\n        \"dtype\": \"string\",\n        \"num_unique_values\": 289,\n        \"samples\": [\n          \"FcIZT2vul7A\",\n          \"lD3WCIcRsos\",\n          \"n5O0Lv-5x4c\"\n        ],\n        \"semantic_type\": \"\",\n        \"description\": \"\"\n      }\n    },\n    {\n      \"column\": \"title\",\n      \"properties\": {\n        \"dtype\": \"string\",\n        \"num_unique_values\": 277,\n        \"samples\": [\n          \"Tutor Spotlight - Preston Chapman\",\n          \"Student Innovation Project Showcase Fall 2020\",\n          \"Lightmapping (Unity)\"\n        ],\n        \"semantic_type\": \"\",\n        \"description\": \"\"\n      }\n    },\n    {\n      \"column\": \"release_date\",\n      \"properties\": {\n        \"dtype\": \"object\",\n        \"num_unique_values\": 287,\n        \"samples\": [\n          \"2025-02-20 17:14:48+00:00\",\n          \"2013-04-10 02:06:51+00:00\",\n          \"2020-03-23 16:36:45+00:00\"\n        ],\n        \"semantic_type\": \"\",\n        \"description\": \"\"\n      }\n    },\n    {\n      \"column\": \"views\",\n      \"properties\": {\n        \"dtype\": \"number\",\n        \"std\": 148735,\n        \"min\": 0,\n        \"max\": 2496244,\n        \"num_unique_values\": 240,\n        \"samples\": [\n          67,\n          446,\n          551\n        ],\n        \"semantic_type\": \"\",\n        \"description\": \"\"\n      }\n    },\n    {\n      \"column\": \"likes\",\n      \"properties\": {\n        \"dtype\": \"number\",\n        \"std\": 124,\n        \"min\": 0,\n        \"max\": 1817,\n        \"num_unique_values\": 59,\n        \"samples\": [\n          3,\n          26,\n          67\n        ],\n        \"semantic_type\": \"\",\n        \"description\": \"\"\n      }\n    },\n    {\n      \"column\": \"comments\",\n      \"properties\": {\n        \"dtype\": \"number\",\n        \"std\": 4,\n        \"min\": 0,\n        \"max\": 40,\n        \"num_unique_values\": 20,\n        \"samples\": [\n          0,\n          27,\n          33\n        ],\n        \"semantic_type\": \"\",\n        \"description\": \"\"\n      }\n    },\n    {\n      \"column\": \"tags\",\n      \"properties\": {\n        \"dtype\": \"category\",\n        \"num_unique_values\": 122,\n        \"samples\": [\n          \"['new technology', 'innovation', 'new tech', 'CES', 'shorts']\",\n          \"['University of Advancing Technology', 'UAT', 'University of Advancing Technology graduation', 'UAT ceremony', 'UAT commencement ceremony', 'tech grads', 'tech respect', 'technology leaders', 'leaders in technology', 'design degree', 'programming degree', 'video degree', 'artificial intelligence degree', 'game art and animation', 'advancing computer science', 'innovate', 'create']\",\n          \"['university of advancing technology', 'stem jobs', 'Technology degrees', 'programming bachelor degree', 'programming universitites']\"\n        ],\n        \"semantic_type\": \"\",\n        \"description\": \"\"\n      }\n    },\n    {\n      \"column\": \"vid_length\",\n      \"properties\": {\n        \"dtype\": \"string\",\n        \"num_unique_values\": 226,\n        \"samples\": [\n          \"00:00:42\",\n          \"00:26:04\",\n          \"01:08:43\"\n        ],\n        \"semantic_type\": \"\",\n        \"description\": \"\"\n      }\n    }\n  ]\n}"
            }
          },
          "metadata": {},
          "execution_count": 2
        }
      ]
    },
    {
      "cell_type": "code",
      "source": [
        "df.describe()\n",
        "df.info()"
      ],
      "metadata": {
        "colab": {
          "base_uri": "https://localhost:8080/"
        },
        "id": "RrFFPwnCMs8t",
        "outputId": "89dec7c0-487b-47d6-e830-692e370dfdee"
      },
      "execution_count": null,
      "outputs": [
        {
          "output_type": "stream",
          "name": "stdout",
          "text": [
            "<class 'pandas.core.frame.DataFrame'>\n",
            "RangeIndex: 289 entries, 0 to 288\n",
            "Data columns (total 8 columns):\n",
            " #   Column        Non-Null Count  Dtype \n",
            "---  ------        --------------  ----- \n",
            " 0   video_id      289 non-null    object\n",
            " 1   title         289 non-null    object\n",
            " 2   release_date  289 non-null    object\n",
            " 3   views         289 non-null    int64 \n",
            " 4   likes         289 non-null    int64 \n",
            " 5   comments      289 non-null    int64 \n",
            " 6   tags          289 non-null    object\n",
            " 7   vid_length    289 non-null    object\n",
            "dtypes: int64(3), object(5)\n",
            "memory usage: 18.2+ KB\n"
          ]
        }
      ]
    },
    {
      "cell_type": "markdown",
      "source": [
        "SPLITTING INTO TIMEFRAMES"
      ],
      "metadata": {
        "id": "aaTn9B0NKJ4a"
      }
    },
    {
      "cell_type": "markdown",
      "source": [
        "Splitting time into categories for analysis\n",
        "\n",
        "<60sec - Shorts (Under a minute)\n",
        "\n",
        "<240sec - \"Short\" (Under 4 minutes)\n",
        "\n",
        "<1200sec - Average (4-20mins)\n",
        "\n",
        "=<1200sec - Long (Over 20 minutes)"
      ],
      "metadata": {
        "id": "HoxA6ejdKX-i"
      }
    },
    {
      "cell_type": "code",
      "source": [
        "bins = [60, 240, 1200]"
      ],
      "metadata": {
        "id": "9nu_4fiUJxtR"
      },
      "execution_count": null,
      "outputs": []
    },
    {
      "cell_type": "code",
      "source": [
        "# Changing format of video lengths\n",
        "def convert_duration_to_seconds(duration):\n",
        "    # Checking if the duration is 'Unknown' - one value as such in dataset\n",
        "    if duration == 'Unknown':\n",
        "        return None\n",
        "    else:\n",
        "        hours, minutes, seconds = map(int, duration.split(':'))\n",
        "        total_seconds = (hours * 3600) + (minutes * 60) + seconds\n",
        "        return total_seconds\n",
        "\n",
        "vid_length_seconds = df['vid_length'].apply(convert_duration_to_seconds)"
      ],
      "metadata": {
        "id": "-B68b0GDK-xb"
      },
      "execution_count": null,
      "outputs": []
    },
    {
      "cell_type": "code",
      "source": [
        "time_df = df.copy()\n",
        "\n",
        "# Convert 'vid_length' to seconds before applying pd.cut\n",
        "time_df['vid_length_seconds'] = time_df['vid_length'].apply(convert_duration_to_seconds)\n",
        "\n",
        "# Now apply pd.cut to the numeric 'vid_length_seconds' column\n",
        "# Added a label to match the number of bins and included right=False to follow the original intent\n",
        "time_df['vid_length'] = pd.cut(\n",
        "    time_df['vid_length_seconds'],\n",
        "    bins=[0, 60, 240, 1200, float('inf')],  # Added 0 and inf for boundaries\n",
        "    labels=['Shorts', 'Short', 'Average', 'Long'],  # Added 'Short' label\n",
        "    # Include the lowest value in the first bin\n",
        "    include_lowest=True,\n",
        "    # Specify right=False to make bins (0, 60], (60, 240], etc.\n",
        "    right=False\n",
        ")"
      ],
      "metadata": {
        "id": "1Ho8EuTLKWcK"
      },
      "execution_count": null,
      "outputs": []
    },
    {
      "cell_type": "code",
      "source": [
        "# Splitting the time into categories\n",
        "shorts_df = time_df[time_df['vid_length'] == 'Shorts']\n",
        "short_df = time_df[time_df['vid_length'] == 'Short']\n",
        "average_df = time_df[time_df['vid_length'] == 'Average']\n",
        "long_df = time_df[time_df['vid_length'] == 'Long']"
      ],
      "metadata": {
        "id": "NJA4m4jJLZE7"
      },
      "execution_count": null,
      "outputs": []
    },
    {
      "cell_type": "markdown",
      "source": [
        "Evaluating data about different video groups"
      ],
      "metadata": {
        "id": "1F7XiJTISpC9"
      }
    },
    {
      "cell_type": "code",
      "source": [
        "shorts_df.head(10)\n",
        "shorts_df.info()"
      ],
      "metadata": {
        "colab": {
          "base_uri": "https://localhost:8080/"
        },
        "id": "AXgV5inGLdpc",
        "outputId": "2353157d-75ab-489d-dafe-215962cbb160"
      },
      "execution_count": null,
      "outputs": [
        {
          "output_type": "stream",
          "name": "stdout",
          "text": [
            "<class 'pandas.core.frame.DataFrame'>\n",
            "Index: 84 entries, 1 to 265\n",
            "Data columns (total 9 columns):\n",
            " #   Column              Non-Null Count  Dtype   \n",
            "---  ------              --------------  -----   \n",
            " 0   video_id            84 non-null     object  \n",
            " 1   title               84 non-null     object  \n",
            " 2   release_date        84 non-null     object  \n",
            " 3   views               84 non-null     int64   \n",
            " 4   likes               84 non-null     int64   \n",
            " 5   comments            84 non-null     int64   \n",
            " 6   tags                84 non-null     object  \n",
            " 7   vid_length          84 non-null     category\n",
            " 8   vid_length_seconds  84 non-null     float64 \n",
            "dtypes: category(1), float64(1), int64(3), object(4)\n",
            "memory usage: 6.2+ KB\n"
          ]
        }
      ]
    },
    {
      "cell_type": "code",
      "source": [
        "plt.figure(figsize=(5, 3))\n",
        "sns.histplot(shorts_df['views'], bins=30, kde=True)\n",
        "plt.title('Distribution of Views (Shorts: <60secs)')\n",
        "plt.xlabel('Views')\n",
        "plt.ylabel('Frequency')\n",
        "plt.show()"
      ],
      "metadata": {
        "colab": {
          "base_uri": "https://localhost:8080/",
          "height": 333
        },
        "id": "s5tQtmYtS5KV",
        "outputId": "7e524c6f-e55d-457c-b5df-c0e0861af49a"
      },
      "execution_count": null,
      "outputs": [
        {
          "output_type": "display_data",
          "data": {
            "text/plain": [
              "<Figure size 500x300 with 1 Axes>"
            ],
            "image/png": "[encoded data removed]"
          },
          "metadata": {}
        }
      ]
    },
    {
      "cell_type": "code",
      "source": [
        "shorts_views = shorts_df['views'].sum()\n",
        "shorts_views\n",
        "\n",
        "shorts_likes = shorts_df['likes'].sum()\n",
        "shorts_likes"
      ],
      "metadata": {
        "colab": {
          "base_uri": "https://localhost:8080/"
        },
        "id": "rnMrdzBvUsT6",
        "outputId": "2601491a-3334-4348-a53e-8037e00ed9db"
      },
      "execution_count": null,
      "outputs": [
        {
          "output_type": "execute_result",
          "data": {
            "text/plain": [
              "np.int64(1435)"
            ]
          },
          "metadata": {},
          "execution_count": 13
        }
      ]
    },
    {
      "cell_type": "code",
      "source": [
        "short_df.head(10)\n",
        "short_df.info()"
      ],
      "metadata": {
        "colab": {
          "base_uri": "https://localhost:8080/"
        },
        "id": "G4ZS_dzaJRLi",
        "outputId": "e19cd275-d865-4375-a510-2fd3a050a4ee"
      },
      "execution_count": null,
      "outputs": [
        {
          "output_type": "stream",
          "name": "stdout",
          "text": [
            "<class 'pandas.core.frame.DataFrame'>\n",
            "Index: 69 entries, 0 to 262\n",
            "Data columns (total 9 columns):\n",
            " #   Column              Non-Null Count  Dtype   \n",
            "---  ------              --------------  -----   \n",
            " 0   video_id            69 non-null     object  \n",
            " 1   title               69 non-null     object  \n",
            " 2   release_date        69 non-null     object  \n",
            " 3   views               69 non-null     int64   \n",
            " 4   likes               69 non-null     int64   \n",
            " 5   comments            69 non-null     int64   \n",
            " 6   tags                69 non-null     object  \n",
            " 7   vid_length          69 non-null     category\n",
            " 8   vid_length_seconds  69 non-null     float64 \n",
            "dtypes: category(1), float64(1), int64(3), object(4)\n",
            "memory usage: 5.1+ KB\n"
          ]
        }
      ]
    },
    {
      "cell_type": "code",
      "source": [
        "plt.figure(figsize=(5, 3))\n",
        "sns.histplot(short_df['views'], bins=30, kde=True)\n",
        "plt.title('Distribution of Views (Short Vids: 1-4mins)')\n",
        "plt.xlabel('Views')\n",
        "plt.ylabel('Frequency')\n",
        "plt.show()"
      ],
      "metadata": {
        "colab": {
          "base_uri": "https://localhost:8080/",
          "height": 333
        },
        "id": "89dHO4DNTHC-",
        "outputId": "1d9c412b-ca49-46ae-e635-1d03761fdaa0"
      },
      "execution_count": null,
      "outputs": [
        {
          "output_type": "display_data",
          "data": {
            "text/plain": [
              "<Figure size 500x300 with 1 Axes>"
            ],
            "image/png": "[encoded data removed]"
          },
          "metadata": {}
        }
      ]
    },
    {
      "cell_type": "code",
      "source": [
        "short_views = short_df['views'].sum()\n",
        "short_views\n",
        "\n",
        "short_likes = short_df['likes'].sum()\n",
        "short_likes"
      ],
      "metadata": {
        "colab": {
          "base_uri": "https://localhost:8080/"
        },
        "id": "piLO5I7yVCiD",
        "outputId": "b0fde3b4-3381-4459-c688-b3b6ba01bcc0"
      },
      "execution_count": null,
      "outputs": [
        {
          "output_type": "execute_result",
          "data": {
            "text/plain": [
              "np.int64(3345)"
            ]
          },
          "metadata": {},
          "execution_count": 14
        }
      ]
    },
    {
      "cell_type": "code",
      "source": [
        "average_df.head(10)\n",
        "average_df.info()"
      ],
      "metadata": {
        "colab": {
          "base_uri": "https://localhost:8080/"
        },
        "id": "aU808iCuJUuC",
        "outputId": "30d1b9b5-af25-4803-8ee3-18d125e2454f"
      },
      "execution_count": null,
      "outputs": [
        {
          "output_type": "stream",
          "name": "stdout",
          "text": [
            "<class 'pandas.core.frame.DataFrame'>\n",
            "Index: 63 entries, 21 to 288\n",
            "Data columns (total 9 columns):\n",
            " #   Column              Non-Null Count  Dtype   \n",
            "---  ------              --------------  -----   \n",
            " 0   video_id            63 non-null     object  \n",
            " 1   title               63 non-null     object  \n",
            " 2   release_date        63 non-null     object  \n",
            " 3   views               63 non-null     int64   \n",
            " 4   likes               63 non-null     int64   \n",
            " 5   comments            63 non-null     int64   \n",
            " 6   tags                63 non-null     object  \n",
            " 7   vid_length          63 non-null     category\n",
            " 8   vid_length_seconds  63 non-null     float64 \n",
            "dtypes: category(1), float64(1), int64(3), object(4)\n",
            "memory usage: 4.7+ KB\n"
          ]
        }
      ]
    },
    {
      "cell_type": "code",
      "source": [
        "plt.figure(figsize=(5, 3))\n",
        "sns.histplot(average_df['views'], bins=30, kde=True)\n",
        "plt.title('Distribution of Views (Average Vids: 4-20mins)')\n",
        "plt.xlabel('Views')\n",
        "plt.ylabel('Frequency')\n",
        "plt.show()"
      ],
      "metadata": {
        "colab": {
          "base_uri": "https://localhost:8080/",
          "height": 333
        },
        "id": "hxixQfPUTfL4",
        "outputId": "7f3a983e-f26b-473b-a5e7-a4287d119e9c"
      },
      "execution_count": null,
      "outputs": [
        {
          "output_type": "display_data",
          "data": {
            "text/plain": [
              "<Figure size 500x300 with 1 Axes>"
            ],
            "image/png": "[encoded data removed]"
          },
          "metadata": {}
        }
      ]
    },
    {
      "cell_type": "code",
      "source": [
        "average_views = average_df['views'].sum()\n",
        "average_views\n",
        "\n",
        "average_likes = average_df['likes'].sum()\n",
        "average_likes"
      ],
      "metadata": {
        "colab": {
          "base_uri": "https://localhost:8080/"
        },
        "id": "05QwAJffVH1j",
        "outputId": "c038ce7a-e8bf-4076-d629-148da70f4d62"
      },
      "execution_count": null,
      "outputs": [
        {
          "output_type": "execute_result",
          "data": {
            "text/plain": [
              "np.int64(2577)"
            ]
          },
          "metadata": {},
          "execution_count": 15
        }
      ]
    },
    {
      "cell_type": "code",
      "source": [
        "long_df.head(10)\n",
        "long_df.info()"
      ],
      "metadata": {
        "colab": {
          "base_uri": "https://localhost:8080/"
        },
        "id": "zhAwuQw_JXRa",
        "outputId": "64505e50-027f-4458-9729-65c0cc6a4dc0"
      },
      "execution_count": null,
      "outputs": [
        {
          "output_type": "stream",
          "name": "stdout",
          "text": [
            "<class 'pandas.core.frame.DataFrame'>\n",
            "Index: 72 entries, 16 to 283\n",
            "Data columns (total 9 columns):\n",
            " #   Column              Non-Null Count  Dtype   \n",
            "---  ------              --------------  -----   \n",
            " 0   video_id            72 non-null     object  \n",
            " 1   title               72 non-null     object  \n",
            " 2   release_date        72 non-null     object  \n",
            " 3   views               72 non-null     int64   \n",
            " 4   likes               72 non-null     int64   \n",
            " 5   comments            72 non-null     int64   \n",
            " 6   tags                72 non-null     object  \n",
            " 7   vid_length          72 non-null     category\n",
            " 8   vid_length_seconds  72 non-null     float64 \n",
            "dtypes: category(1), float64(1), int64(3), object(4)\n",
            "memory usage: 5.3+ KB\n"
          ]
        }
      ]
    },
    {
      "cell_type": "code",
      "source": [
        "plt.figure(figsize=(5, 3))\n",
        "sns.histplot(long_df['views'], bins=30, kde=True)\n",
        "plt.title('Distribution of Views (Long Vids: >20mins)')\n",
        "plt.xlabel('Views')\n",
        "plt.ylabel('Frequency')\n",
        "plt.show()"
      ],
      "metadata": {
        "colab": {
          "base_uri": "https://localhost:8080/",
          "height": 333
        },
        "id": "aCNufLmuTqkw",
        "outputId": "96c5d067-1c01-48ff-ea5b-317a5a5ee32e"
      },
      "execution_count": null,
      "outputs": [
        {
          "output_type": "display_data",
          "data": {
            "text/plain": [
              "<Figure size 500x300 with 1 Axes>"
            ],
            "image/png": "[encoded data removed]"
          },
          "metadata": {}
        }
      ]
    },
    {
      "cell_type": "code",
      "source": [
        "long_views = long_df['views'].sum()\n",
        "long_views"
      ],
      "metadata": {
        "colab": {
          "base_uri": "https://localhost:8080/"
        },
        "id": "Wl0ra4jkVRwL",
        "outputId": "51fa3b77-c543-40f8-af57-ecff50e28008"
      },
      "execution_count": null,
      "outputs": [
        {
          "output_type": "execute_result",
          "data": {
            "text/plain": [
              "np.int64(52574)"
            ]
          },
          "metadata": {},
          "execution_count": 23
        }
      ]
    },
    {
      "cell_type": "markdown",
      "source": [
        "Linear Regression Analysis\n",
        "\n",
        "Df: shorts_df\n",
        "\n",
        "x/Input: Video Length\n",
        "\n",
        "y/target output: View Count"
      ],
      "metadata": {
        "id": "YcBvakGUMgot"
      }
    },
    {
      "cell_type": "code",
      "source": [
        "# Predicting views based on video length in seconds using linear regression\n",
        "# X = pd.get_dummies(shorts_df['vid_length_seconds'])\n",
        "X = shorts_df[['vid_length_seconds']]\n",
        "y = shorts_df['views']\n",
        "\n",
        "#y_pred = LinearRegression().fit(X, y).predict"
      ],
      "metadata": {
        "id": "ty_xHomPL8b-"
      },
      "execution_count": null,
      "outputs": []
    },
    {
      "cell_type": "code",
      "source": [
        "X_train, X_test, y_train, y_test = train_test_split(X, y, test_size=0.2, random_state=42)"
      ],
      "metadata": {
        "id": "QPC6xPLnJNwP"
      },
      "execution_count": null,
      "outputs": []
    },
    {
      "cell_type": "code",
      "source": [
        "X_train.shape"
      ],
      "metadata": {
        "colab": {
          "base_uri": "https://localhost:8080/"
        },
        "id": "4L75cFgAJe9m",
        "outputId": "901826ac-ec3c-463f-fda0-ea57e31cf71b"
      },
      "execution_count": null,
      "outputs": [
        {
          "output_type": "execute_result",
          "data": {
            "text/plain": [
              "(67, 1)"
            ]
          },
          "metadata": {},
          "execution_count": 26
        }
      ]
    },
    {
      "cell_type": "code",
      "source": [
        "X_test.shape"
      ],
      "metadata": {
        "colab": {
          "base_uri": "https://localhost:8080/"
        },
        "id": "A-Liplmeb180",
        "outputId": "4f61de93-b181-4f86-cba8-58e9bf94fa58"
      },
      "execution_count": null,
      "outputs": [
        {
          "output_type": "execute_result",
          "data": {
            "text/plain": [
              "(17, 1)"
            ]
          },
          "metadata": {},
          "execution_count": 27
        }
      ]
    },
    {
      "cell_type": "code",
      "source": [
        "model = LinearRegression()\n",
        "model.fit(X_train, y_train)"
      ],
      "metadata": {
        "colab": {
          "base_uri": "https://localhost:8080/",
          "height": 80
        },
        "id": "s3Gm0b1ub6sE",
        "outputId": "d1b03747-b954-4984-b6ae-f4cb0b18cbd4"
      },
      "execution_count": null,
      "outputs": [
        {
          "output_type": "execute_result",
          "data": {
            "text/plain": [
              "LinearRegression()"
            ],
            "text/html": [
              "<style>#sk-container-id-1 {\n",
              "  /* Definition of color scheme common for light and dark mode */\n",
              "  --sklearn-color-text: #000;\n",
              "  --sklearn-color-text-muted: #666;\n",
              "  --sklearn-color-line: gray;\n",
              "  /* Definition of color scheme for unfitted estimators */\n",
              "  --sklearn-color-unfitted-level-0: #fff5e6;\n",
              "  --sklearn-color-unfitted-level-1: #f6e4d2;\n",
              "  --sklearn-color-unfitted-level-2: #ffe0b3;\n",
              "  --sklearn-color-unfitted-level-3: chocolate;\n",
              "  /* Definition of color scheme for fitted estimators */\n",
              "  --sklearn-color-fitted-level-0: #f0f8ff;\n",
              "  --sklearn-color-fitted-level-1: #d4ebff;\n",
              "  --sklearn-color-fitted-level-2: #b3dbfd;\n",
              "  --sklearn-color-fitted-level-3: cornflowerblue;\n",
              "\n",
              "  /* Specific color for light theme */\n",
              "  --sklearn-color-text-on-default-background: var(--sg-text-color, var(--theme-code-foreground, var(--jp-content-font-color1, black)));\n",
              "  --sklearn-color-background: var(--sg-background-color, var(--theme-background, var(--jp-layout-color0, white)));\n",
              "  --sklearn-color-border-box: var(--sg-text-color, var(--theme-code-foreground, var(--jp-content-font-color1, black)));\n",
              "  --sklearn-color-icon: #696969;\n",
              "\n",
              "  @media (prefers-color-scheme: dark) {\n",
              "    /* Redefinition of color scheme for dark theme */\n",
              "    --sklearn-color-text-on-default-background: var(--sg-text-color, var(--theme-code-foreground, var(--jp-content-font-color1, white)));\n",
              "    --sklearn-color-background: var(--sg-background-color, var(--theme-background, var(--jp-layout-color0, #111)));\n",
              "    --sklearn-color-border-box: var(--sg-text-color, var(--theme-code-foreground, var(--jp-content-font-color1, white)));\n",
              "    --sklearn-color-icon: #878787;\n",
              "  }\n",
              "}\n",
              "\n",
              "#sk-container-id-1 {\n",
              "  color: var(--sklearn-color-text);\n",
              "}\n",
              "\n",
              "#sk-container-id-1 pre {\n",
              "  padding: 0;\n",
              "}\n",
              "\n",
              "#sk-container-id-1 input.sk-hidden--visually {\n",
              "  border: 0;\n",
              "  clip: rect(1px 1px 1px 1px);\n",
              "  clip: rect(1px, 1px, 1px, 1px);\n",
              "  height: 1px;\n",
              "  margin: -1px;\n",
              "  overflow: hidden;\n",
              "  padding: 0;\n",
              "  position: absolute;\n",
              "  width: 1px;\n",
              "}\n",
              "\n",
              "#sk-container-id-1 div.sk-dashed-wrapped {\n",
              "  border: 1px dashed var(--sklearn-color-line);\n",
              "  margin: 0 0.4em 0.5em 0.4em;\n",
              "  box-sizing: border-box;\n",
              "  padding-bottom: 0.4em;\n",
              "  background-color: var(--sklearn-color-background);\n",
              "}\n",
              "\n",
              "#sk-container-id-1 div.sk-container {\n",
              "  /* jupyter's `normalize.less` sets `[hidden] { display: none; }`\n",
              "     but bootstrap.min.css set `[hidden] { display: none !important; }`\n",
              "     so we also need the `!important` here to be able to override the\n",
              "     default hidden behavior on the sphinx rendered scikit-learn.org.\n",
              "     See: https://github.com/scikit-learn/scikit-learn/issues/21755 */\n",
              "  display: inline-block !important;\n",
              "  position: relative;\n",
              "}\n",
              "\n",
              "#sk-container-id-1 div.sk-text-repr-fallback {\n",
              "  display: none;\n",
              "}\n",
              "\n",
              "div.sk-parallel-item,\n",
              "div.sk-serial,\n",
              "div.sk-item {\n",
              "  /* draw centered vertical line to link estimators */\n",
              "  background-image: linear-gradient(var(--sklearn-color-text-on-default-background), var(--sklearn-color-text-on-default-background));\n",
              "  background-size: 2px 100%;\n",
              "  background-repeat: no-repeat;\n",
              "  background-position: center center;\n",
              "}\n",
              "\n",
              "/* Parallel-specific style estimator block */\n",
              "\n",
              "#sk-container-id-1 div.sk-parallel-item::after {\n",
              "  content: \"\";\n",
              "  width: 100%;\n",
              "  border-bottom: 2px solid var(--sklearn-color-text-on-default-background);\n",
              "  flex-grow: 1;\n",
              "}\n",
              "\n",
              "#sk-container-id-1 div.sk-parallel {\n",
              "  display: flex;\n",
              "  align-items: stretch;\n",
              "  justify-content: center;\n",
              "  background-color: var(--sklearn-color-background);\n",
              "  position: relative;\n",
              "}\n",
              "\n",
              "#sk-container-id-1 div.sk-parallel-item {\n",
              "  display: flex;\n",
              "  flex-direction: column;\n",
              "}\n",
              "\n",
              "#sk-container-id-1 div.sk-parallel-item:first-child::after {\n",
              "  align-self: flex-end;\n",
              "  width: 50%;\n",
              "}\n",
              "\n",
              "#sk-container-id-1 div.sk-parallel-item:last-child::after {\n",
              "  align-self: flex-start;\n",
              "  width: 50%;\n",
              "}\n",
              "\n",
              "#sk-container-id-1 div.sk-parallel-item:only-child::after {\n",
              "  width: 0;\n",
              "}\n",
              "\n",
              "/* Serial-specific style estimator block */\n",
              "\n",
              "#sk-container-id-1 div.sk-serial {\n",
              "  display: flex;\n",
              "  flex-direction: column;\n",
              "  align-items: center;\n",
              "  background-color: var(--sklearn-color-background);\n",
              "  padding-right: 1em;\n",
              "  padding-left: 1em;\n",
              "}\n",
              "\n",
              "\n",
              "/* Toggleable style: style used for estimator/Pipeline/ColumnTransformer box that is\n",
              "clickable and can be expanded/collapsed.\n",
              "- Pipeline and ColumnTransformer use this feature and define the default style\n",
              "- Estimators will overwrite some part of the style using the `sk-estimator` class\n",
              "*/\n",
              "\n",
              "/* Pipeline and ColumnTransformer style (default) */\n",
              "\n",
              "#sk-container-id-1 div.sk-toggleable {\n",
              "  /* Default theme specific background. It is overwritten whether we have a\n",
              "  specific estimator or a Pipeline/ColumnTransformer */\n",
              "  background-color: var(--sklearn-color-background);\n",
              "}\n",
              "\n",
              "/* Toggleable label */\n",
              "#sk-container-id-1 label.sk-toggleable__label {\n",
              "  cursor: pointer;\n",
              "  display: flex;\n",
              "  width: 100%;\n",
              "  margin-bottom: 0;\n",
              "  padding: 0.5em;\n",
              "  box-sizing: border-box;\n",
              "  text-align: center;\n",
              "  align-items: start;\n",
              "  justify-content: space-between;\n",
              "  gap: 0.5em;\n",
              "}\n",
              "\n",
              "#sk-container-id-1 label.sk-toggleable__label .caption {\n",
              "  font-size: 0.6rem;\n",
              "  font-weight: lighter;\n",
              "  color: var(--sklearn-color-text-muted);\n",
              "}\n",
              "\n",
              "#sk-container-id-1 label.sk-toggleable__label-arrow:before {\n",
              "  /* Arrow on the left of the label */\n",
              "  content: \"▸\";\n",
              "  float: left;\n",
              "  margin-right: 0.25em;\n",
              "  color: var(--sklearn-color-icon);\n",
              "}\n",
              "\n",
              "#sk-container-id-1 label.sk-toggleable__label-arrow:hover:before {\n",
              "  color: var(--sklearn-color-text);\n",
              "}\n",
              "\n",
              "/* Toggleable content - dropdown */\n",
              "\n",
              "#sk-container-id-1 div.sk-toggleable__content {\n",
              "  max-height: 0;\n",
              "  max-width: 0;\n",
              "  overflow: hidden;\n",
              "  text-align: left;\n",
              "  /* unfitted */\n",
              "  background-color: var(--sklearn-color-unfitted-level-0);\n",
              "}\n",
              "\n",
              "#sk-container-id-1 div.sk-toggleable__content.fitted {\n",
              "  /* fitted */\n",
              "  background-color: var(--sklearn-color-fitted-level-0);\n",
              "}\n",
              "\n",
              "#sk-container-id-1 div.sk-toggleable__content pre {\n",
              "  margin: 0.2em;\n",
              "  border-radius: 0.25em;\n",
              "  color: var(--sklearn-color-text);\n",
              "  /* unfitted */\n",
              "  background-color: var(--sklearn-color-unfitted-level-0);\n",
              "}\n",
              "\n",
              "#sk-container-id-1 div.sk-toggleable__content.fitted pre {\n",
              "  /* unfitted */\n",
              "  background-color: var(--sklearn-color-fitted-level-0);\n",
              "}\n",
              "\n",
              "#sk-container-id-1 input.sk-toggleable__control:checked~div.sk-toggleable__content {\n",
              "  /* Expand drop-down */\n",
              "  max-height: 200px;\n",
              "  max-width: 100%;\n",
              "  overflow: auto;\n",
              "}\n",
              "\n",
              "#sk-container-id-1 input.sk-toggleable__control:checked~label.sk-toggleable__label-arrow:before {\n",
              "  content: \"▾\";\n",
              "}\n",
              "\n",
              "/* Pipeline/ColumnTransformer-specific style */\n",
              "\n",
              "#sk-container-id-1 div.sk-label input.sk-toggleable__control:checked~label.sk-toggleable__label {\n",
              "  color: var(--sklearn-color-text);\n",
              "  background-color: var(--sklearn-color-unfitted-level-2);\n",
              "}\n",
              "\n",
              "#sk-container-id-1 div.sk-label.fitted input.sk-toggleable__control:checked~label.sk-toggleable__label {\n",
              "  background-color: var(--sklearn-color-fitted-level-2);\n",
              "}\n",
              "\n",
              "/* Estimator-specific style */\n",
              "\n",
              "/* Colorize estimator box */\n",
              "#sk-container-id-1 div.sk-estimator input.sk-toggleable__control:checked~label.sk-toggleable__label {\n",
              "  /* unfitted */\n",
              "  background-color: var(--sklearn-color-unfitted-level-2);\n",
              "}\n",
              "\n",
              "#sk-container-id-1 div.sk-estimator.fitted input.sk-toggleable__control:checked~label.sk-toggleable__label {\n",
              "  /* fitted */\n",
              "  background-color: var(--sklearn-color-fitted-level-2);\n",
              "}\n",
              "\n",
              "#sk-container-id-1 div.sk-label label.sk-toggleable__label,\n",
              "#sk-container-id-1 div.sk-label label {\n",
              "  /* The background is the default theme color */\n",
              "  color: var(--sklearn-color-text-on-default-background);\n",
              "}\n",
              "\n",
              "/* On hover, darken the color of the background */\n",
              "#sk-container-id-1 div.sk-label:hover label.sk-toggleable__label {\n",
              "  color: var(--sklearn-color-text);\n",
              "  background-color: var(--sklearn-color-unfitted-level-2);\n",
              "}\n",
              "\n",
              "/* Label box, darken color on hover, fitted */\n",
              "#sk-container-id-1 div.sk-label.fitted:hover label.sk-toggleable__label.fitted {\n",
              "  color: var(--sklearn-color-text);\n",
              "  background-color: var(--sklearn-color-fitted-level-2);\n",
              "}\n",
              "\n",
              "/* Estimator label */\n",
              "\n",
              "#sk-container-id-1 div.sk-label label {\n",
              "  font-family: monospace;\n",
              "  font-weight: bold;\n",
              "  display: inline-block;\n",
              "  line-height: 1.2em;\n",
              "}\n",
              "\n",
              "#sk-container-id-1 div.sk-label-container {\n",
              "  text-align: center;\n",
              "}\n",
              "\n",
              "/* Estimator-specific */\n",
              "#sk-container-id-1 div.sk-estimator {\n",
              "  font-family: monospace;\n",
              "  border: 1px dotted var(--sklearn-color-border-box);\n",
              "  border-radius: 0.25em;\n",
              "  box-sizing: border-box;\n",
              "  margin-bottom: 0.5em;\n",
              "  /* unfitted */\n",
              "  background-color: var(--sklearn-color-unfitted-level-0);\n",
              "}\n",
              "\n",
              "#sk-container-id-1 div.sk-estimator.fitted {\n",
              "  /* fitted */\n",
              "  background-color: var(--sklearn-color-fitted-level-0);\n",
              "}\n",
              "\n",
              "/* on hover */\n",
              "#sk-container-id-1 div.sk-estimator:hover {\n",
              "  /* unfitted */\n",
              "  background-color: var(--sklearn-color-unfitted-level-2);\n",
              "}\n",
              "\n",
              "#sk-container-id-1 div.sk-estimator.fitted:hover {\n",
              "  /* fitted */\n",
              "  background-color: var(--sklearn-color-fitted-level-2);\n",
              "}\n",
              "\n",
              "/* Specification for estimator info (e.g. \"i\" and \"?\") */\n",
              "\n",
              "/* Common style for \"i\" and \"?\" */\n",
              "\n",
              ".sk-estimator-doc-link,\n",
              "a:link.sk-estimator-doc-link,\n",
              "a:visited.sk-estimator-doc-link {\n",
              "  float: right;\n",
              "  font-size: smaller;\n",
              "  line-height: 1em;\n",
              "  font-family: monospace;\n",
              "  background-color: var(--sklearn-color-background);\n",
              "  border-radius: 1em;\n",
              "  height: 1em;\n",
              "  width: 1em;\n",
              "  text-decoration: none !important;\n",
              "  margin-left: 0.5em;\n",
              "  text-align: center;\n",
              "  /* unfitted */\n",
              "  border: var(--sklearn-color-unfitted-level-1) 1pt solid;\n",
              "  color: var(--sklearn-color-unfitted-level-1);\n",
              "}\n",
              "\n",
              ".sk-estimator-doc-link.fitted,\n",
              "a:link.sk-estimator-doc-link.fitted,\n",
              "a:visited.sk-estimator-doc-link.fitted {\n",
              "  /* fitted */\n",
              "  border: var(--sklearn-color-fitted-level-1) 1pt solid;\n",
              "  color: var(--sklearn-color-fitted-level-1);\n",
              "}\n",
              "\n",
              "/* On hover */\n",
              "div.sk-estimator:hover .sk-estimator-doc-link:hover,\n",
              ".sk-estimator-doc-link:hover,\n",
              "div.sk-label-container:hover .sk-estimator-doc-link:hover,\n",
              ".sk-estimator-doc-link:hover {\n",
              "  /* unfitted */\n",
              "  background-color: var(--sklearn-color-unfitted-level-3);\n",
              "  color: var(--sklearn-color-background);\n",
              "  text-decoration: none;\n",
              "}\n",
              "\n",
              "div.sk-estimator.fitted:hover .sk-estimator-doc-link.fitted:hover,\n",
              ".sk-estimator-doc-link.fitted:hover,\n",
              "div.sk-label-container:hover .sk-estimator-doc-link.fitted:hover,\n",
              ".sk-estimator-doc-link.fitted:hover {\n",
              "  /* fitted */\n",
              "  background-color: var(--sklearn-color-fitted-level-3);\n",
              "  color: var(--sklearn-color-background);\n",
              "  text-decoration: none;\n",
              "}\n",
              "\n",
              "/* Span, style for the box shown on hovering the info icon */\n",
              ".sk-estimator-doc-link span {\n",
              "  display: none;\n",
              "  z-index: 9999;\n",
              "  position: relative;\n",
              "  font-weight: normal;\n",
              "  right: .2ex;\n",
              "  padding: .5ex;\n",
              "  margin: .5ex;\n",
              "  width: min-content;\n",
              "  min-width: 20ex;\n",
              "  max-width: 50ex;\n",
              "  color: var(--sklearn-color-text);\n",
              "  box-shadow: 2pt 2pt 4pt #999;\n",
              "  /* unfitted */\n",
              "  background: var(--sklearn-color-unfitted-level-0);\n",
              "  border: .5pt solid var(--sklearn-color-unfitted-level-3);\n",
              "}\n",
              "\n",
              ".sk-estimator-doc-link.fitted span {\n",
              "  /* fitted */\n",
              "  background: var(--sklearn-color-fitted-level-0);\n",
              "  border: var(--sklearn-color-fitted-level-3);\n",
              "}\n",
              "\n",
              ".sk-estimator-doc-link:hover span {\n",
              "  display: block;\n",
              "}\n",
              "\n",
              "/* \"?\"-specific style due to the `<a>` HTML tag */\n",
              "\n",
              "#sk-container-id-1 a.estimator_doc_link {\n",
              "  float: right;\n",
              "  font-size: 1rem;\n",
              "  line-height: 1em;\n",
              "  font-family: monospace;\n",
              "  background-color: var(--sklearn-color-background);\n",
              "  border-radius: 1rem;\n",
              "  height: 1rem;\n",
              "  width: 1rem;\n",
              "  text-decoration: none;\n",
              "  /* unfitted */\n",
              "  color: var(--sklearn-color-unfitted-level-1);\n",
              "  border: var(--sklearn-color-unfitted-level-1) 1pt solid;\n",
              "}\n",
              "\n",
              "#sk-container-id-1 a.estimator_doc_link.fitted {\n",
              "  /* fitted */\n",
              "  border: var(--sklearn-color-fitted-level-1) 1pt solid;\n",
              "  color: var(--sklearn-color-fitted-level-1);\n",
              "}\n",
              "\n",
              "/* On hover */\n",
              "#sk-container-id-1 a.estimator_doc_link:hover {\n",
              "  /* unfitted */\n",
              "  background-color: var(--sklearn-color-unfitted-level-3);\n",
              "  color: var(--sklearn-color-background);\n",
              "  text-decoration: none;\n",
              "}\n",
              "\n",
              "#sk-container-id-1 a.estimator_doc_link.fitted:hover {\n",
              "  /* fitted */\n",
              "  background-color: var(--sklearn-color-fitted-level-3);\n",
              "}\n",
              "</style><div id=\"sk-container-id-1\" class=\"sk-top-container\"><div class=\"sk-text-repr-fallback\"><pre>LinearRegression()</pre><b>In a Jupyter environment, please rerun this cell to show the HTML representation or trust the notebook. <br />On GitHub, the HTML representation is unable to render, please try loading this page with nbviewer.org.</b></div><div class=\"sk-container\" hidden><div class=\"sk-item\"><div class=\"sk-estimator fitted sk-toggleable\"><input class=\"sk-toggleable__control sk-hidden--visually\" id=\"sk-estimator-id-1\" type=\"checkbox\" checked><label for=\"sk-estimator-id-1\" class=\"sk-toggleable__label fitted sk-toggleable__label-arrow\"><div><div>LinearRegression</div></div><div><a class=\"sk-estimator-doc-link fitted\" rel=\"noreferrer\" target=\"_blank\" href=\"https://scikit-learn.org/1.6/modules/generated/sklearn.linear_model.LinearRegression.html\">?<span>Documentation for LinearRegression</span></a><span class=\"sk-estimator-doc-link fitted\">i<span>Fitted</span></span></div></label><div class=\"sk-toggleable__content fitted\"><pre>LinearRegression()</pre></div> </div></div></div></div>"
            ]
          },
          "metadata": {},
          "execution_count": 28
        }
      ]
    },
    {
      "cell_type": "code",
      "source": [
        "y_pred = model.predict(X_test)\n",
        "y_pred"
      ],
      "metadata": {
        "colab": {
          "base_uri": "https://localhost:8080/"
        },
        "id": "_5fglQUlb_50",
        "outputId": "f140647f-2b91-4512-98e7-26ef261f8608"
      },
      "execution_count": null,
      "outputs": [
        {
          "output_type": "execute_result",
          "data": {
            "text/plain": [
              "array([12253.79529128, 13219.66530998, 11738.66461464, 13734.79598662,\n",
              "       12125.01262212, 13219.66530998, 11545.4906109 , 13992.36132493,\n",
              "       13734.79598662, 13219.66530998, 13155.2739754 , 13219.66530998,\n",
              "       13606.01331746, 12253.79529128, 12640.14329876, 10901.5772651 ,\n",
              "       13992.36132493])"
            ]
          },
          "metadata": {},
          "execution_count": 29
        }
      ]
    },
    {
      "cell_type": "code",
      "source": [
        "from sklearn.metrics import mean_squared_error, r2_score"
      ],
      "metadata": {
        "id": "z2Kz58FOeBxz"
      },
      "execution_count": null,
      "outputs": []
    },
    {
      "cell_type": "code",
      "source": [
        "mse = mean_squared_error(y_test, y_pred)\n",
        "r2 = r2_score(y_test, y_pred)\n",
        "\n",
        "print(f'Mean Squared Error: {mse}')\n",
        "print(f'R-squared: {r2}')"
      ],
      "metadata": {
        "colab": {
          "base_uri": "https://localhost:8080/"
        },
        "id": "WCx_IG8CcFiE",
        "outputId": "02e9687e-ce3f-44f2-95fc-e33506541678"
      },
      "execution_count": null,
      "outputs": [
        {
          "output_type": "stream",
          "name": "stdout",
          "text": [
            "Mean Squared Error: 535024889.9042519\n",
            "R-squared: -0.04914624614178509\n"
          ]
        }
      ]
    },
    {
      "cell_type": "code",
      "source": [
        "# Plotting model performance\n",
        "plt.figure(figsize=(10, 6))\n",
        "plt.scatter(X_test, y_test, color='black')\n",
        "plt.plot(X_test, y_pred, color='blue', linewidth=3)\n",
        "plt.xlabel('Video Length (Seconds)')\n",
        "plt.ylabel('Views')\n",
        "plt.title('Video Length vs. Predicted Views (Shorts)')\n",
        "plt.show()"
      ],
      "metadata": {
        "colab": {
          "base_uri": "https://localhost:8080/",
          "height": 564
        },
        "id": "h-u_dEknAGdi",
        "outputId": "f96ae24e-6489-4346-c95d-e7a6c68a8493"
      },
      "execution_count": null,
      "outputs": [
        {
          "output_type": "display_data",
          "data": {
            "text/plain": [
              "<Figure size 1000x600 with 1 Axes>"
            ],
            "image/png": "[encoded data removed]"
          },
          "metadata": {}
        }
      ]
    },
    {
      "cell_type": "code",
      "source": [
        "# Calculating r2 and mse\n",
        "from sklearn.metrics import mean_squared_error, r2_score\n",
        "\n",
        "y_pred = y_pred(X)\n",
        "r2 = r2_score(y, y_pred)\n",
        "mse = mean_squared_error(y, y_pred)\n",
        "\n",
        "# Printing results\n",
        "print(f'R-squared: {r2}')\n",
        "print(f'Mean Squared Error: {mse}')"
      ],
      "metadata": {
        "colab": {
          "base_uri": "https://localhost:8080/"
        },
        "id": "Nbupo3c0N3n5",
        "outputId": "ba22b0b0-48f5-4b9b-b052-07cc73398431"
      },
      "execution_count": null,
      "outputs": [
        {
          "output_type": "stream",
          "name": "stdout",
          "text": [
            "R-squared: 4.941590709139909e-05\n",
            "Mean Squared Error: 1801201972.682013\n"
          ]
        }
      ]
    },
    {
      "cell_type": "markdown",
      "source": [
        "The model does not display almost any correlation between the length of the video and the views the video received for the YouTube Shorts created by the school (videos under 60 seconds).\n",
        "\n",
        "The low r-squared value and high MSE both indicate the model's failure to capture accurate patterns.\n",
        "\n",
        "Source for interpreting R-Squared and MSE: https://medium.com/@priyanka.talla09/understanding-r-squared-and-mean-squared-error-in-regression-tree-model-performance-494ffbf5b5ac#:~:text=A%20high%20R%C2%B2%20value%20coupled,patterns%20and%20makes%20inaccurate%20predictions."
      ],
      "metadata": {
        "id": "kD8UAadMOYRf"
      }
    },
    {
      "cell_type": "markdown",
      "source": [
        "Linear Regression Analysis\n",
        "\n",
        "Df: short_df\n",
        "\n",
        "x/Input: Video Length\n",
        "\n",
        "y/target output: View Count"
      ],
      "metadata": {
        "id": "ZziXvaCTPMgh"
      }
    },
    {
      "cell_type": "code",
      "source": [
        "X = short_df[['vid_length_seconds']]\n",
        "y = short_df['views']\n",
        "\n",
        "y_pred = LinearRegression().fit(X, y).predict"
      ],
      "metadata": {
        "id": "2WEjGJBkPBXR"
      },
      "execution_count": null,
      "outputs": []
    },
    {
      "cell_type": "code",
      "source": [
        "# Plotting actual vs predicted values\n",
        "plt.figure(figsize=(10, 6))\n",
        "plt.scatter(X, y, color='black')\n",
        "plt.plot(X, y_pred(X), color='blue', linewidth=3)\n",
        "plt.xlabel('Video Length (Seconds)')\n",
        "plt.ylabel('Views')\n",
        "plt.title('Video Length vs. Predicted Views (Short Videos)')\n",
        "plt.show()"
      ],
      "metadata": {
        "id": "Eq3XgF3tPWkS",
        "colab": {
          "base_uri": "https://localhost:8080/",
          "height": 564
        },
        "outputId": "50c6cd31-4815-42cb-c886-4f81cfec6405"
      },
      "execution_count": null,
      "outputs": [
        {
          "output_type": "display_data",
          "data": {
            "text/plain": [
              "<Figure size 1000x600 with 1 Axes>"
            ],
            "image/png": "[encoded data removed]"
          },
          "metadata": {}
        }
      ]
    },
    {
      "cell_type": "code",
      "source": [
        "y_pred = y_pred(X)\n",
        "r2 = r2_score(y, y_pred)\n",
        "mse = mean_squared_error(y, y_pred)\n",
        "\n",
        "# Printing results\n",
        "print(f'R-squared: {r2}')\n",
        "print(f'Mean Squared Error: {mse}')"
      ],
      "metadata": {
        "colab": {
          "base_uri": "https://localhost:8080/"
        },
        "id": "KaVglLhEQxXV",
        "outputId": "8df9b45b-9c56-497a-f3e9-49f075c243bb"
      },
      "execution_count": null,
      "outputs": [
        {
          "output_type": "stream",
          "name": "stdout",
          "text": [
            "R-squared: 0.01863763395845286\n",
            "Mean Squared Error: 87134663454.13171\n"
          ]
        }
      ]
    },
    {
      "cell_type": "markdown",
      "source": [
        "The model shows no correlation between the video length and view counts for for Short videos (~1-4 minutes) has similarly low r-squared and similarly high mean squared error, indicating a poor performance in predicting views based on video length."
      ],
      "metadata": {
        "id": "UFeOflX-Q1s1"
      }
    },
    {
      "cell_type": "markdown",
      "source": [
        "Linear Regression Analysis\n",
        "\n",
        "Df: average_df\n",
        "\n",
        "x/Input: Video Length\n",
        "\n",
        "y/target output: View Count"
      ],
      "metadata": {
        "id": "Z1_Aj4r1gBdR"
      }
    },
    {
      "cell_type": "code",
      "source": [
        "average_df.info()"
      ],
      "metadata": {
        "colab": {
          "base_uri": "https://localhost:8080/"
        },
        "id": "iKivq5hSgUIY",
        "outputId": "a66ab73b-1fe5-4def-d5e9-f9583c444dba"
      },
      "execution_count": null,
      "outputs": [
        {
          "output_type": "stream",
          "name": "stdout",
          "text": [
            "<class 'pandas.core.frame.DataFrame'>\n",
            "Index: 63 entries, 21 to 288\n",
            "Data columns (total 9 columns):\n",
            " #   Column              Non-Null Count  Dtype   \n",
            "---  ------              --------------  -----   \n",
            " 0   video_id            63 non-null     object  \n",
            " 1   title               63 non-null     object  \n",
            " 2   release_date        63 non-null     object  \n",
            " 3   views               63 non-null     int64   \n",
            " 4   likes               63 non-null     int64   \n",
            " 5   comments            63 non-null     int64   \n",
            " 6   tags                63 non-null     object  \n",
            " 7   vid_length          63 non-null     category\n",
            " 8   vid_length_seconds  63 non-null     float64 \n",
            "dtypes: category(1), float64(1), int64(3), object(4)\n",
            "memory usage: 4.7+ KB\n"
          ]
        }
      ]
    },
    {
      "cell_type": "code",
      "source": [
        "X = average_df[['vid_length_seconds']]\n",
        "y = average_df['views']\n",
        "\n",
        "y_pred = LinearRegression().fit(X, y).predict"
      ],
      "metadata": {
        "id": "Oz1z6-JdRrsY"
      },
      "execution_count": null,
      "outputs": []
    },
    {
      "cell_type": "code",
      "source": [
        "# Plotting actual vs predicted values\n",
        "plt.figure(figsize=(10, 6))\n",
        "plt.scatter(X, y, color='black')\n",
        "plt.plot(X, y_pred(X), color='blue', linewidth=3)\n",
        "plt.xlabel('Video Length (Seconds)')\n",
        "plt.ylabel('Views')\n",
        "plt.title('Video Length vs. Predicted Views (Shorts)')\n",
        "plt.show()"
      ],
      "metadata": {
        "colab": {
          "base_uri": "https://localhost:8080/",
          "height": 564
        },
        "id": "5bgu5PIsfmeJ",
        "outputId": "51455906-0d64-45d8-a24f-ca99301551b2"
      },
      "execution_count": null,
      "outputs": [
        {
          "output_type": "display_data",
          "data": {
            "text/plain": [
              "<Figure size 1000x600 with 1 Axes>"
            ],
            "image/png": "[encoded data removed]"
          },
          "metadata": {}
        }
      ]
    },
    {
      "cell_type": "code",
      "source": [
        "y_pred = y_pred(X)\n",
        "r2 = r2_score(y, y_pred)\n",
        "mse = mean_squared_error(y, y_pred)\n",
        "\n",
        "# Printing results\n",
        "print(f'R-squared: {r2}')\n",
        "print(f'Mean Squared Error: {mse}')"
      ],
      "metadata": {
        "colab": {
          "base_uri": "https://localhost:8080/"
        },
        "id": "POYs6le4fu-k",
        "outputId": "da9e1f95-8a9c-4ddc-adc7-7e53836cfc57"
      },
      "execution_count": null,
      "outputs": [
        {
          "output_type": "stream",
          "name": "stdout",
          "text": [
            "R-squared: 0.02633728338040542\n",
            "Mean Squared Error: 123204446.9879977\n"
          ]
        }
      ]
    },
    {
      "cell_type": "markdown",
      "source": [
        "The model that predicts values for average length videos (~5-19 minutes) has similarly low r-squared and similarly high mean squared error, indicating a poor performance in predicting views based on video length."
      ],
      "metadata": {
        "id": "GuMVY5pthrbj"
      }
    },
    {
      "cell_type": "markdown",
      "source": [
        "Linear Regression Analysis\n",
        "\n",
        "Df: long_df\n",
        "\n",
        "x/Input: Video Length\n",
        "\n",
        "y/target output: View Count"
      ],
      "metadata": {
        "id": "ucKPcqeNgZwa"
      }
    },
    {
      "cell_type": "code",
      "source": [
        "X = long_df[['vid_length_seconds']]\n",
        "y = long_df['views']\n",
        "\n",
        "y_pred = LinearRegression().fit(X, y).predict\n"
      ],
      "metadata": {
        "id": "MuC1HqNrgZXh"
      },
      "execution_count": null,
      "outputs": []
    },
    {
      "cell_type": "code",
      "source": [
        "# Plotting actual vs predicted values\n",
        "plt.figure(figsize=(10, 6))\n",
        "plt.scatter(X, y, color='black')\n",
        "plt.plot(X, y_pred(X), color='blue', linewidth=3)\n",
        "plt.xlabel('Video Length (Seconds)')\n",
        "plt.ylabel('Views')\n",
        "plt.title('Video Length vs. Predicted Views (Long Videos)')\n",
        "plt.show()"
      ],
      "metadata": {
        "colab": {
          "base_uri": "https://localhost:8080/",
          "height": 564
        },
        "id": "mnZ9iT2xhB8G",
        "outputId": "d546466a-9432-4c3c-c329-a7e65509ebbb"
      },
      "execution_count": null,
      "outputs": [
        {
          "output_type": "display_data",
          "data": {
            "text/plain": [
              "<Figure size 1000x600 with 1 Axes>"
            ],
            "image/png": "[encoded data removed]"
          },
          "metadata": {}
        }
      ]
    },
    {
      "cell_type": "code",
      "source": [
        "y_pred = y_pred(X)\n",
        "r2 = r2_score(y, y_pred)\n",
        "mse = mean_squared_error(y, y_pred)\n",
        "\n",
        "# Printing results\n",
        "print(f'R-squared: {r2}')\n",
        "print(f'Mean Squared Error: {mse}')"
      ],
      "metadata": {
        "colab": {
          "base_uri": "https://localhost:8080/"
        },
        "id": "9xwnw66PhJ13",
        "outputId": "143dceea-ef43-470a-b6f4-3dfe9363c196"
      },
      "execution_count": null,
      "outputs": [
        {
          "output_type": "stream",
          "name": "stdout",
          "text": [
            "R-squared: 0.005179064848435555\n",
            "Mean Squared Error: 7022370.421871328\n"
          ]
        }
      ]
    },
    {
      "cell_type": "markdown",
      "source": [
        "\n",
        "The model indicates that there is a low (negligible) positive correlation between video length and view count for average length videos (20+ minutes). However, the model that predicts the values has similarly low r-squared and similarly high mean squared error, indicating a poor performance in predicting views based on video length.\n"
      ],
      "metadata": {
        "id": "EsSJ4OxGhWg3"
      }
    },
    {
      "cell_type": "markdown",
      "source": [
        "Linear Regression Analysis\n",
        "\n",
        "Df: df (all videos)\n",
        "\n",
        "x/Input: Video Length\n",
        "\n",
        "y/target output: View Count"
      ],
      "metadata": {
        "id": "BmqfO3WwmrnW"
      }
    },
    {
      "cell_type": "code",
      "source": [
        "time_df.info()"
      ],
      "metadata": {
        "colab": {
          "base_uri": "https://localhost:8080/"
        },
        "id": "f3xjDQBAnM6d",
        "outputId": "f6f6814d-8f5e-4fb7-e42c-a59b0dc3bd18"
      },
      "execution_count": null,
      "outputs": [
        {
          "output_type": "stream",
          "name": "stdout",
          "text": [
            "<class 'pandas.core.frame.DataFrame'>\n",
            "RangeIndex: 289 entries, 0 to 288\n",
            "Data columns (total 9 columns):\n",
            " #   Column              Non-Null Count  Dtype   \n",
            "---  ------              --------------  -----   \n",
            " 0   video_id            289 non-null    object  \n",
            " 1   title               289 non-null    object  \n",
            " 2   release_date        289 non-null    object  \n",
            " 3   views               289 non-null    int64   \n",
            " 4   likes               289 non-null    int64   \n",
            " 5   comments            289 non-null    int64   \n",
            " 6   tags                289 non-null    object  \n",
            " 7   vid_length          288 non-null    category\n",
            " 8   vid_length_seconds  288 non-null    float64 \n",
            "dtypes: category(1), float64(1), int64(3), object(4)\n",
            "memory usage: 18.7+ KB\n"
          ]
        }
      ]
    },
    {
      "cell_type": "code",
      "source": [
        "time_df_all = time_df.copy()\n",
        "\n",
        "# Printing the rows with null values\n",
        "null_rows = time_df_all[time_df_all.isnull().any(axis=1)]\n",
        "print(null_rows)"
      ],
      "metadata": {
        "colab": {
          "base_uri": "https://localhost:8080/"
        },
        "id": "CkraLkGVnTON",
        "outputId": "5f663aab-826d-4387-a613-ad67f146a825"
      },
      "execution_count": null,
      "outputs": [
        {
          "output_type": "stream",
          "name": "stdout",
          "text": [
            "        video_id                title               release_date  views  \\\n",
            "157  lD3WCIcRsos  UAT Graduation 2019  2019-05-03 22:31:17+00:00      0   \n",
            "\n",
            "     likes  comments           tags vid_length  vid_length_seconds  \n",
            "157      0         0  Not available        NaN                 NaN  \n"
          ]
        }
      ]
    },
    {
      "cell_type": "code",
      "source": [
        "from datetime import time\n",
        "# Calculating z-scores\n",
        "z_scores = np.abs((time_df_all['vid_length_seconds'] - time_df_all['vid_length_seconds'].mean()) / time_df_all['vid_length_seconds'].std())\n",
        "\n",
        "time_df_all['zscores'] = z_scores\n",
        "\n",
        "# Displaying data based on z score\n",
        "z_score_df = time_df_all.sort_values(by='zscores', ascending=False)\n",
        "print(z_score_df.head(10))"
      ],
      "metadata": {
        "colab": {
          "base_uri": "https://localhost:8080/"
        },
        "id": "opaGMNaOoPH2",
        "outputId": "496d9cff-96b4-44c6-c61c-0320dea6be0d"
      },
      "execution_count": null,
      "outputs": [
        {
          "output_type": "stream",
          "name": "stdout",
          "text": [
            "        video_id                                              title  \\\n",
            "74   -YjnY9Pa4g4    Spring 2022 Student Innovation Project Showcase   \n",
            "94   qKUjjXR0RE4                        SIP Fall 2021 Presentations   \n",
            "16   eM14BSr5kIM              Fall 2024 Student Innovation Showcase   \n",
            "56   4X799F-f1IM  The Fall 2022 Student Innovation Project Showcase   \n",
            "70   bFCfM1swwCk  The Summer 2022 Student Innovation Project Sho...   \n",
            "51   kZC5bfUlyf4  The UAT Summer 2023 Student Innovation Project...   \n",
            "129  H-MlwGVsKjs      Student Innovation Project Showcase Fall 2020   \n",
            "55   Fuu0T6J3m9A  The Spring 2023 Student Innovation Project Sho...   \n",
            "114  L5hXdABMYnI                     UAT SIP Showcase - Summer 2021   \n",
            "156  9zpe08lQ3K8                                UAT Graduation 2019   \n",
            "\n",
            "                  release_date  views  likes  comments  \\\n",
            "74   2022-05-09 22:25:17+00:00    479     10         2   \n",
            "94   2021-12-17 23:32:28+00:00    305      9         0   \n",
            "16   2025-01-02 22:14:28+00:00     66      3         0   \n",
            "56   2023-01-06 21:40:48+00:00    294      5         0   \n",
            "70   2022-08-20 01:57:33+00:00    553      4         1   \n",
            "51   2023-08-18 06:11:06+00:00    571     11         1   \n",
            "129  2021-01-07 00:23:17+00:00    481      5         0   \n",
            "55   2023-05-04 22:22:16+00:00    310     12         0   \n",
            "114  2021-08-27 01:04:45+00:00    216      6         0   \n",
            "156  2019-05-03 23:19:29+00:00    863     15         1   \n",
            "\n",
            "                                                  tags vid_length  \\\n",
            "74                                       Not available       Long   \n",
            "94   ['innovation', 'higher education', 'technology...       Long   \n",
            "16                                       Not available       Long   \n",
            "56                                       Not available       Long   \n",
            "70                                       Not available       Long   \n",
            "51   ['UAT', 'innovation', 'Student project', 'univ...       Long   \n",
            "129                                      Not available       Long   \n",
            "55                                       Not available       Long   \n",
            "114                                      Not available       Long   \n",
            "156                                      Not available       Long   \n",
            "\n",
            "     vid_length_seconds   zscores  \n",
            "74              18955.0  5.837004  \n",
            "94              18230.0  5.594846  \n",
            "16              14480.0  4.342303  \n",
            "56              14475.0  4.340633  \n",
            "70              14201.0  4.249114  \n",
            "51              13547.0  4.030671  \n",
            "129             13019.0  3.854313  \n",
            "55              12586.0  3.709686  \n",
            "114             10862.0  3.133850  \n",
            "156             10204.0  2.914071  \n"
          ]
        }
      ]
    },
    {
      "cell_type": "code",
      "source": [
        "# Imputing the mean for video_length_seconds and applying proper video_length\n",
        "mean_length = time_df_all['vid_length_seconds'].mean()\n",
        "time_df_all['vid_length_seconds'].fillna(mean_length, inplace=True)"
      ],
      "metadata": {
        "colab": {
          "base_uri": "https://localhost:8080/"
        },
        "id": "tfFNaQ1Wnfmk",
        "outputId": "6585ea9b-6a92-42b1-9618-d2b66ceccbc8"
      },
      "execution_count": null,
      "outputs": [
        {
          "output_type": "stream",
          "name": "stderr",
          "text": [
            "<ipython-input-38-61456d1277dc>:3: FutureWarning: A value is trying to be set on a copy of a DataFrame or Series through chained assignment using an inplace method.\n",
            "The behavior will change in pandas 3.0. This inplace method will never work because the intermediate object on which we are setting values always behaves as a copy.\n",
            "\n",
            "For example, when doing 'df[col].method(value, inplace=True)', try using 'df.method({col: value}, inplace=True)' or df[col] = df[col].method(value) instead, to perform the operation inplace on the original object.\n",
            "\n",
            "\n",
            "  time_df_all['vid_length_seconds'].fillna(mean_length, inplace=True)\n"
          ]
        }
      ]
    },
    {
      "cell_type": "code",
      "source": [
        "# Imputing the mode for video length\n",
        "mode_length = time_df_all['vid_length'].mode()[0]\n",
        "time_df_all['vid_length'].fillna(mode_length, inplace=True)"
      ],
      "metadata": {
        "colab": {
          "base_uri": "https://localhost:8080/"
        },
        "id": "_tz_hI3iq3ir",
        "outputId": "f1269c33-60fd-4b6b-d8de-552f87760c4d"
      },
      "execution_count": null,
      "outputs": [
        {
          "output_type": "stream",
          "name": "stderr",
          "text": [
            "<ipython-input-33-571a9045cbd0>:3: FutureWarning: A value is trying to be set on a copy of a DataFrame or Series through chained assignment using an inplace method.\n",
            "The behavior will change in pandas 3.0. This inplace method will never work because the intermediate object on which we are setting values always behaves as a copy.\n",
            "\n",
            "For example, when doing 'df[col].method(value, inplace=True)', try using 'df.method({col: value}, inplace=True)' or df[col] = df[col].method(value) instead, to perform the operation inplace on the original object.\n",
            "\n",
            "\n",
            "  time_df_all['vid_length'].fillna(mode_length, inplace=True)\n"
          ]
        }
      ]
    },
    {
      "cell_type": "code",
      "source": [
        "null_rows = time_df_all[time_df_all.isnull().any(axis=1)]\n",
        "print(null_rows)"
      ],
      "metadata": {
        "colab": {
          "base_uri": "https://localhost:8080/"
        },
        "id": "tZjY2XFwnvyc",
        "outputId": "0e7cd4c7-5434-4bc5-d02c-7980c1b1689d"
      },
      "execution_count": null,
      "outputs": [
        {
          "output_type": "stream",
          "name": "stdout",
          "text": [
            "        video_id                title               release_date  views  \\\n",
            "157  lD3WCIcRsos  UAT Graduation 2019  2019-05-03 22:31:17+00:00      0   \n",
            "\n",
            "     likes  comments           tags vid_length  vid_length_seconds  zscores  \n",
            "157      0         0  Not available     Shorts          1479.53125      NaN  \n"
          ]
        }
      ]
    },
    {
      "cell_type": "code",
      "source": [
        "# Imputing the mean for video_length_seconds in time_df\n",
        "mean_length = time_df['vid_length_seconds'].mean()\n",
        "time_df['vid_length_seconds'].fillna(mean_length, inplace=True)\n",
        "\n",
        "X = time_df[['vid_length_seconds']]\n",
        "y = time_df['views']\n",
        "\n",
        "y_pred = LinearRegression().fit(X, y).predict"
      ],
      "metadata": {
        "colab": {
          "base_uri": "https://localhost:8080/"
        },
        "id": "TZpdtErorg2z",
        "outputId": "3baf579e-f9c0-491f-e23f-afa84725cbff"
      },
      "execution_count": null,
      "outputs": [
        {
          "output_type": "stream",
          "name": "stderr",
          "text": [
            "<ipython-input-40-889dbdb1a5a0>:3: FutureWarning: A value is trying to be set on a copy of a DataFrame or Series through chained assignment using an inplace method.\n",
            "The behavior will change in pandas 3.0. This inplace method will never work because the intermediate object on which we are setting values always behaves as a copy.\n",
            "\n",
            "For example, when doing 'df[col].method(value, inplace=True)', try using 'df.method({col: value}, inplace=True)' or df[col] = df[col].method(value) instead, to perform the operation inplace on the original object.\n",
            "\n",
            "\n",
            "  time_df['vid_length_seconds'].fillna(mean_length, inplace=True)\n"
          ]
        }
      ]
    },
    {
      "cell_type": "code",
      "source": [
        "# Plotting actual vs predicted values\n",
        "plt.figure(figsize=(10, 6))\n",
        "plt.scatter(X, y, color='black')\n",
        "plt.plot(X, y_pred(X), color='blue', linewidth=3)\n",
        "plt.xlabel('Video Length (Seconds)')\n",
        "plt.ylabel('Views')\n",
        "plt.title('Actual vs. Predicted Views (All Videos)')\n",
        "plt.show()"
      ],
      "metadata": {
        "colab": {
          "base_uri": "https://localhost:8080/",
          "height": 564
        },
        "id": "3cPPfktNrjJR",
        "outputId": "d48b0601-d27e-425e-e766-04fa288c06cf"
      },
      "execution_count": null,
      "outputs": [
        {
          "output_type": "display_data",
          "data": {
            "text/plain": [
              "<Figure size 1000x600 with 1 Axes>"
            ],
            "image/png": "[encoded data removed]"
          },
          "metadata": {}
        }
      ]
    },
    {
      "cell_type": "code",
      "source": [
        "y_pred = y_pred(X)\n",
        "r2 = r2_score(y, y_pred)\n",
        "mse = mean_squared_error(y, y_pred)\n",
        "\n",
        "# Printing results\n",
        "print(f'R-squared: {r2}')\n",
        "print(f'Mean Squared Error: {mse}')"
      ],
      "metadata": {
        "colab": {
          "base_uri": "https://localhost:8080/"
        },
        "id": "acjppLbSrrKi",
        "outputId": "bb9cbf09-a8de-43dc-fb06-11fc20e19b17"
      },
      "execution_count": null,
      "outputs": [
        {
          "output_type": "stream",
          "name": "stdout",
          "text": [
            "R-squared: 0.002044649254687503\n",
            "Mean Squared Error: 22000620280.72027\n"
          ]
        }
      ]
    },
    {
      "cell_type": "markdown",
      "source": [
        "The model indicates that there is no real correlation between video length and view count across all video lengths. However, the model that predicts those values has similarly low r-squared and similarly high mean squared error, indicating a poor performance in predicting views based on video length."
      ],
      "metadata": {
        "id": "57YHS4eZsDpO"
      }
    },
    {
      "cell_type": "code",
      "source": [
        "# Plotting actual length vs views\n",
        "plt.figure(figsize=(10, 6))\n",
        "plt.scatter(time_df['vid_length_seconds'], time_df['views'], color='black')\n",
        "plt.show()"
      ],
      "metadata": {
        "colab": {
          "base_uri": "https://localhost:8080/",
          "height": 537
        },
        "id": "N_6LhCNIrwlp",
        "outputId": "24739f38-ac1a-4ef3-f242-439738fb2218"
      },
      "execution_count": null,
      "outputs": [
        {
          "output_type": "display_data",
          "data": {
            "text/plain": [
              "<Figure size 1000x600 with 1 Axes>"
            ],
            "image/png": "[encoded data removed]"
          },
          "metadata": {}
        }
      ]
    },
    {
      "cell_type": "code",
      "source": [
        "# Hypothesis testing for significant differences in engagement based on length\n",
        "\n"
      ],
      "metadata": {
        "id": "HZ9ljxQHs-l4"
      },
      "execution_count": null,
      "outputs": []
    }
  ]
}